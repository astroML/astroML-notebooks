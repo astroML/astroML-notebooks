{
 "cells": [
  {
   "cell_type": "markdown",
   "id": "5aef29c5",
   "metadata": {
    "id": "EI3PhtVB5Ui_"
   },
   "source": [
    "# Temporally localized signals"
   ]
  },
  {
   "cell_type": "markdown",
   "id": "968debf7",
   "metadata": {
    "id": "PpdTvqxf5UjH"
   },
   "source": [
    "## Introduction\n",
    "A case frequently encountered in practice is a stationary signal with an event localized in time.  \n",
    "When the noise properties are understood, and the expected shape of the signal is known, a tool\n",
    "of choice is full forward modeling. That is, here too the analysis includes model selection and\n",
    "parameter estimation steps, and is often called a matched filter search.\n",
    "\n",
    "In this notebook, we will discuss two simple parametric models: \n",
    "1. a burst signal\n",
    "2. a chirp signal   \n",
    "\n",
    "In both examples we assume Gaussian known errors. The generalization to nonparametric models and\n",
    "more complex models can be relatively easily implemented by modifying the code developed for\n",
    "these two examples."
   ]
  },
  {
   "cell_type": "markdown",
   "id": "f300f5c9",
   "metadata": {
    "id": "9Khx0fsP5UjH"
   },
   "source": [
    "## Import functions\n",
    "We use functions from PyMC3. We will also use `FT_continuous`, `IFT_continuous`, and `wavelet_PSD` from `astroML.fourier` for wavelet PSD analysis."
   ]
  },
  {
   "cell_type": "code",
   "execution_count": null,
   "id": "61a61397",
   "metadata": {
    "executionInfo": {
     "elapsed": 1448,
     "status": "ok",
     "timestamp": 1607641545114,
     "user": {
      "displayName": "Zhouyangguang Zhao",
      "photoUrl": "",
      "userId": "12804106343770884783"
     },
     "user_tz": 480
    },
    "id": "u2dLgpHO5UjI"
   },
   "outputs": [],
   "source": [
    "import numpy as np\n",
    "from matplotlib import pyplot as plt\n",
    "\n",
    "import pymc3 as pm\n",
    "\n",
    "from astroML.plotting.mcmc import plot_mcmc\n",
    "\n",
    "from astroML.fourier import FT_continuous, IFT_continuous, wavelet_PSD"
   ]
  },
  {
   "cell_type": "markdown",
   "id": "6c80fa57",
   "metadata": {
    "id": "Mayo3NwE5UjJ"
   },
   "source": [
    "## Matched Filter Burst Search\n",
    "Consider a model where the signal is stationary, $y(t) = b_0 + \\epsilon$, and at some unknown time, T, it\n",
    "suddenly increases, followed by a decay to the original level b0 over some unknown time period.\n",
    "Let us describe such a burst by\n",
    "\n",
    "$$y_b=(t|T,A,\\theta)=A_{gB}(t-T|\\theta)$$\n",
    "\n",
    "where the function $gB$ describes the shape of the burst signal $(gB(t < 0) = 0)$. This function is\n",
    "specified by a vector of parameters $\\theta$ and can be analytic, tabulated in the form of a template,\n",
    "or treated in a nonparametric form.   \n",
    "Typically, MCMC methods are used to estimate model parameters."
   ]
  },
  {
   "cell_type": "markdown",
   "id": "a506d8de",
   "metadata": {
    "id": "OA54gOf85UjJ"
   },
   "source": [
    "### 1. set up a burst model example\n",
    "Using equation $y_b=(t|T,A,\\theta)=A_{gB}(t-T|\\theta)$, we set up a burst model as an example to show the matched filter search.  \n",
    "Here we consider a case with $gB(t|\\alpha) = exp(-\\alpha t)$. The burst data set is shown in the plot below."
   ]
  },
  {
   "cell_type": "code",
   "execution_count": null,
   "id": "88a1e6d1",
   "metadata": {
    "colab": {
     "base_uri": "https://localhost:8080/",
     "height": 243
    },
    "executionInfo": {
     "elapsed": 1062,
     "status": "ok",
     "timestamp": 1607641546336,
     "user": {
      "displayName": "Zhouyangguang Zhao",
      "photoUrl": "",
      "userId": "12804106343770884783"
     },
     "user_tz": 480
    },
    "id": "3s23f7zz5UjK",
    "outputId": "95227c3f-1e1f-4b4b-ef08-105ce8acd2c9"
   },
   "outputs": [],
   "source": [
    "# Set up toy dataset\n",
    "def burst(t, b0, A, alpha, T):\n",
    "    \"\"\"Burst model\"\"\"\n",
    "    mask = (t >= T)\n",
    "    y = b0 + mask * A * np.exp(-alpha * (t - T))\n",
    "    return y\n",
    "\n",
    "np.random.seed(0)\n",
    "\n",
    "N = 100\n",
    "b0_true = 10\n",
    "A_true = 5\n",
    "alpha_true = 0.1\n",
    "T_true = 50\n",
    "sigma = 1.0\n",
    "\n",
    "t = 100 * np.random.random(N)\n",
    "\n",
    "y_true = burst(t, b0_true, A_true, alpha_true, T_true)\n",
    "y_obs = np.random.normal(y_true, sigma)\n",
    "\n",
    "# Show the model\n",
    "fig = plt.figure(figsize=(9, 9))\n",
    "ax = fig.add_axes([0.5, 0.7, 0.45, 0.25])\n",
    "ax.scatter(t, y_obs, s=9, lw=0, c='k')\n",
    "ax.set_xlim(0, 100)\n",
    "ax.set_xlabel('$t$')\n",
    "ax.set_ylabel(r'$h_{\\rm obs}$')"
   ]
  },
  {
   "cell_type": "markdown",
   "id": "29adff07",
   "metadata": {
    "id": "eQOwXVpM5UjL"
   },
   "source": [
    "### 2. Set up and run the MCMC sampling\n",
    "We use MCMC to compute the posterior parameters in the equation, in order to fit this burst model. The parameters we estimate using MCMC are $b_0$, $A$, $T$, and $\\alpha$.  \n",
    "This cell may take more than 2 minutes to run."
   ]
  },
  {
   "cell_type": "code",
   "execution_count": null,
   "id": "8717af39",
   "metadata": {
    "colab": {
     "base_uri": "https://localhost:8080/",
     "height": 592
    },
    "executionInfo": {
     "elapsed": 827506,
     "status": "error",
     "timestamp": 1607642375097,
     "user": {
      "displayName": "Zhouyangguang Zhao",
      "photoUrl": "",
      "userId": "12804106343770884783"
     },
     "user_tz": 480
    },
    "id": "ZNjPQpnv5UjM",
    "outputId": "10e70060-01fb-4a44-e707-d19a98298d0e"
   },
   "outputs": [],
   "source": [
    "def compute_MCMC_results(draws=3000, tune=1000):\n",
    "    with pm.Model():\n",
    "        b0 = pm.Uniform('b0', 0, 50)\n",
    "        A = pm.Uniform('A', 0, 50)\n",
    "        T = pm.Uniform('T', 0, 100)\n",
    "        log_alpha = pm.Uniform('log_alpha', -10, 10)\n",
    "\n",
    "        y = pm.Normal('y', mu=burst(t, b0, A, np.exp(log_alpha), T),\n",
    "                      sd=sigma, observed=y_obs)\n",
    "\n",
    "        traces = pm.sample(draws=draws, tune=tune, return_inferencedata=False)\n",
    "\n",
    "        return traces\n",
    "\n",
    "# Use the summary() function to provide statistics for each variable\n",
    "traces = compute_MCMC_results()\n",
    "mean_vals = pm.summary(traces)['mean']\n",
    "mean_vals['alpha'] = np.exp(mean_vals.pop('log_alpha'))\n",
    "\n",
    "labels = ['$b_0$', '$A$', '$T$', r'$\\alpha$']\n",
    "\n",
    "limits = [(9.2, 11.2), (2, 12), (45, 55), (0.0, 0.25)]\n",
    "true = [b0_true, A_true, T_true, alpha_true]"
   ]
  },
  {
   "cell_type": "markdown",
   "id": "9962924c",
   "metadata": {
    "id": "u_pHsog15UjN"
   },
   "source": [
    "### 3. Show estimated model\n",
    "A matched filter search for a burst signal in time series data.  \n",
    "* The top-right panel shows simulated data set generated from a model of the form $y(t) = b_0$ for $t < T$ and $y = b_0 + A exp[-a(t - T)]$ for $t > T$, with homoscedastic Gaussian errors with sigma = 2.  \n",
    "* The posterior pdf for the four model parameters ($b_0$, $A$, $T$, and $\\alpha$) is determined using MCMC and shown in the other panels."
   ]
  },
  {
   "cell_type": "code",
   "execution_count": null,
   "id": "78c0339e",
   "metadata": {
    "id": "CTWagujV5UjN",
    "outputId": "d43e085f-0215-4b61-dd87-e1d4dcdb4547"
   },
   "outputs": [],
   "source": [
    "# Plot the results\n",
    "fig = plt.figure(figsize=(9, 9))\n",
    "fig.subplots_adjust(bottom=0.1, top=0.95,\n",
    "                    left=0.1, right=0.95,\n",
    "                    hspace=0.05, wspace=0.05)\n",
    "\n",
    "# This function plots multiple panels with the traces\n",
    "plot_mcmc([traces[i] for i in ['b0', 'A', 'T']] + [np.exp(traces['log_alpha'])],\n",
    "          labels=labels, limits=limits,\n",
    "          true_values=true, fig=fig, bins=30, colors='k')\n",
    "\n",
    "# Plot the model fit\n",
    "ax = fig.add_axes([0.5, 0.7, 0.45, 0.25])\n",
    "t_fit = np.linspace(0, 100, 101)\n",
    "y_fit = burst(t_fit, **mean_vals)\n",
    "\n",
    "ax.scatter(t, y_obs, s=9, lw=0, c='k')\n",
    "ax.plot(t_fit, y_fit, '-k')\n",
    "ax.set_xlim(0, 100)\n",
    "ax.set_xlabel('$t$')\n",
    "ax.set_ylabel(r'$h_{\\rm obs}$')\n",
    "\n",
    "plt.show()"
   ]
  },
  {
   "cell_type": "markdown",
   "id": "69a09c07",
   "metadata": {
    "id": "rV2N6iMn5UjO"
   },
   "source": [
    "## Matched Filter Chirp Search\n",
    "Here we consider a chirp signal, added to a stationary signal $b_0$,\n",
    "\n",
    "$$y(t) = b_0 + Asin[\\omega t + \\beta t^2]$$\n",
    "\n",
    "and analyze it using essentially the same code as for the burst signal."
   ]
  },
  {
   "cell_type": "markdown",
   "id": "b78fc74f",
   "metadata": {
    "id": "sDyEoV8z5UjO"
   },
   "source": [
    "### 1. set up a chirp model example\n",
    "Using equation $y(t) = b_0 + Asin[\\omega t + \\beta t^2])$, we set up a chirp model as an example to show the matched filter search.  \n",
    "The chirp data set is shown in the plot below."
   ]
  },
  {
   "cell_type": "code",
   "execution_count": null,
   "id": "1f8d7bc8",
   "metadata": {
    "id": "A3xF-9ZL5UjO",
    "outputId": "97e2ff5b-de2b-49d7-ea70-4b8a54d5a090"
   },
   "outputs": [],
   "source": [
    "# Set up toy dataset\n",
    "def chirp(t, b0, beta, A, omega):\n",
    "    return b0 + A * np.sin(omega * t + beta * t * t)\n",
    "\n",
    "np.random.seed(0)\n",
    "\n",
    "N = 100\n",
    "b0_true = 10\n",
    "A_true = 5\n",
    "beta_true = 0.01\n",
    "omega_true = 0.1\n",
    "sigma = 2.0\n",
    "\n",
    "t = 100 * np.random.random(N)\n",
    "\n",
    "y_true = chirp(t, b0_true, beta_true, A_true, omega_true)\n",
    "y_obs = np.random.normal(y_true, sigma)\n",
    "\n",
    "# show the model \n",
    "fig = plt.figure(figsize=(9, 9))\n",
    "ax = plt.axes([0.5, 0.7, 0.45, 0.25])\n",
    "plt.scatter(t, y_obs, s=9, lw=0, c='k')\n",
    "plt.xlim(0, 100)\n",
    "plt.xlabel('$t$')\n",
    "plt.ylabel(r'$h_{\\rm obs}$')"
   ]
  },
  {
   "cell_type": "markdown",
   "id": "b5241e7d",
   "metadata": {
    "id": "QqXeCZZP5UjQ"
   },
   "source": [
    "### 2. Set up and run the MCMC sampling\n",
    "We use MCMC to compute the posterior parameters in the equation, in order to fit this chirp model. The parameters we estimate using MCMC are $b_0$, $A$, $\\omega$, and $\\beta$."
   ]
  },
  {
   "cell_type": "code",
   "execution_count": null,
   "id": "bcdf995a",
   "metadata": {
    "id": "ePOUiopw5UjQ",
    "outputId": "9af9db6f-0697-4aab-a0a4-52aaa5db5772"
   },
   "outputs": [],
   "source": [
    "# Set up MCMC sampling\n",
    "with pm.Model():\n",
    "    b0 = pm.Uniform('b0', 0, 50, testval=50 * np.random.random())\n",
    "    A = pm.Uniform('A', 0, 50, testval=50 * np.random.random())\n",
    "    log_beta = pm.Uniform('log_beta', -10, 10, testval=-4.6)\n",
    "    log_omega = pm.Uniform('log_omega', -10, 10, testval=-2.3)\n",
    "\n",
    "    y = pm.Normal('y', mu=chirp(t, b0, np.exp(log_beta), A, np.exp(log_omega)),\n",
    "                  sd=sigma, observed=y_obs)\n",
    "\n",
    "    # Choose the Metropolis-Hastings step rather than rely on the default\n",
    "    step = pm.Metropolis()\n",
    "    traces = pm.sample(draws=5000, tune=2000, step=step, return_inferencedata=False)\n",
    "    \n",
    "# Use the summary() function to provide statistics for each variable\n",
    "mean_vals = pm.summary(traces)['mean']\n",
    "mean_vals['omega'] = np.exp(mean_vals.pop('log_omega'))\n",
    "mean_vals['beta'] = np.exp(mean_vals.pop('log_beta'))\n",
    "\n",
    "labels = ['$b_0$', '$A$', r'$\\omega$', r'$\\beta$']\n",
    "limits = [(9.5, 11.3), (3.6, 6.4), (0.065, 0.115), (0.00975, 0.01045)]\n",
    "true = [b0_true, A_true, omega_true, beta_true]"
   ]
  },
  {
   "cell_type": "markdown",
   "id": "df2c7b6c",
   "metadata": {
    "id": "F15YKSuy5UjR"
   },
   "source": [
    "### 3. Show estimated model\n",
    "A matched filter search for a chirp signal in time series data.  \n",
    "* The top-right panel shows a simulated data set generated from a model of the form $y = b_0+Asin[\\omega t + \\beta t^2]$, with homoscedastic Gaussian errors with sigma = 2.\n",
    "* The posterior pdf for the four model parameters ($b_0$, $A$, $\\omega$, and $\\beta$) is determined using MCMC and shown in the other panels.  \n",
    "\n",
    "Note that here the second term in the argument of the sine function above ($\\beta t^2$) produces the\n",
    "effect of increasing frequency in the signal seen in the top-right panel. The resulting fit shows a\n",
    "strong inverse correlation between $\\beta$ and $\\omega$. This is expected because they both act to increase the\n",
    "frequency: starting from a given model, slightly increasing one while slightly decreasing the other\n",
    "leads to a very similar prediction."
   ]
  },
  {
   "cell_type": "code",
   "execution_count": null,
   "id": "cf43d311",
   "metadata": {
    "id": "WrZKJI_p5UjR",
    "outputId": "73bb0ccf-a6b9-4b28-a3cf-60e40871b28a"
   },
   "outputs": [],
   "source": [
    "# Plot the model fit\n",
    "fig = plt.figure(figsize=(9, 9))\n",
    "ax = plt.axes([0.5, 0.7, 0.45, 0.25])\n",
    "t_fit = np.linspace(0, 100, 1001)\n",
    "y_fit = chirp(t_fit, **mean_vals)\n",
    "\n",
    "# Plot multiple panels with the traces\n",
    "plt.scatter(t, y_obs, s=9, lw=0, c='k')\n",
    "plt.plot(t_fit, y_fit, '-k')\n",
    "plt.xlim(0, 100)\n",
    "plt.xlabel('$t$')\n",
    "plt.ylabel(r'$h_{\\rm obs}$')\n",
    "\n",
    "plot_mcmc([traces[ii] for ii in ['b0', 'A']]\n",
    "          + [np.exp(traces['log_omega']), np.exp(traces['log_beta'])],\n",
    "          labels=labels, limits=limits, true_values=true, fig=fig,\n",
    "          bins=30, bounds=[0.12, 0.08, 0.95, 0.91], colors='k')\n",
    "plt.show()"
   ]
  },
  {
   "cell_type": "markdown",
   "id": "2505b919",
   "metadata": {
    "id": "1HxhR_s95UjS"
   },
   "source": [
    "# Matched Filter Chirp Search\n",
    "A more complex ten-parameter case of chirp modeling is show in this matched filter chirp search example. The chirp signal is\n",
    "temporally localized and it decays exponentially for t > T:\n",
    "\n",
    "$$y_C(t|T, A, \\phi, \\omega, \\beta) = A sin[\\phi + \\omega(t - T) + \\beta(t - T)^2] exp[-\\alpha(t - T)]$$"
   ]
  },
  {
   "cell_type": "markdown",
   "id": "db9af90e",
   "metadata": {
    "id": "DZG2RECb5UjT"
   },
   "source": [
    "### 1. set up a chirp model example\n",
    "Using equation $y(t) = b_0 + Asin[\\omega t + \\beta t^2])$, we set up a chirp model as an example to show the matched filter search.  \n",
    "The chirp data set is shown in the plot below."
   ]
  },
  {
   "cell_type": "code",
   "execution_count": null,
   "id": "06abaa06",
   "metadata": {
    "id": "RjH97FCb5UjT",
    "outputId": "ddb10639-d98e-49ba-8bb7-c70eb5bb3a1f"
   },
   "outputs": [],
   "source": [
    "# Set up toy dataset\n",
    "def chirp(t, T, A, phi, omega, beta):\n",
    "    \"\"\"chirp signal\"\"\"\n",
    "    mask = (t >= T)\n",
    "    signal = mask * (A * np.sin(phi + omega * (t - T) + beta * (t - T) ** 2))\n",
    "    return signal\n",
    "\n",
    "\n",
    "def background(t, b0, b1, omega1, omega2):\n",
    "    \"\"\"background signal\"\"\"\n",
    "    return b0 + b1 * np.sin(omega1 * t) * np.sin(omega2 * t)\n",
    "\n",
    "\n",
    "np.random.seed(0)\n",
    "N = 500\n",
    "T_true = 30\n",
    "A_true = 0.8\n",
    "phi_true = np.pi / 2\n",
    "omega_true = 0.1\n",
    "beta_true = 0.02\n",
    "b0_true = 0.5\n",
    "b1_true = 1.0\n",
    "omega1_true = 0.3\n",
    "omega2_true = 0.4\n",
    "sigma = 0.1\n",
    "\n",
    "t = 100 * np.random.random(N)\n",
    "\n",
    "signal = chirp(t, T_true, A_true, phi_true, omega_true, beta_true)\n",
    "bg = background(t, b0_true, b1_true, omega1_true, omega2_true)\n",
    "\n",
    "y_true = signal + bg\n",
    "\n",
    "y_obs = np.random.normal(y_true, sigma)\n",
    "\n",
    "t_fit = np.linspace(0, 100, 1000)\n",
    "y_fit = (chirp(t_fit, T_true, A_true, phi_true, omega_true, beta_true) +\n",
    "         background(t_fit, b0_true, b1_true, omega1_true, omega2_true))\n",
    "\n",
    "# show the model\n",
    "fig = plt.figure(figsize=(9, 9))\n",
    "ax = fig.add_axes([0.52, 0.7, 0.43, 0.25])\n",
    "ax.scatter(t, y_obs, s=9, lw=0, c='k')\n",
    "ax.set_xlim(0, 100)\n",
    "ax.set_xlabel('$t$')\n",
    "ax.set_ylabel(r'$h_{\\rm obs}$')"
   ]
  },
  {
   "cell_type": "markdown",
   "id": "d9d83009",
   "metadata": {
    "id": "BsJXTeQd5UjU"
   },
   "source": [
    "### 2. Set up and run the MCMC sampling\n",
    "We use MCMC to compute the posterior parameters in the equation, in order to fit this chirp model. The parameters we estimate using MCMC are $T$, $A$, $\\omega$, and $\\beta$."
   ]
  },
  {
   "cell_type": "code",
   "execution_count": null,
   "id": "0802f80a",
   "metadata": {
    "id": "Tjw0kyog5UjU"
   },
   "outputs": [],
   "source": [
    "# Set up and run MCMC sampling\n",
    "\n",
    "with pm.Model():\n",
    "\n",
    "    T = pm.Uniform('T', 0, 100, testval=T_true)\n",
    "    A = pm.Uniform('A', 0, 100, testval=A_true)\n",
    "    phi = pm.Uniform('phi', -np.pi, np.pi, testval=phi_true)\n",
    "\n",
    "    b0 = pm.Uniform('b0', 0, 100, testval=b0_true)\n",
    "    b1 = pm.Uniform('b1', 0, 100, testval=b1_true)\n",
    "\n",
    "    log_omega1 = pm.Uniform('log_omega1', -3, 0, testval=np.log(omega1_true))\n",
    "    log_omega2 = pm.Uniform('log_omega2', -3, 0, testval=np.log(omega2_true))\n",
    "\n",
    "    omega = pm.Uniform('omega', 0.001, 1, testval=omega_true)\n",
    "    beta = pm.Uniform('beta', 0.001, 1, testval=beta_true)\n",
    "\n",
    "    y = pm.Normal('y', mu=(chirp(t, T, A, phi, omega, beta)\n",
    "                           + background(t, b0, b1, np.exp(log_omega1), np.exp(log_omega2))),\n",
    "                  tau=sigma ** -2, observed=y_obs)\n",
    "\n",
    "    step = pm.Metropolis()\n",
    "\n",
    "    traces = pm.sample(draws=5000, tune=2000, step=step, return_inferencedata=False)\n",
    "\n",
    "\n",
    "labels = ['$T$', '$A$', r'$\\omega$', r'$\\beta$']\n",
    "limits = [(29.75, 30.25), (0.75, 0.83), (0.085, 0.115), (0.0197, 0.0202)]\n",
    "true = [T_true, A_true, omega_true, beta_true]"
   ]
  },
  {
   "cell_type": "markdown",
   "id": "00df13d2",
   "metadata": {
    "id": "893gQ8w25UjU"
   },
   "source": [
    "### 3. Show estimated model\n",
    "A matched filter search for a chirp signal in time series data.  \n",
    "* The top-right panel shows a simulated data set generated from the chirp model.\n",
    "* The posterior pdf for the four model parameters ($T$, $A$, $\\omega$, and $\\beta$) is determined using MCMC and shown in the other panels.  \n",
    "* Seven of the parameters can be considered nuisance parameters, and we marginalize over them in the likelihood contours shown here."
   ]
  },
  {
   "cell_type": "code",
   "execution_count": null,
   "id": "2924a435",
   "metadata": {
    "id": "XvnpPld75UjU",
    "outputId": "37c205b0-1b0b-4ccd-df8c-4a5e9ef8af03"
   },
   "outputs": [],
   "source": [
    "# Plot results\n",
    "fig = plt.figure(figsize=(9, 9))\n",
    "\n",
    "# This function plots multiple panels with the traces\n",
    "axes_list = plot_mcmc([traces[i] for i in ['T', 'A', 'omega', 'beta']],\n",
    "                      labels=labels, limits=limits,\n",
    "                      true_values=true, fig=fig,\n",
    "                      bins=30, colors='k',\n",
    "                      bounds=[0.14, 0.08, 0.95, 0.95])\n",
    "\n",
    "for ax in axes_list:\n",
    "    for axis in [ax.xaxis, ax.yaxis]:\n",
    "        axis.set_major_locator(plt.MaxNLocator(5))\n",
    "\n",
    "ax = fig.add_axes([0.52, 0.7, 0.43, 0.25])\n",
    "ax.scatter(t, y_obs, s=9, lw=0, c='k')\n",
    "ax.plot(t_fit, y_fit, '-k')\n",
    "ax.set_xlim(0, 100)\n",
    "ax.set_xlabel('$t$')\n",
    "ax.set_ylabel(r'$h_{\\rm obs}$')"
   ]
  },
  {
   "cell_type": "markdown",
   "id": "e1b9842d",
   "metadata": {
    "id": "W0hNiUDu5UjV"
   },
   "source": [
    "## Chirp wavelet PSD\n",
    "The signal in the absence of chirp is taken as\n",
    "\n",
    "$$y(t) = b_0 + b_1 sin(\\omega_1 t) sin(\\omega_2 t)$$\n",
    "\n",
    "Here, we can consider parameters $A$, $\\omega$, $\\beta$, and $\\alpha$ as \"interesting,\" and other parameters can\n",
    "be treated as \"nuisance.\"  \n",
    "We will take the same chirp signal above and draw a wavelet PSD for demonstration."
   ]
  },
  {
   "cell_type": "markdown",
   "id": "31c381f0",
   "metadata": {
    "id": "tPeRLpFT5UjV"
   },
   "source": [
    "### 1. compute the wavelet PSD of chirp model\n",
    "We use the previous complex ten-parameter case of chirp modeling, and compute its wavelet PSD."
   ]
  },
  {
   "cell_type": "code",
   "execution_count": null,
   "id": "12f90f8f",
   "metadata": {
    "id": "5fjUXHVJ5UjV"
   },
   "outputs": [],
   "source": [
    "np.random.seed(42)\n",
    "N = 4096\n",
    "t = np.linspace(-50, 50, N)\n",
    "h_true = chirp(t, -20, 0.8, 0, 0.2, 0.02)\n",
    "h = h_true + np.random.normal(0, 1, N)\n",
    "\n",
    "f0 = np.linspace(0.04, 0.6, 100)\n",
    "\n",
    "# compute wavelet PSD\n",
    "wPSD = wavelet_PSD(t, h, f0, Q=1.0)"
   ]
  },
  {
   "cell_type": "markdown",
   "id": "59c0b856",
   "metadata": {
    "id": "VyY7KQR25UjW"
   },
   "source": [
    "### 2. plot signal and wavelet\n",
    "Here, the signal with an amplitude of A = 0.8 is sampled in 4096 evenly spaced bins, and with Gaussian noise with sigma = 1. The two-dimensional wavelet PSD easily recovers the increase of characteristic chirp frequency with time."
   ]
  },
  {
   "cell_type": "code",
   "execution_count": null,
   "id": "9d537f1e",
   "metadata": {
    "id": "gFpt_eal5UjW",
    "outputId": "b99e320e-8136-40d1-d368-c8fe63b4b6b5"
   },
   "outputs": [],
   "source": [
    "# Plot the  results\n",
    "fig = plt.figure(figsize=(5, 3.75))\n",
    "fig.subplots_adjust(hspace=0.05, left=0.1, right=0.95, bottom=0.1, top=0.95)\n",
    "\n",
    "# Top: plot the data\n",
    "ax = fig.add_subplot(211)\n",
    "ax.plot(t + 50, h, '-', c='#AAAAAA')\n",
    "ax.plot(t + 50, h_true, '-k')\n",
    "\n",
    "ax.text(0.02, 0.95, \"Input Signal: chirp\",\n",
    "        ha='left', va='top', transform=ax.transAxes,\n",
    "        bbox=dict(boxstyle='round', fc='w', ec='k'))\n",
    "\n",
    "ax.set_xlim(0, 100)\n",
    "ax.set_ylim(-2.9, 2.9)\n",
    "ax.xaxis.set_major_formatter(plt.NullFormatter())\n",
    "ax.set_ylabel('$h(t)$')\n",
    "\n",
    "# Bottom: plot the 2D PSD\n",
    "ax = fig.add_subplot(212)\n",
    "ax.imshow(wPSD, origin='lower', aspect='auto',\n",
    "          extent=[t[0] + 50, t[-1] + 50, f0[0], f0[-1]],\n",
    "          cmap=plt.cm.binary)\n",
    "\n",
    "ax.text(0.02, 0.95, (\"Wavelet PSD\"), color='w',\n",
    "        ha='left', va='top', transform=ax.transAxes)\n",
    "\n",
    "ax.set_xlim(0, 100)\n",
    "ax.set_ylim(0.04, 0.6001)\n",
    "ax.set_xlabel('$t$')\n",
    "ax.set_ylabel('$f_0$')\n",
    "\n",
    "plt.show()"
   ]
  }
 ],
 "metadata": {
  "jupytext": {
   "formats": "ipynb,md:myst",
   "text_representation": {
    "extension": ".md",
    "format_name": "myst",
    "format_version": 0.13,
    "jupytext_version": "1.11.1"
   }
  },
  "kernelspec": {
   "display_name": "Python 3",
   "language": "python",
   "name": "python3"
  },
  "source_map": [
   15,
   20,
   36,
   41,
   64,
   78,
   84,
   131,
   137,
   179,
   186,
   215,
   224,
   230,
   261,
   266,
   294,
   307,
   331,
   339,
   345,
   397,
   402,
   436,
   444,
   470,
   481,
   486,
   501,
   506
  ]
 },
 "nbformat": 4,
 "nbformat_minor": 5
}