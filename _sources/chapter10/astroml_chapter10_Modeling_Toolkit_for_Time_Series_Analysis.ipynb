{
 "cells": [
  {
   "cell_type": "markdown",
   "id": "e245ce37",
   "metadata": {
    "id": "W_l-7O_Ed1MV"
   },
   "source": [
    "# Modeling Toolkit For Time Series Analysis"
   ]
  },
  {
   "cell_type": "markdown",
   "id": "54ee99f8",
   "metadata": {
    "id": "Wz5lwLnld1Mb"
   },
   "source": [
    "## Introduction\n",
    "In this notebook, we are going to learn fundamental concepts and tools for analyzing time series data. From an astronomical perspective, this field has predominantly focused on unevenly sampled data, low signal-to-noise data, and heteroscedastic errors. The most common applications range from the detection of variability and periodicity to the treatment of nonperiodic\n",
    "variability and searches for localized events.  \n",
    "Despite being set in the context of time series, many tools and results are readily applicable in other domains, which we will see later in this notebook. We will extend this toolkit by introducing tools for analysis\n",
    "in the frequency domain, such as Fourier analysis, discrete Fourier transform, wavelet analysis and\n",
    "digital filtering.  \n",
    "The main data sets used in this chapter include light curves obtained by the [LINEAR survey](https://arxiv.org/abs/1505.02082) (Lincoln Near-Earth Asteroid Research)."
   ]
  },
  {
   "cell_type": "markdown",
   "id": "b88a4407",
   "metadata": {
    "id": "5MH0kypUd1Me"
   },
   "source": [
    "## Main concepts for time series analysis\n",
    "The time series discussed here will be limited to two-dimensional scalar data sets: pairs of random variables, ($t_1$, $y_1$),...,($t_N$; $y_N$), with no assumptions about the sampling of the time coordinate t. In many ways, analysis methods discussed here are closely related to the parameter estimation and model selection problems discussed in the context of regression. However, unlike regression problems where different y measurements are typically treated as independent random\n",
    "variables, in such models the value of $y_{i+1}$ directly depends on the preceding value $y_i$.  \n",
    "  \n",
    "The main tasks of time series analysis are:  \n",
    "1. To characterize the presumed temporal correlation between different values of y, including its significance.  \n",
    "2. To forecast (predict) future values of y."
   ]
  },
  {
   "cell_type": "markdown",
   "id": "090c1997",
   "metadata": {
    "id": "cjlARqU7d1Mh"
   },
   "source": [
    "### Import Functions and Packages"
   ]
  },
  {
   "cell_type": "code",
   "execution_count": null,
   "id": "1e25a37e",
   "metadata": {
    "id": "AdBdcKyud1Mj"
   },
   "outputs": [],
   "source": [
    "import numpy as np\n",
    "from matplotlib import pyplot as plt\n",
    "\n",
    "from astroML.datasets import fetch_rrlyrae_templates\n",
    "\n",
    "from scipy.signal import fftconvolve\n",
    "\n",
    "from scipy import fftpack\n",
    "from matplotlib import mlab\n",
    "\n",
    "from astroML.datasets import fetch_LIGO_large\n",
    "\n",
    "from scipy.fftpack import fft\n",
    "from scipy.stats import norm\n",
    "\n",
    "from astroML.fourier import PSD_continuous"
   ]
  },
  {
   "cell_type": "code",
   "execution_count": null,
   "id": "17cb9a7e",
   "metadata": {},
   "outputs": [],
   "source": [
    "from astroML.plotting import setup_text_plots\n",
    "setup_text_plots(usetex=True)"
   ]
  },
  {
   "cell_type": "markdown",
   "id": "ee7c62f4",
   "metadata": {
    "id": "TY_9dGYfd1Mz"
   },
   "source": [
    "## 1. Fourier analysis\n",
    "Fourier analysis plays a major role in the analysis of time series data. In Fourier analysis, general\n",
    "functions are represented or approximated by integrals or sums of simpler trigonometric functions.   \n",
    "\n",
    "For periodic functions, such as periodic light curves\n",
    "in astronomy, it is often true that a relatively small number of terms (less than 10) suffices to reach\n",
    "an approximation precision level similar to the measurement precision."
   ]
  },
  {
   "cell_type": "markdown",
   "id": "4ef2b945",
   "metadata": {
    "id": "__8znqDsd1M0"
   },
   "source": [
    "## Some useful concepts\n",
    "The **Fourier transform** of function h(t) is defined as\n",
    "\n",
    "$$H(f)=\\int_{-\\infty}^{\\infty} h(t) exp(-i2\\pi ft)dt$$\n",
    "\n",
    "with **inverse transformation**\n",
    "\n",
    "$$h(t)=\\int_{-\\infty}^{\\infty} H(t) exp(-i2\\pi ft)df$$\n",
    "\n",
    "where t is time and f is frequency (for time in seconds, the unit for frequency is hertz, or Hz; the\n",
    "units for H(f) are the product of the units for h(t) and inverse hertz.  \n",
    "For a real function h(t), H(f) is in general a complex function.  \n",
    "In the special case when h(t) is an even function such that h(-t) = h(t), H(f) is real and even as well. For example, the\n",
    "Fourier transform of a pdf of a zero-mean Gaussian $N(0, \\sigma)$ in the time domain is a Gaussian\n",
    "$H(f) = exp(-2\\pi^2 \\sigma^2 f^2)$ in the frequency domain.  \n",
    "When the time axis of an arbitrary function\n",
    "h(t) is shifted by $\\Delta t$, then the Fourier transform of $h(t + \\Delta t)$ is\n",
    "\n",
    "$$\\int_{-\\infty}^{\\infty}h(t+\\Delta t)exp(-i2\\pi ft)dt = H(f)exp(i2\\pi f\\Delta t)$$\n",
    "\n",
    "Therefore, the **Fourier transform of a Gaussian $N(\\mu, \\sigma)$** is\n",
    "\n",
    "$$H_{Gauss}(f)=exp(-2\\pi^2\\sigma^2f^2)[cos(2\\pi f\\mu)+isin(2\\pi f \\mu)]$$\n",
    "\n",
    "This is known as **\"white noise\"** since there is no frequency\n",
    "dependence (also known as \"thermal noise\" or Johnson's noise).  \n",
    "An important quantity in time series analysis is the one-sided **power spectral density (PSD)** function\n",
    "(or power spectrum) defined for $0 \\leq f < \\infty$ as\n",
    "\n",
    "$$PSD(f) \\equiv |H(f)|^2+|H(-f)|^2$$\n",
    "\n",
    "The PSD gives the amount of power contained in the frequency interval between f and f + df.  \n",
    "The total power is the same whether computed in the frequency or the time domain:\n",
    "\n",
    "$$P_{tot} \\equiv \\int_0^{\\infty}PSD(f)df=\\int_{-\\infty}^{\\infty}|h(t)|^2dt$$\n",
    "\n",
    "This result is known as **Parseval's theorem**."
   ]
  },
  {
   "cell_type": "markdown",
   "id": "d3f671df",
   "metadata": {
    "id": "3ZOruSvtd1M2"
   },
   "source": [
    "### (1) Fourier Reconstruction of RR-Lyrae Templates\n",
    "Below is an example of a truncated Fourier representation of an RR Lyrae light curve. As we can see, the more terms that are included in the sum, the better is the resulting approximation."
   ]
  },
  {
   "cell_type": "markdown",
   "id": "f80af153",
   "metadata": {
    "id": "uDhfCgond1M3"
   },
   "source": [
    "#### Import a RR Lyrae template\n",
    "From astroML.datasets, we take the RR Lyrae (variable star) light curve as an example. RR Lyrae has a periodical pulsation."
   ]
  },
  {
   "cell_type": "code",
   "execution_count": null,
   "id": "086019b9",
   "metadata": {
    "colab": {
     "base_uri": "https://localhost:8080/",
     "height": 52
    },
    "executionInfo": {
     "elapsed": 959,
     "status": "ok",
     "timestamp": 1603475202530,
     "user": {
      "displayName": "Brigitta Sipocz",
      "photoUrl": "https://lh3.googleusercontent.com/a-/AOh14GgSZ5lvx2m0gmkej0jid6to7H2aVpPwrDwknsPBVg=s64",
      "userId": "02384660603430700458"
     },
     "user_tz": 420
    },
    "id": "GGdvCWIId1M5",
    "outputId": "c2980c97-4ea1-4418-f637-0bb481d97b66"
   },
   "outputs": [],
   "source": [
    "templates = fetch_rrlyrae_templates()\n",
    "x, y = templates['115r'].T"
   ]
  },
  {
   "cell_type": "markdown",
   "id": "12f9fc04",
   "metadata": {
    "id": "jm4osB-Zd1ND"
   },
   "source": [
    "#### Show Fourier reconstruction results\n",
    "The thick dashed line shows the true curve; the gray lines show the approximation based on 1, 3, and 8 Fourier modes (sinusoids)."
   ]
  },
  {
   "cell_type": "code",
   "execution_count": null,
   "id": "592bec37",
   "metadata": {
    "colab": {
     "base_uri": "https://localhost:8080/",
     "height": 334
    },
    "executionInfo": {
     "elapsed": 603,
     "status": "ok",
     "timestamp": 1603475206059,
     "user": {
      "displayName": "Brigitta Sipocz",
      "photoUrl": "https://lh3.googleusercontent.com/a-/AOh14GgSZ5lvx2m0gmkej0jid6to7H2aVpPwrDwknsPBVg=s64",
      "userId": "02384660603430700458"
     },
     "user_tz": 420
    },
    "id": "fuKpmnENd1NF",
    "outputId": "6409e39c-6b29-4a7d-82e3-84060bc15352"
   },
   "outputs": [],
   "source": [
    "fig = plt.figure(figsize=(5, 5))\n",
    "fig.subplots_adjust(hspace=0)\n",
    "\n",
    "kvals = [1, 3, 8]\n",
    "subplots = [311, 312, 313]\n",
    "\n",
    "for (k, subplot) in zip(kvals, subplots):\n",
    "    ax = fig.add_subplot(subplot)\n",
    "\n",
    "    # Use FFT to fit a truncated Fourier series\n",
    "    y_fft = np.fft.fft(y)\n",
    "    y_fft[k + 1:-k] = 0\n",
    "    y_fit = np.fft.ifft(y_fft).real\n",
    "\n",
    "    # plot the true value and the k-term reconstruction\n",
    "    ax.plot(np.concatenate([x, 1 + x]),\n",
    "            np.concatenate([y, y]), '--k', lw=2)\n",
    "    ax.plot(np.concatenate([x, 1 + x]),\n",
    "            np.concatenate([y_fit, y_fit]), color='gray')\n",
    "\n",
    "    label = \"%i mode\" % k\n",
    "    if k > 1:\n",
    "        label += 's'\n",
    "\n",
    "    ax.text(0.02, 0.1, label, ha='left', va='bottom',\n",
    "            transform=ax.transAxes)\n",
    "\n",
    "    if subplot == subplots[-1]:\n",
    "        ax.set_xlabel('phase')\n",
    "    else:\n",
    "        ax.xaxis.set_major_formatter(plt.NullFormatter())\n",
    "\n",
    "    if subplot == subplots[1]:\n",
    "        ax.set_ylabel('amplitude')\n",
    "    ax.yaxis.set_major_formatter(plt.NullFormatter())\n",
    "\n",
    "    ax.set_xlim(0, 2)\n",
    "    ax.set_ylim(1.1, -0.1)\n",
    "\n",
    "plt.show()"
   ]
  },
  {
   "cell_type": "markdown",
   "id": "75ceebdb",
   "metadata": {
    "id": "Ud72xBPPd1NP"
   },
   "source": [
    "### (2) Convolution Theorem\n",
    "A convolution of two functions $a(t)$ and $b(t)$ is given by\n",
    "\n",
    "$$(a*b)(t) \\equiv \\int_{-\\infty}^{\\infty} a(t')b(t-t')dt'$$\n",
    "\n",
    "In the above equation, the function a can\n",
    "be thought of as the \"convolving pattern\" of the measuring apparatus, and the function $b$ is the\n",
    "signal. In practice, we measure the convolved (or smoothed) version of our signal, $[a * b](t)$, and\n",
    "seek to uncover the original signal $b$ using the presumably known $a$.  \n",
    "The convolution theorem states that if $h = a * b$, then the Fourier transforms of $h$, $a$, and $b$ are\n",
    "related by their pointwise products:\n",
    "\n",
    "$$H(f)=A(f)B(f)$$\n",
    "\n",
    "Thus a convolution of two functions is transformed into a simple multiplication of the associated\n",
    "Fourier representations. Therefore, to obtain $b$, we can simply take the inverse Fourier transform\n",
    "of the ratio $H(f)=A(f)$. In the absence of noise, this operation is exact.  \n",
    "  \n",
    "For further explanation, we will see a schematic representation of the convolution theorem below."
   ]
  },
  {
   "cell_type": "markdown",
   "id": "1be3b47f",
   "metadata": {
    "id": "-pn_fvkld1NQ"
   },
   "source": [
    "#### Generate data and define function\n",
    "Generate random x, y with a given covariance length. Then we define a normalized top-hat window function."
   ]
  },
  {
   "cell_type": "code",
   "execution_count": null,
   "id": "51c9eb84",
   "metadata": {
    "id": "pBOLaHxgd1NS"
   },
   "outputs": [],
   "source": [
    "# Generate data\n",
    "np.random.seed(1)\n",
    "x = np.linspace(0, 1, 500)\n",
    "h = 0.01\n",
    "C = np.exp(-0.5 * (x - x[:, None]) ** 2 / h ** 2)\n",
    "y = 0.8 + 0.3 * np.random.multivariate_normal(np.zeros(len(x)), C)\n",
    "\n",
    "# define function\n",
    "w = np.zeros_like(x)\n",
    "w[(x > 0.12) & (x < 0.28)] = 1"
   ]
  },
  {
   "cell_type": "markdown",
   "id": "ebc69e82",
   "metadata": {
    "id": "ItbkRO3Od1Nb"
   },
   "source": [
    "#### Show data and window function\n",
    "The graph below show simulated data $D(x)$ in black line, and top-hat window function $W(x)$ in gray boxes."
   ]
  },
  {
   "cell_type": "code",
   "execution_count": null,
   "id": "e6a6a708",
   "metadata": {
    "colab": {
     "base_uri": "https://localhost:8080/",
     "height": 345
    },
    "executionInfo": {
     "elapsed": 707,
     "status": "ok",
     "timestamp": 1603475216373,
     "user": {
      "displayName": "Brigitta Sipocz",
      "photoUrl": "https://lh3.googleusercontent.com/a-/AOh14GgSZ5lvx2m0gmkej0jid6to7H2aVpPwrDwknsPBVg=s64",
      "userId": "02384660603430700458"
     },
     "user_tz": 420
    },
    "id": "vJ0v8K_Id1Nc",
    "outputId": "b37c8854-d9db-4df3-e18c-baf423a3f571"
   },
   "outputs": [],
   "source": [
    "# Set up the plots\n",
    "fig = plt.figure(figsize=(5, 5))\n",
    "ax1 = fig.add_subplot(111)\n",
    "\n",
    "# plot the data and window function\n",
    "ax1.plot(x, y, '-k', label=r'data $D(x)$')\n",
    "ax1.fill(x, w, color='gray', alpha=0.5,\n",
    "        label=r'window $W(x)$')\n",
    "ax1.fill(x, w[::-1], color='gray', alpha=0.5)\n",
    "\n",
    "ax1.legend()\n",
    "ax1.xaxis.set_major_formatter(plt.NullFormatter())\n",
    "\n",
    "ax1.set_xlabel('$x$')\n",
    "ax1.set_ylabel('$D$')\n",
    "\n",
    "ax1.set_xlim(0.01, 0.99)\n",
    "ax1.set_ylim(0.0, 2.0)"
   ]
  },
  {
   "cell_type": "markdown",
   "id": "655972c8",
   "metadata": {
    "id": "FVbNylWZd1Nk"
   },
   "source": [
    "#### Compute the Fourier transforms of the signal and window"
   ]
  },
  {
   "cell_type": "code",
   "execution_count": null,
   "id": "d53b8f99",
   "metadata": {
    "id": "KtaTXE0Xd1Nl"
   },
   "outputs": [],
   "source": [
    "y_fft = np.fft.fft(y)\n",
    "w_fft = np.fft.fft(w)\n",
    "\n",
    "yw_fft = y_fft * w_fft\n",
    "yw_final = np.fft.ifft(yw_fft)"
   ]
  },
  {
   "cell_type": "markdown",
   "id": "f01db2e9",
   "metadata": {
    "id": "fx5OjrM5d1Nq"
   },
   "source": [
    "#### Show Fourier Transform result of two functions\n",
    "The function on the top shows the Fourier transform of $D(x)$ and the bottom shows the transform of $W(x)$."
   ]
  },
  {
   "cell_type": "code",
   "execution_count": null,
   "id": "9706b85c",
   "metadata": {
    "colab": {
     "base_uri": "https://localhost:8080/",
     "height": 351
    },
    "executionInfo": {
     "elapsed": 635,
     "status": "ok",
     "timestamp": 1603475233896,
     "user": {
      "displayName": "Brigitta Sipocz",
      "photoUrl": "https://lh3.googleusercontent.com/a-/AOh14GgSZ5lvx2m0gmkej0jid6to7H2aVpPwrDwknsPBVg=s64",
      "userId": "02384660603430700458"
     },
     "user_tz": 420
    },
    "id": "59zTPJZsd1Ns",
    "outputId": "ef7cce16-23b4-4809-82a4-5b5563c6a06c"
   },
   "outputs": [],
   "source": [
    "# Set up the plots\n",
    "fig = plt.figure(figsize=(5, 5))\n",
    "\n",
    "# plot the Fourier transforms\n",
    "N = len(x)\n",
    "k = - 0.5 * N + np.arange(N) * 1. / N / (x[1] - x[0])\n",
    "\n",
    "ax = fig.add_subplot(211)\n",
    "ax.plot(k, abs(np.fft.fftshift(y_fft)), '-k')\n",
    "\n",
    "ax.text(0.95, 0.95, r'$\\mathcal{F}(D)$',\n",
    "        ha='right', va='top', transform=ax.transAxes)\n",
    "\n",
    "ax.set_xlim(-100, 100)\n",
    "ax.set_ylim(-5, 85)\n",
    "\n",
    "ax.xaxis.set_major_formatter(plt.NullFormatter())\n",
    "\n",
    "ax = fig.add_subplot(212)\n",
    "ax.plot(k, abs(np.fft.fftshift(w_fft)), '-k')\n",
    "\n",
    "ax.text(0.95, 0.95,  r'$\\mathcal{F}(W)$', ha='right', va='top',\n",
    "        transform=ax.transAxes)\n",
    "\n",
    "ax.set_xlim(-100, 100)\n",
    "ax.set_ylim(-5, 85)\n",
    "\n",
    "ax.set_xlabel('$x$')"
   ]
  },
  {
   "cell_type": "markdown",
   "id": "80a49961",
   "metadata": {
    "id": "5VXs79uLd1N7"
   },
   "source": [
    "#### Calculate the product of Fourier transforms\n",
    "We multiply the above two Fourier transform functions and get the product of them (shown below). The inverse transformation of this product give us the convolution of $[D*W](x)$."
   ]
  },
  {
   "cell_type": "code",
   "execution_count": null,
   "id": "6ff18b1d",
   "metadata": {
    "colab": {
     "base_uri": "https://localhost:8080/",
     "height": 357
    },
    "executionInfo": {
     "elapsed": 590,
     "status": "ok",
     "timestamp": 1603475237115,
     "user": {
      "displayName": "Brigitta Sipocz",
      "photoUrl": "https://lh3.googleusercontent.com/a-/AOh14GgSZ5lvx2m0gmkej0jid6to7H2aVpPwrDwknsPBVg=s64",
      "userId": "02384660603430700458"
     },
     "user_tz": 420
    },
    "id": "Zu8iOIO1d1N8",
    "outputId": "7a3c74a1-4b9c-49e1-db19-fa94e0763eb5"
   },
   "outputs": [],
   "source": [
    "fig = plt.figure(figsize=(5, 5))\n",
    "ax = fig.add_subplot(111)\n",
    "ax.plot(k, abs(np.fft.fftshift(yw_fft)), '-k')\n",
    "\n",
    "ax.text(0.95, 0.95, ('Pointwise\\nproduct:\\n' +\n",
    "                     r'$\\mathcal{F}(D) \\cdot \\mathcal{F}(W)$'),\n",
    "        ha='right', va='top', transform=ax.transAxes,\n",
    "        bbox=dict(fc='w', ec='k'), zorder=2)\n",
    "\n",
    "ax.set_xlim(-100, 100)\n",
    "ax.set_ylim(-100, 3500)\n",
    "\n",
    "ax.set_xlabel('$k$')"
   ]
  },
  {
   "cell_type": "markdown",
   "id": "8268862b",
   "metadata": {
    "id": "HagyS8qjd1OD"
   },
   "source": [
    "#### Perform the convolution\n",
    "Use equation $(a*b)(t) \\equiv \\int_{-\\infty}^{\\infty} a(t')b(t-t')dt'$ we take the convolution of D(x) and W(x)."
   ]
  },
  {
   "cell_type": "code",
   "execution_count": null,
   "id": "70410b53",
   "metadata": {
    "id": "B2MDOl4hd1OE"
   },
   "outputs": [],
   "source": [
    "y_norm = np.convolve(np.ones_like(y), w, mode='full')\n",
    "valid_indices = (y_norm != 0)\n",
    "y_norm = y_norm[valid_indices]\n",
    "\n",
    "y_w = np.convolve(y, w, mode='full')[valid_indices] / y_norm\n",
    "\n",
    "# trick: convolve with x-coordinate to find the center of the window at\n",
    "#        each point.\n",
    "x_w = np.convolve(x, w, mode='full')[valid_indices] / y_norm"
   ]
  },
  {
   "cell_type": "markdown",
   "id": "13debf36",
   "metadata": {
    "id": "uuBZGDyvd1OJ"
   },
   "source": [
    "#### Show convolution result\n",
    "The result of $[D*W](x)$ can be viewed as the data signal smoothed with the window (top-hat) function."
   ]
  },
  {
   "cell_type": "code",
   "execution_count": null,
   "id": "3ab92db8",
   "metadata": {
    "colab": {
     "base_uri": "https://localhost:8080/",
     "height": 351
    },
    "executionInfo": {
     "elapsed": 581,
     "status": "ok",
     "timestamp": 1603475244686,
     "user": {
      "displayName": "Brigitta Sipocz",
      "photoUrl": "https://lh3.googleusercontent.com/a-/AOh14GgSZ5lvx2m0gmkej0jid6to7H2aVpPwrDwknsPBVg=s64",
      "userId": "02384660603430700458"
     },
     "user_tz": 420
    },
    "id": "fMzeGpgDd1OL",
    "outputId": "bd99ecbe-2418-4167-bd03-4c682a1b67e1"
   },
   "outputs": [],
   "source": [
    "# plot the convolution\n",
    "fig = plt.figure(figsize=(5, 5))\n",
    "ax = fig.add_subplot(111)\n",
    "ax.plot(x_w, y_w, '-k')\n",
    "\n",
    "ax.text(0.5, 0.95, \"Convolution:\\n\" + r\"$[D \\ast W](x)$\",\n",
    "        ha='center', va='top', transform=ax.transAxes,\n",
    "        bbox=dict(fc='w', ec='k'), zorder=2)\n",
    "\n",
    "ax.text(0.5, 0.05,\n",
    "        (r'$[D \\ast W](x)$' +\n",
    "         r'$= \\mathcal{F}^{-1}\\{\\mathcal{F}[D] \\cdot \\mathcal{F}[W]\\}$'),\n",
    "        ha='center', va='bottom', transform=ax.transAxes)\n",
    "\n",
    "ax.set_xlabel('$x$')\n",
    "ax.set_ylabel('$D_W$')\n",
    "\n",
    "ax.set_xlim(0.01, 0.99)\n",
    "ax.set_ylim(0, 1.99)"
   ]
  },
  {
   "cell_type": "markdown",
   "id": "4a6660ca",
   "metadata": {
    "id": "P8CKAQQ_d1OQ"
   },
   "source": [
    "#### Show Convolution Diagram\n",
    "Here we take all the process together and express them in a clockwise order. \n",
    "* Top-left are the original data signal $D(x)$ (solid line) and top-hat window functions $W(x)$ (gray box). \n",
    "* Moving on to the top-right panel, we have the Fourier transform of two functions, with $F(D)$ as the Fourier of $D(x)$ at the top, and $F(W)$ as the Fourier of $W(x)$ at the bottom. \n",
    "* Next we multiply $F(D)$ and $F(W)$ to get a pointwise function in the bottom-right panel. \n",
    "* At last, we can take the inverse Fourier of $F(D) \\cdot F(W)$ and get the convolution of function $D(x)$ and $W(x)$, as shown in the bottom-left panel."
   ]
  },
  {
   "cell_type": "code",
   "execution_count": null,
   "id": "33a7c84a",
   "metadata": {
    "colab": {
     "base_uri": "https://localhost:8080/",
     "height": 232
    },
    "executionInfo": {
     "elapsed": 580,
     "status": "error",
     "timestamp": 1603476937455,
     "user": {
      "displayName": "Zhouyangguang Zhao",
      "photoUrl": "",
      "userId": "12804106343770884783"
     },
     "user_tz": 420
    },
    "id": "PTo1FfJ0d1OR",
    "outputId": "4046c59f-d30a-4b14-c421-92110d502c16"
   },
   "outputs": [],
   "source": [
    "# Set up the plots\n",
    "fig = plt.figure(figsize=(5, 5))\n",
    "fig.subplots_adjust(left=0.09, bottom=0.09, right=0.95, top=0.95,\n",
    "                    hspace=0.05, wspace=0.05)\n",
    "\n",
    "#----------------------------------------\n",
    "# plot the data and window function\n",
    "ax = fig.add_subplot(221)\n",
    "ax.plot(x, y, '-k', label=r'data $D(x)$')\n",
    "ax.fill(x, w, color='gray', alpha=0.5,\n",
    "        label=r'window $W(x)$')\n",
    "ax.fill(x, w[::-1], color='gray', alpha=0.5)\n",
    "\n",
    "ax.legend()\n",
    "ax.xaxis.set_major_formatter(plt.NullFormatter())\n",
    "\n",
    "ax.set_ylabel('$D$')\n",
    "\n",
    "ax.set_xlim(0.01, 0.99)\n",
    "ax.set_ylim(0, 2.0)\n",
    "\n",
    "#----------------------------------------\n",
    "# plot the convolution\n",
    "ax = fig.add_subplot(223)\n",
    "ax.plot(x_w, y_w, '-k')\n",
    "\n",
    "ax.text(0.5, 0.95, \"Convolution:\\n\" + r\"$[D \\ast W](x)$\",\n",
    "        ha='center', va='top', transform=ax.transAxes,\n",
    "        bbox=dict(fc='w', ec='k'), zorder=2)\n",
    "\n",
    "ax.text(0.5, 0.05,\n",
    "        (r'$[D \\ast W](x)$' +\n",
    "         r'$= \\mathcal{F}^{-1}\\{\\mathcal{F}[D] \\cdot \\mathcal{F}[W]\\}$'),\n",
    "        ha='center', va='bottom', transform=ax.transAxes)\n",
    "\n",
    "for x_loc in (0.2, 0.8):\n",
    "    y_loc = y_w[x_w <= x_loc][-1]\n",
    "    ax.annotate('', (x_loc, y_loc), (x_loc, 2.0), zorder=1,\n",
    "                arrowprops=dict(arrowstyle='->', color='gray', lw=2))\n",
    "\n",
    "ax.set_xlabel('$x$')\n",
    "ax.set_ylabel('$D_W$')\n",
    "\n",
    "ax.set_xlim(0.01, 0.99)\n",
    "ax.set_ylim(0, 1.99)\n",
    "\n",
    "#----------------------------------------\n",
    "# plot the Fourier transforms\n",
    "N = len(x)\n",
    "k = - 0.5 * N + np.arange(N) * 1. / N / (x[1] - x[0])\n",
    "\n",
    "ax = fig.add_subplot(422)\n",
    "ax.plot(k, abs(np.fft.fftshift(y_fft)), '-k')\n",
    "\n",
    "ax.text(0.95, 0.95, r'$\\mathcal{F}(D)$',\n",
    "        ha='right', va='top', transform=ax.transAxes)\n",
    "\n",
    "ax.set_xlim(-100, 100)\n",
    "ax.set_ylim(-5, 85)\n",
    "\n",
    "ax.xaxis.set_major_formatter(plt.NullFormatter())\n",
    "ax.yaxis.set_major_formatter(plt.NullFormatter())\n",
    "\n",
    "ax = fig.add_subplot(424)\n",
    "ax.plot(k, abs(np.fft.fftshift(w_fft)), '-k')\n",
    "\n",
    "ax.text(0.95, 0.95,  r'$\\mathcal{F}(W)$', ha='right', va='top',\n",
    "        transform=ax.transAxes)\n",
    "\n",
    "ax.set_xlim(-100, 100)\n",
    "ax.set_ylim(-5, 85)\n",
    "\n",
    "ax.xaxis.set_major_formatter(plt.NullFormatter())\n",
    "ax.yaxis.set_major_formatter(plt.NullFormatter())\n",
    "\n",
    "#----------------------------------------\n",
    "# plot the product of Fourier transforms\n",
    "ax = fig.add_subplot(224)\n",
    "ax.plot(k, abs(np.fft.fftshift(yw_fft)), '-k')\n",
    "\n",
    "ax.text(0.95, 0.95, ('Pointwise\\nproduct:\\n' +\n",
    "                     r'$\\mathcal{F}(D) \\cdot \\mathcal{F}(W)$'),\n",
    "        ha='right', va='top', transform=ax.transAxes,\n",
    "        bbox=dict(fc='w', ec='k'), zorder=2)\n",
    "\n",
    "ax.set_xlim(-100, 100)\n",
    "ax.set_ylim(-100, 3500)\n",
    "\n",
    "ax.set_xlabel('$k$')\n",
    "\n",
    "ax.yaxis.set_major_formatter(plt.NullFormatter())\n",
    "\n",
    "#------------------------------------------------------------\n",
    "# Plot flow arrows\n",
    "ax = fig.add_axes([0, 0, 1, 1], xticks=[], yticks=[], frameon=False)\n",
    "\n",
    "arrowprops = dict(arrowstyle=\"simple\",\n",
    "                  color=\"gray\", alpha=0.5,\n",
    "                  shrinkA=5, shrinkB=5,\n",
    "                  patchA=None,\n",
    "                  patchB=None,\n",
    "                  connectionstyle=\"arc3,rad=-0.35\")\n",
    "\n",
    "ax.annotate('', [0.57, 0.57], [0.47, 0.57],\n",
    "            arrowprops=arrowprops,\n",
    "            transform=ax.transAxes)\n",
    "ax.annotate('', [0.57, 0.47], [0.57, 0.57],\n",
    "            arrowprops=arrowprops,\n",
    "            transform=ax.transAxes)\n",
    "ax.annotate('', [0.47, 0.47], [0.57, 0.47],\n",
    "            arrowprops=arrowprops,\n",
    "            transform=ax.transAxes)\n",
    "\n",
    "plt.show()"
   ]
  },
  {
   "cell_type": "markdown",
   "id": "b3b90989",
   "metadata": {
    "id": "cugjz8ifd1OW"
   },
   "source": [
    "## 2. Discrete Fourier Transform\n",
    "In practice, data are always discretely sampled. When the spacing of the time interval is constant,\n",
    "the discrete Fourier transform is a powerful tool.\n",
    "Although in astronomy, temporal data are rarely sampled with uniform spacing (LIGO data, however, as a counterexample, will be discussed in the later notebook), uniformly sampled data is a good place to start because we have fast algorithm for this situation.  \n",
    "When computing the Fourier transform for discretely and uniformly sampled data, the Fourier\n",
    "integrals from \n",
    "\n",
    "$$H(f)=\\int_{-\\infty}^{\\infty} h(t) exp(-i2\\pi ft)dt$$\n",
    "$$h(t)=\\int_{-\\infty}^{\\infty} H(t) exp(-i2\\pi ft)df$$\n",
    "\n",
    "are translated to sums. Here we have t for time and f for frequency.\n",
    "  \n",
    "The discrete Fourier transform of the vector of values hj is a complex vector of length N defined\n",
    "by\n",
    "\n",
    "$$H_k=\\sum_{j=0}^{N-1}h_j exp[-i2\\pi jk/N]$$\n",
    "\n",
    "where k=0,...,(N-1).  \n",
    "The corresponding inverse discrete Fourier transform is defined by\n",
    "\n",
    "$$h_j=\\sum_{j=0}^{N-1}H_k exp[-i2\\pi jk/N]$$\n",
    "\n",
    "where j=0,...,(N-1). Unlike the continuous transforms, here the units for $H_k$ are the same as\n",
    "the units for $h_j$ . Given $H_k$, we can represent the function described by $h_j$ as a sum of sinusoids,\n",
    "as was done in the first figure."
   ]
  },
  {
   "cell_type": "markdown",
   "id": "f37c0b71",
   "metadata": {
    "id": "Boa3Dfngd1OX"
   },
   "source": [
    "### (1) The Nyquist sampling theorem\n",
    "Let us define $h(t)$ to be band limited if $H(f) = 0$ for $|f| > f_c$, where $f_c$ is the band limit, or the\n",
    "Nyquist critical frequency. If $h(t)$ is band limited, then there is some \"resolution\" limit in $t$ space,\n",
    "$t_c = 1/(2f_c)$ below which h(t) appears \"smooth.\" When $h(t)$ is band limited, then according to the Nyquist sampling theorem we can exactly reconstruct h(t) from evenly sampled data when $\\Delta t < t_c$,\n",
    "as\n",
    "\n",
    "$$h(t)=\\frac{\\Delta t}{t_c} \\sum_{k=-\\infty}^{k=\\infty} h_k \\frac{sin[2\\pi f_c (t-k\\Delta t)]}{2\\pi f_c (t-k\\Delta t)}$$\n",
    "\n",
    "This result is known as the Whittaker-Shannon, or often just Shannon, interpolation formula\n",
    "(or \"sinc-shifting\" formula).  \n",
    "Note that the summation goes to infinity, but also that the term\n",
    "multiplying $h_k$ vanishes for large values of $|t - k\\Delta t|$.  \n",
    "For example $h(t) = sin(2 \\pi t/P )$ has a period\n",
    "P and is band limited with $f_c = 1/P$. If it is sampled with $\\Delta t$ not larger than $P/2$, it can be fully\n",
    "reconstructed at any $t$ (it is important to note that this entire discussion assumes that there is no\n",
    "noise associated with sampled values $h_j$ ). On the other hand, when the sampled function h(t) is not\n",
    "band limited, or when the sampling rate is not sufficient (i.e., $\\Delta t > t_c$), an effect called **\"aliasing\"**\n",
    "prevents us from exactly reconstructing h(t). In such a case, all of the power\n",
    "spectral density from frequencies $|f| > f_c$ is aliased (falsely transferred) into the $-f_c < f < f_c$\n",
    "range. The aliasing can be thought of as inability to resolve details in a time series at a finer detail\n",
    "than that set by $f_c$. The figure below will show us the effect of aliasing."
   ]
  },
  {
   "cell_type": "markdown",
   "id": "e074b865",
   "metadata": {
    "id": "mF11YtRbd1Oa"
   },
   "source": [
    "#### Define functions and terms\n",
    "Here we defind a Gaussian shaped data and its Fourier transform as an example."
   ]
  },
  {
   "cell_type": "code",
   "execution_count": null,
   "id": "1a59a9eb",
   "metadata": {
    "id": "1_b_9Cybd1Ob"
   },
   "outputs": [],
   "source": [
    "def gaussian(x, a=1.0):\n",
    "    return np.exp(-0.5 * (x / a) ** 2)\n",
    "\n",
    "\n",
    "def gaussian_FT(f, a=1.0):\n",
    "    return np.sqrt(2 * np.pi * a ** 2) * np.exp(-2 * (np.pi * a * f) ** 2)\n",
    "\n",
    "a = 1.0\n",
    "t = np.linspace(-5, 5, 1000)\n",
    "h = gaussian(t, a)\n",
    "\n",
    "f = np.linspace(-2, 2, 1000)\n",
    "H = gaussian_FT(f, a)"
   ]
  },
  {
   "cell_type": "markdown",
   "id": "12b94265",
   "metadata": {
    "id": "WmZ9o3iad1Og"
   },
   "source": [
    "#### Show a comparison of well-sampled and over-sampled results\n",
    "A visualization of aliasing in the Fourier transform. \n",
    "We have two sets of four panels, and in each set:\n",
    "* the top-left panel shows a signal and a regular sampling function\n",
    "* the top-right panel shows the Fourier transform of the signal and sampling function\n",
    "* the bottom-left panel shows the sampled data\n",
    "* the bottom-right panel shows the convolution of the Fourier-space representations\n",
    "  \n",
    "In the top four panels, the data is well sampled, and there is little to no aliasing.   \n",
    "In the bottom panels, the data is not well sampled (the spacing between two data points is larger) which leads to aliasing, as seen in the overlap of the convolved Fourier transforms. The aliasing effect can be recognized if the Fourier transform is nonzero at $|f| = 1/(2 \\Delta t)$ in this example."
   ]
  },
  {
   "cell_type": "code",
   "execution_count": null,
   "id": "0e82ae11",
   "metadata": {
    "id": "BmBMhJeLd1Oi"
   },
   "outputs": [],
   "source": [
    "# Two plots: one well-sampled, one over-sampled\n",
    "N = 12\n",
    "\n",
    "def plot_aliasing(dt):\n",
    "    \"\"\"\n",
    "\n",
    "    Parameters\n",
    "    ----------\n",
    "\n",
    "    dt : float\n",
    "       \n",
    "\n",
    "    \"\"\"\n",
    "    # define time-space sampling\n",
    "    t_sample = dt * (np.arange(N) - N / 2)\n",
    "    h_sample = gaussian(t_sample, a)\n",
    "\n",
    "    # Fourier transform of time-space sampling\n",
    "    df = 1. / dt\n",
    "    f_sample = df * (np.arange(N) - N / 2)\n",
    "\n",
    "    # Plot the results\n",
    "    fig = plt.figure(figsize=(7, 3.5))\n",
    "    fig.subplots_adjust(left=0.07, right=0.95, wspace=0.16,\n",
    "                        bottom=0.1, top=0.85, hspace=0.05)\n",
    "\n",
    "    # First plot: sampled time-series\n",
    "    ax = fig.add_subplot(221)\n",
    "    ax.plot(t, h, '-k')\n",
    "\n",
    "    for ts in t_sample:\n",
    "        ax.annotate('', (ts, 0.5), (ts, 0), ha='center', va='center',\n",
    "                    arrowprops=dict(arrowstyle='->'))\n",
    "    ax.text(0.03, 0.95,\n",
    "            (\"Signal and Sampling Window\\n\" +\n",
    "             r\"Sampling Rate $\\Delta t$\"),\n",
    "            ha='left', va='top', transform=ax.transAxes)\n",
    "    ax.set_ylabel('$h(t)$')\n",
    "    ax.set_xlim(-5, 5)\n",
    "    ax.set_ylim(0, 1.4)\n",
    "    ax.xaxis.set_major_formatter(plt.NullFormatter())\n",
    "    ax.yaxis.set_major_formatter(plt.NullFormatter())\n",
    "    ax.set_title('Time Domain: Multiplication')\n",
    "\n",
    "    # second plot: frequency space\n",
    "    ax = fig.add_subplot(222)\n",
    "    ax.plot(f, H, '-k')\n",
    "    for fs in f_sample:\n",
    "        ax.annotate('', (fs, 1.5), (fs, 0), ha='center', va='center',\n",
    "                    arrowprops=dict(arrowstyle='->'))\n",
    "    ax.text(0.03, 0.95,\n",
    "            (\"FT of Signal and Sampling Window\\n\" +\n",
    "             r\"$\\Delta f = 1 / \\Delta t$\"),\n",
    "            ha='left', va='top', transform=ax.transAxes)\n",
    "    ax.set_ylabel('$H(f)$')\n",
    "    ax.set_xlim(-1.5, 1.5)\n",
    "    ax.set_ylim(0, 3.8)\n",
    "    ax.xaxis.set_major_formatter(plt.NullFormatter())\n",
    "    ax.yaxis.set_major_formatter(plt.NullFormatter())\n",
    "    ax.set_title('Frequency Domain: Convolution')\n",
    "\n",
    "    # third plot: windowed function\n",
    "    ax = fig.add_subplot(223)\n",
    "    for (ts, hs) in zip(t_sample, h_sample):\n",
    "        if hs < 0.1:\n",
    "            continue\n",
    "        ax.annotate('', (ts, hs), (ts, 0), ha='center', va='center',\n",
    "                    arrowprops=dict(arrowstyle='->'))\n",
    "    ax.plot(t, h, ':k')\n",
    "    ax.text(0.03, 0.95, \"Sampled signal: pointwise\\nmultiplication\",\n",
    "            ha='left', va='top', transform=ax.transAxes)\n",
    "    ax.set_xlabel('$t$')\n",
    "    ax.set_ylabel('$h(t)$')\n",
    "    ax.set_xlim(-5, 5)\n",
    "    ax.set_ylim(0, 1.4)\n",
    "    ax.xaxis.set_major_formatter(plt.NullFormatter())\n",
    "    ax.yaxis.set_major_formatter(plt.NullFormatter())\n",
    "\n",
    "    # fourth plot: convolved PSD\n",
    "    ax = fig.add_subplot(224)\n",
    "    window = np.array([gaussian_FT(f - fs, a) for fs in f_sample])\n",
    "    ax.plot(f, window.sum(0), '-k')\n",
    "    if dt > 1:\n",
    "        ax.plot(f, window.T, ':k')\n",
    "    ax.text(0.03, 0.95, \"Convolution of signal FT\\nand window FT\",\n",
    "            ha='left', va='top', transform=ax.transAxes)\n",
    "    ax.set_xlabel('$f$')\n",
    "    ax.set_ylabel('$H(f)$')\n",
    "    ax.set_xlim(-1.5, 1.5)\n",
    "    ax.set_ylim(0, 3.8)\n",
    "    ax.xaxis.set_major_formatter(plt.NullFormatter())\n",
    "    ax.yaxis.set_major_formatter(plt.NullFormatter())\n",
    "\n",
    "    if dt > 1:\n",
    "        fig.suptitle(r\"Undersampled data: $\\Delta t > t_c$\")\n",
    "    else:\n",
    "        fig.suptitle(r\"Well-sampled data: $\\Delta t < t_c$\")"
   ]
  },
  {
   "cell_type": "code",
   "execution_count": null,
   "id": "f77224b1",
   "metadata": {
    "colab": {
     "base_uri": "https://localhost:8080/",
     "height": 269
    },
    "executionInfo": {
     "elapsed": 1235,
     "status": "ok",
     "timestamp": 1603476277340,
     "user": {
      "displayName": "Brigitta Sipocz",
      "photoUrl": "https://lh3.googleusercontent.com/a-/AOh14GgSZ5lvx2m0gmkej0jid6to7H2aVpPwrDwknsPBVg=s64",
      "userId": "02384660603430700458"
     },
     "user_tz": 420
    },
    "id": "LThinIzQn7L7",
    "outputId": "c899453b-3f53-4e0f-9dc8-a04453af577a"
   },
   "outputs": [],
   "source": [
    "plot_aliasing(0.9)"
   ]
  },
  {
   "cell_type": "code",
   "execution_count": null,
   "id": "c107a88a",
   "metadata": {
    "colab": {
     "base_uri": "https://localhost:8080/",
     "height": 269
    },
    "executionInfo": {
     "elapsed": 1469,
     "status": "ok",
     "timestamp": 1603476278010,
     "user": {
      "displayName": "Brigitta Sipocz",
      "photoUrl": "https://lh3.googleusercontent.com/a-/AOh14GgSZ5lvx2m0gmkej0jid6to7H2aVpPwrDwknsPBVg=s64",
      "userId": "02384660603430700458"
     },
     "user_tz": 420
    },
    "id": "1AZiZtcen9CE",
    "outputId": "cdaa3fd8-bbe8-409e-cd32-029491e86c6d"
   },
   "outputs": [],
   "source": [
    "plot_aliasing(1.2)"
   ]
  },
  {
   "cell_type": "markdown",
   "id": "183fde10",
   "metadata": {
    "id": "WOMT-ozOd1Op"
   },
   "source": [
    "### (2) The window function\n",
    "The figure above shows the relationship between sampling and the window function: the sampling window\n",
    "function in the time domain can be expressed as the sum of delta functions placed at sampled\n",
    "observation times. The Fourier transform of a set of delta functions with spacing $\\Delta t$ is another set of delta functions with spacing $1/\\Delta t$; this result is at the core of the Nyquist sampling theorem. By the convolution theorem, pointwise multiplication of this sampling window with the data is equivalent to the convolution of their Fourier\n",
    "representations, as seen in the right-hand panels. When data are nonuniformly sampled, the impact of sampling can be understood using the same framework.  \n",
    "The sampling window is the sum of delta functions, but because the delta functions\n",
    "are not regularly spaced, the Fourier transform is a more complicated, and in general complex,\n",
    "function of f. The PSD can be computed using the discrete Fourier transform by constructing a\n",
    "fine grid of times and setting the window function to one at the sampled times and zero otherwise.\n",
    "The resulting PSD is called the **spectral window function**, and models how the Fourier-space signal\n",
    "is affected by the sampling. As discussed in detail in [Fourier analysis with unequally-spaced data](http://adsabs.harvard.edu/full/1975Ap%26SS..36..137D), the observed **power spectral density (PSD)** is a convolution of\n",
    "the true underlying PSD and this spectral window function.  \n",
    "We will see an example of an irregular sampling window in the figure below."
   ]
  },
  {
   "cell_type": "markdown",
   "id": "556080e0",
   "metadata": {
    "id": "iIz1qxLdd1Oq"
   },
   "source": [
    "#### Generate the data"
   ]
  },
  {
   "cell_type": "code",
   "execution_count": null,
   "id": "c142cce9",
   "metadata": {
    "id": "6F7LlasQd1Or"
   },
   "outputs": [],
   "source": [
    "Nbins = 2 ** 15\n",
    "Nobs = 40\n",
    "f = lambda t: np.sin(np.pi * t / 3)\n",
    "\n",
    "t = np.linspace(-100, 200, Nbins)\n",
    "dt = t[1] - t[0]\n",
    "y = f(t)"
   ]
  },
  {
   "cell_type": "markdown",
   "id": "80d58a10",
   "metadata": {
    "id": "VCl1Y5m7d1Ov"
   },
   "source": [
    "#### Select observations and compute PSD"
   ]
  },
  {
   "cell_type": "code",
   "execution_count": null,
   "id": "3deb4919",
   "metadata": {
    "id": "s1-8TqU_d1Ow"
   },
   "outputs": [],
   "source": [
    "# select observations\n",
    "np.random.seed(42)\n",
    "t_obs = 100 * np.random.random(40)\n",
    "\n",
    "D = abs(t_obs[:, np.newaxis] - t)\n",
    "i = np.argmin(D, 1)\n",
    "\n",
    "t_obs = t[i]\n",
    "y_obs = y[i]\n",
    "window = np.zeros(Nbins)\n",
    "window[i] = 1\n",
    "\n",
    "# Compute PSDs\n",
    "Nfreq = int(Nbins / 2)\n",
    "\n",
    "dt = t[1] - t[0]\n",
    "df = 1. / (Nbins * dt)\n",
    "f = df * np.arange(Nfreq)\n",
    "\n",
    "PSD_window = abs(np.fft.fft(window)[:Nfreq]) ** 2\n",
    "PSD_y = abs(np.fft.fft(y)[:Nfreq]) ** 2\n",
    "PSD_obs = abs(np.fft.fft(y * window)[:Nfreq]) ** 2"
   ]
  },
  {
   "cell_type": "markdown",
   "id": "d0d6149a",
   "metadata": {
    "id": "zuKDXgj0d1O3"
   },
   "source": [
    "#### Scale PSDs for plotting\n",
    "Normalize the true PSD so it can be shown in the plot: in theory it's a delta function, so normalization is arbitrary."
   ]
  },
  {
   "cell_type": "code",
   "execution_count": null,
   "id": "798617d0",
   "metadata": {
    "id": "y34Wrsc5d1O3"
   },
   "outputs": [],
   "source": [
    "PSD_window /= 500\n",
    "PSD_y /= PSD_y.max()\n",
    "PSD_obs /= 500"
   ]
  },
  {
   "cell_type": "markdown",
   "id": "57357b39",
   "metadata": {
    "id": "RKwFwO9ad1O8"
   },
   "source": [
    "#### Show figure\n",
    "An illustration of the impact of a sampling window function of resulting PSD. \n",
    "* The top-left panel shows a simulated data set with 40 points drawn from the function $y(t|P) = sin(t)$ (i.e., $f = 1/(2\\pi) ~ 0.16$). \n",
    "* The bottom-left panel shows radom sampling illustracted by the vertical lines. \n",
    "* The bottom-right panel shows the PSD of sampling times, or spectral window. \n",
    "* The top-right panel shows the PSD computed for the data set from the top-left panel; it is equal to a convolution of the single peak (shaded in gray) with the window PSD shown in the bottom-right panel (e.g., the peak at f ~ 0.42 in the top-right panel can be traced to a peak at f ~ 0.26 in the bottom-right panel)."
   ]
  },
  {
   "cell_type": "code",
   "execution_count": null,
   "id": "fed36fc1",
   "metadata": {
    "id": "DKI0Q-5fd1O9",
    "outputId": "f50a807e-2b99-4b09-f1ec-e985f37bee7a"
   },
   "outputs": [],
   "source": [
    "# Prepare the figures\n",
    "fig = plt.figure(figsize=(8, 4))\n",
    "fig.subplots_adjust(bottom=0.15, hspace=0.2, wspace=0.25,\n",
    "                    left=0.12, right=0.95)\n",
    "\n",
    "# First panel: data vs time\n",
    "ax = fig.add_subplot(221)\n",
    "ax.plot(t, y, '-', c='gray')\n",
    "ax.plot(t_obs, y_obs, '.k', ms=4)\n",
    "ax.text(0.95, 0.93, \"Data\", ha='right', va='top', transform=ax.transAxes)\n",
    "ax.set_ylabel('$y(t)$')\n",
    "ax.set_xlim(0, 100)\n",
    "ax.set_ylim(-1.5, 1.8)\n",
    "\n",
    "# Second panel: PSD of data\n",
    "ax = fig.add_subplot(222)\n",
    "ax.fill(f, PSD_y, fc='gray', ec='gray')\n",
    "ax.plot(f, PSD_obs, '-', c='black')\n",
    "ax.text(0.95, 0.93, \"Data PSD\", ha='right', va='top', transform=ax.transAxes)\n",
    "ax.set_ylabel('$P(f)$')\n",
    "ax.set_xlim(0, 1.0)\n",
    "ax.set_ylim(-0.1, 1.1)\n",
    "\n",
    "# Third panel: window vs time\n",
    "ax = fig.add_subplot(223)\n",
    "ax.plot(t, window, '-', c='black')\n",
    "ax.text(0.95, 0.93, \"Window\", ha='right', va='top', transform=ax.transAxes)\n",
    "ax.set_xlabel('$t$')\n",
    "ax.set_ylabel('$y(t)$')\n",
    "ax.set_xlim(0, 100)\n",
    "ax.set_ylim(-0.2, 1.5)\n",
    "\n",
    "# Fourth panel: PSD of window\n",
    "ax = fig.add_subplot(224)\n",
    "ax.plot(f, PSD_window, '-', c='black')\n",
    "ax.text(0.95, 0.93, \"Window PSD\", ha='right', va='top', transform=ax.transAxes)\n",
    "ax.set_xlabel('$f$')\n",
    "ax.set_ylabel('$P(f)$')\n",
    "ax.set_xlim(0, 1.0)\n",
    "ax.set_ylim(-0.1, 1.1)\n",
    "\n",
    "plt.show()"
   ]
  },
  {
   "cell_type": "markdown",
   "id": "63264cb1",
   "metadata": {
    "id": "LQnha-UWd1PE"
   },
   "source": [
    "### (3) The Fast Fourier Transform (FFT)\n",
    "The **Fast Fourier transform (FFT)** is an algorithm for computing discrete Fourier transforms in\n",
    "O(N logN) time, rather than O(N2) using a naive implementation. The algorithmic details for\n",
    "the FFT can be found in NumRec. The speed of FFT makes it a widespread tool in the analysis\n",
    "of evenly sampled, high signal-to-noise ratio, time series data.  \n",
    "An example below shows such analysis for a function with a single dominant frequency: a sine wave whose amplitude is modulated by a Gaussian."
   ]
  },
  {
   "cell_type": "markdown",
   "id": "3adc26c8",
   "metadata": {
    "id": "G0QsDAord1PF"
   },
   "source": [
    "#### Generate the data"
   ]
  },
  {
   "cell_type": "code",
   "execution_count": null,
   "id": "6dfddc3c",
   "metadata": {
    "id": "2y0B-e3Bd1PG"
   },
   "outputs": [],
   "source": [
    "np.random.seed(1)\n",
    "\n",
    "tj = np.linspace(-25, 25, 512)\n",
    "hj = np.sin(tj)\n",
    "hj *= norm(0, 10).pdf(tj)"
   ]
  },
  {
   "cell_type": "markdown",
   "id": "c64ca15e",
   "metadata": {
    "id": "pgCSQNhUd1PK"
   },
   "source": [
    "#### Show result with data and calculated PSD\n",
    "The discrete Fourier transform (bottom panel) for two noisy data sets shown in the top panel. For 512 evenly sampled times t (dt = 0.977), points are drawn from h(t) = a + sin(t)G(t), where G(t) is a Gaussian N(mu = 0,sigma = 10). Gaussian noise with sigma = 0.05 (top data set) and 0.005 (bottom data set) is added to signal h(t). The value of the offset a is 0.15 and 0, respectively. The discrete Fourier transform is computed as described in this section. For both noise realizations, the correct frequency f = (2pi)-1 ~ 0.159 is easily discernible in the bottom panel. Note that the height of peaks is the same for both noise realizations. The large value of abs(H(f = 0)) for data with larger noise is due to the vertical offset."
   ]
  },
  {
   "cell_type": "code",
   "execution_count": null,
   "id": "5531f488",
   "metadata": {
    "id": "ePznsDVSd1PL",
    "outputId": "983c15ef-8510-46ba-9220-b52f0f0e13cb"
   },
   "outputs": [],
   "source": [
    "# plot the results\n",
    "fig = plt.figure(figsize=(5, 3.75))\n",
    "fig.subplots_adjust(hspace=0.35)\n",
    "ax1 = fig.add_subplot(211)\n",
    "ax2 = fig.add_subplot(212)\n",
    "\n",
    "offsets = (0, 0.15)\n",
    "colors = ('black', 'gray')\n",
    "linewidths = (1, 2)\n",
    "errors = (0.005, 0.05)\n",
    "\n",
    "for (offset, color, error, linewidth) in zip(offsets, colors,\n",
    "                                             errors, linewidths):\n",
    "    # compute the PSD\n",
    "    err = np.random.normal(0, error, size=hj.shape)\n",
    "    hj_N = hj + err + offset\n",
    "    fk, PSD = PSD_continuous(tj, hj_N)\n",
    "\n",
    "    # plot the data and PSD\n",
    "    ax1.scatter(tj, hj_N, s=4, c=color, lw=0)\n",
    "    ax1.plot(tj, 0 * tj + offset, '-', c=color, lw=1)\n",
    "    ax2.plot(fk, PSD, '-', c=color, lw=linewidth)\n",
    "\n",
    "# vertical line marking the expected peak location\n",
    "ax2.plot([0.5 / np.pi, 0.5 / np.pi], [-0.1, 1], ':k', lw=1)\n",
    "\n",
    "ax1.set_xlim(-25, 25)\n",
    "ax1.set_ylim(-0.1, 0.3001)\n",
    "\n",
    "ax1.set_xlabel('$t$')\n",
    "ax1.set_ylabel('$h(t)$')\n",
    "\n",
    "ax1.yaxis.set_major_locator(plt.MultipleLocator(0.1))\n",
    "\n",
    "ax2.set_xlim(0, 0.8)\n",
    "ax2.set_ylim(-0.101, 0.801)\n",
    "\n",
    "ax2.set_xlabel('$f$')\n",
    "ax2.set_ylabel('$PSD(f)$')\n",
    "\n",
    "plt.show()"
   ]
  },
  {
   "cell_type": "code",
   "execution_count": null,
   "id": "3912e892",
   "metadata": {
    "id": "kXDWIhdJd1PQ"
   },
   "outputs": [],
   "source": []
  },
  {
   "cell_type": "code",
   "execution_count": null,
   "id": "89de5092",
   "metadata": {
    "id": "mIwxP2_Fd1PU"
   },
   "outputs": [],
   "source": []
  }
 ],
 "metadata": {
  "jupytext": {
   "formats": "ipynb,md:myst",
   "text_representation": {
    "extension": ".md",
    "format_name": "myst",
    "format_version": 0.13,
    "jupytext_version": "1.11.1"
   }
  },
  "kernelspec": {
   "display_name": "Python 3",
   "language": "python",
   "name": "python3"
  },
  "source_map": [
   15,
   20,
   30,
   40,
   44,
   65,
   70,
   80,
   120,
   125,
   130,
   151,
   156,
   215,
   237,
   242,
   257,
   262,
   299,
   303,
   313,
   318,
   365,
   370,
   402,
   407,
   421,
   426,
   464,
   473,
   606,
   634,
   658,
   663,
   681,
   694,
   797,
   817,
   837,
   853,
   857,
   869,
   873,
   900,
   905,
   913,
   922,
   970,
   979,
   983,
   993,
   998,
   1045,
   1051
  ]
 },
 "nbformat": 4,
 "nbformat_minor": 5
}