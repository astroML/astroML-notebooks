{
 "cells": [
  {
   "cell_type": "markdown",
   "id": "d26da863",
   "metadata": {
    "id": "RY3UTJn5xS61"
   },
   "source": [
    "# Digital Filtering"
   ]
  },
  {
   "cell_type": "markdown",
   "id": "650d48e9",
   "metadata": {
    "id": "rUtO_Om0xS61"
   },
   "source": [
    "## Introduction\n",
    "**Digital filtering** aims to reduce noise in time series data, or to compress data. Common examples\n",
    "include low-pass filtering, where high frequencies are suppressed, high-pass filtering, where low\n",
    "frequencies are suppressed, passband filtering, where only a finite range of frequencies is admitted,\n",
    "and a notch filter, where a finite range of frequencies is blocked. We will use a few examples to illustrate the most common\n",
    "applications of filtering.  \n",
    "Fourier analysis is one of the most useful tools for performing filtering. Numerous other techniques can be found in signal processing literature, including approaches based on the wavelets discussed in the modeling toolkit notebook.   \n",
    "  \n",
    "We emphasize that filtering always decreases the information content of data (despite making\n",
    "it appear less noisy). As we have already learned throughout previous chapters, when model\n",
    "parameters are estimated from data, raw (unfiltered) data should be used. In some sense, this is\n",
    "an analogous situation to binning data to produce a histogram-while very useful for visualization, estimates of model parameters can become biased if one is not careful."
   ]
  },
  {
   "cell_type": "markdown",
   "id": "da15567b",
   "metadata": {
    "id": "X56Sp8FkxS61"
   },
   "source": [
    "### Import packages and data\n",
    "In this notebook, we are going to explore the astroML.filters. We mainly use the Savitzky-Golay and the Wiener filters. The spectrum of a white dwarf data imported for this notebook is from Sloan Digital Sky\n",
    "Survey (SDSS)."
   ]
  },
  {
   "cell_type": "code",
   "execution_count": null,
   "id": "8dec3790",
   "metadata": {
    "id": "Tudp07WPxS61"
   },
   "outputs": [],
   "source": [
    "import numpy as np\n",
    "from matplotlib import pyplot as plt\n",
    "\n",
    "from astroML.fourier import PSD_continuous\n",
    "from astroML.datasets import fetch_sdss_spectrum\n",
    "\n",
    "from scipy import optimize, fftpack, interpolate\n",
    "from scipy.signal import savgol_filter\n",
    "from astroML.fourier import IFT_continuous\n",
    "from astroML.filters import wiener_filter\n",
    "from astroML.filters import min_component_filter"
   ]
  },
  {
   "cell_type": "markdown",
   "id": "03d4f9ff",
   "metadata": {
    "id": "OCNftVWHxS62"
   },
   "source": [
    "## 1. Low-pass filters\n",
    "The power spectrum for common Gaussian noise is \n",
    "at and will extend to frequencies as high as\n",
    "the Nyquist limit, $f_N = 1=(2\\Delta t)$. If the data are band limited to a lower frequency, $f_c < f_N$, then\n",
    "they can be smoothed without much impact by suppressing frequencies $|f| > f_c$. Given a filter\n",
    "in frequency space, $\\Phi (f)$, we can obtain a smoothed version of data by taking the inverse Fourier\n",
    "transform of\n",
    "\n",
    "$$\\hat{Y}(f)=Y(f) \\Phi(f)$$\n",
    "\n",
    "where $Y(f)$ is the discrete Fourier transform of data. At least in principle, we could simply set\n",
    "$\\Phi(f)$ to zero for $|f| > f_c$, but this approach would result in ringing (i.e., unwanted oscillations)\n",
    "in the signal. Instead, the optimal filter for this purpose is constructed by minimizing the MISE\n",
    "between $\\hat{Y}(f)$ and $Y(f)$ (for detailed derivation see NumRec) and is called the **Wiener filter**:\n",
    "\n",
    "$$\\Phi(f) = \\frac{P_S(f)}{P_S(f)+P_N(f)}$$\n",
    "\n",
    "Here $P_S(f)$ and $P_N(f)$ represent components of a two-component (signal and noise) fit to the\n",
    "PSD of input data, $PSD_Y (f) = P_S(f) + P_N(f)$, which holds as long as the signal and noise are\n",
    "uncorrelated. We will see how the filtering works in the example below."
   ]
  },
  {
   "cell_type": "markdown",
   "id": "3f0d4e48",
   "metadata": {
    "id": "Rh2qPRLhxS62"
   },
   "source": [
    "### Create the noisy data\n",
    "We are going to generate a set of noisy data as the input signal, on which we apply filters. The figure below shows the input data (200 evenly spaced points) with a narrow Gaussian peak centered at x = 20."
   ]
  },
  {
   "cell_type": "code",
   "execution_count": null,
   "id": "da986c56",
   "metadata": {
    "id": "Yod0vWt_xS62",
    "outputId": "ce2a8ca0-e165-482a-b306-2dae0d9b2e52"
   },
   "outputs": [],
   "source": [
    "# Create the noisy data\n",
    "np.random.seed(5)\n",
    "N = 2000\n",
    "dt = 0.05\n",
    "\n",
    "t = dt * np.arange(N)\n",
    "h = np.exp(-0.5 * ((t - 20.) / 1.0) ** 2)\n",
    "hN = h + np.random.normal(0, 0.5, size=h.shape)\n",
    "\n",
    "# Plot the results\n",
    "N = len(t)\n",
    "Df = 1. / N / (t[1] - t[0])\n",
    "f = fftpack.ifftshift(Df * (np.arange(N) - N / 2))\n",
    "HN = fftpack.fft(hN)\n",
    "\n",
    "fig = plt.figure(figsize=(5, 3.75))\n",
    "fig.subplots_adjust(wspace=0.05, hspace=0.35,\n",
    "                    bottom=0.1, top=0.95,\n",
    "                    left=0.12, right=0.95)\n",
    "\n",
    "# First plot: noisy signal\n",
    "ax = fig.add_subplot(111)\n",
    "ax.plot(t, hN, '-', c='gray')\n",
    "ax.plot(t, np.zeros_like(t), ':k')\n",
    "ax.text(0.98, 0.95, \"Input Signal\", ha='right', va='top',\n",
    "        transform=ax.transAxes, bbox=dict(fc='w', ec='none'))\n",
    "\n",
    "ax.set_xlim(0, 90)\n",
    "ax.set_ylim(-0.5, 1.5)\n",
    "\n",
    "ax.xaxis.set_major_locator(plt.MultipleLocator(20))\n",
    "ax.set_xlabel(r'$\\lambda$')\n",
    "ax.set_ylabel('flux')"
   ]
  },
  {
   "cell_type": "markdown",
   "id": "237dd613",
   "metadata": {
    "id": "vV9tc7gkxS64"
   },
   "source": [
    "### Set up the Wiener filter\n",
    "We fit a model to the PSD consisting of the sum of a gaussian and white noise using **Wiener filter**. We will see this method in the later sections in this notebook."
   ]
  },
  {
   "cell_type": "code",
   "execution_count": null,
   "id": "825b1748",
   "metadata": {
    "id": "iGIXtsKtxS64"
   },
   "outputs": [],
   "source": [
    "N = 2000\n",
    "\n",
    "Df = 1. / N / dt\n",
    "f = fftpack.ifftshift(Df * (np.arange(N) - N / 2))\n",
    "HN = fftpack.fft(hN)\n",
    "\n",
    "# apply the Wiener filter\n",
    "h_smooth, PSD, P_S, P_N, Phi = wiener_filter(t, hN, return_PSDs=True)"
   ]
  },
  {
   "cell_type": "markdown",
   "id": "bcccd1cc",
   "metadata": {
    "id": "RSdbDG5dxS64"
   },
   "source": [
    "### Set up the Savitzky-Golay filter\n",
    "We use a fourth-order **Savitzky-Golay** filter with a window size of $\\Delta \\lambda = 10$ to filter the vales. \n",
    "The Savitzky-Golay filter is a very simple but powerful method as a low-pass filter. It fits low-order polynomials\n",
    "to data (in the time domain) using sliding windows (it is also known as the least-squares filter).\n",
    "For a detailed discussion, see NumRec."
   ]
  },
  {
   "cell_type": "code",
   "execution_count": null,
   "id": "eb53404a",
   "metadata": {
    "id": "Htv8fcpcxS64"
   },
   "outputs": [],
   "source": [
    "# apply the Savitzky-Golay filter\n",
    "h_sg = savgol_filter(hN, window_length=201, polyorder=4, mode='mirror')"
   ]
  },
  {
   "cell_type": "markdown",
   "id": "a78f6f77",
   "metadata": {
    "id": "v0acUi29xS65"
   },
   "source": [
    "### Show filtered signal\n",
    "Plot below shows noisy signal after filtering. \n",
    "* Result from Wiener filter is shown in black.\n",
    "* Result from Savitzky-Golay filter is shown in gray.  \n",
    "\n",
    "The Gaussian peak at x=20 is clearly seen in both curves."
   ]
  },
  {
   "cell_type": "code",
   "execution_count": null,
   "id": "b091e4d4",
   "metadata": {
    "id": "NtV9u_PixS65",
    "outputId": "170a42af-8047-4378-e68e-b23cb15afe12"
   },
   "outputs": [],
   "source": [
    "# Second plot: filtered signal\n",
    "ax = plt.subplot(111)\n",
    "ax.plot(t, np.zeros_like(t), ':k', lw=1)\n",
    "ax.plot(t, h_smooth, '-k', lw=1.5, label='Wiener')\n",
    "ax.plot(t, h_sg, '-', c='gray', lw=1, label='Savitzky-Golay')\n",
    "\n",
    "ax.text(0.98, 0.95, \"Filtered Signal\", ha='right', va='top',\n",
    "        transform=ax.transAxes)\n",
    "ax.legend(loc='upper right', bbox_to_anchor=(0.98, 0.9), frameon=False)\n",
    "\n",
    "ax.set_xlim(0, 90)\n",
    "ax.set_ylim(-0.5, 1.5)\n",
    "\n",
    "ax.xaxis.set_major_locator(plt.MultipleLocator(20))\n",
    "ax.set_xlabel(r'$\\lambda$')\n",
    "ax.set_ylabel('flux')"
   ]
  },
  {
   "cell_type": "markdown",
   "id": "3bbf2edd",
   "metadata": {
    "id": "v4S1w9XdxS65"
   },
   "source": [
    "### Show filtered PSD\n",
    "* The upper panel shows the input power spectral density (PSD) distribution.  \n",
    "* The lower panel shows the Wiener-filtered power spectral density (PSD) distributions.  \n",
    "\n",
    "The two curves in the upper panel represent two-component fit to PSD given by equation\n",
    "\n",
    "$$\\Phi(f) = \\frac{P_S(f)}{P_S(f)+P_N(f)}$$"
   ]
  },
  {
   "cell_type": "code",
   "execution_count": null,
   "id": "7c0eb8c8",
   "metadata": {
    "id": "WMuHlbmxxS65",
    "outputId": "6e335310-ce32-47fd-cee0-a30b8c038649"
   },
   "outputs": [],
   "source": [
    "# Plot the results\n",
    "N = len(t)\n",
    "Df = 1. / N / (t[1] - t[0])\n",
    "f = fftpack.ifftshift(Df * (np.arange(N) - N / 2))\n",
    "HN = fftpack.fft(hN)\n",
    "\n",
    "fig = plt.figure(figsize=(5, 3.75))\n",
    "fig.subplots_adjust(wspace=0.05, hspace=0.35,\n",
    "                    bottom=0.1, top=0.95,\n",
    "                    left=0.12, right=0.95)\n",
    "\n",
    "# Third plot: Input PSD\n",
    "ax = fig.add_subplot(211)\n",
    "ax.scatter(f[:N // 2], PSD[:N // 2], s=9, c='k', lw=0)\n",
    "ax.plot(f[:N // 2], P_S[:N // 2], '-k')\n",
    "ax.plot(f[:N // 2], P_N[:N // 2], '-k')\n",
    "\n",
    "ax.text(0.98, 0.95, \"Input PSD\", ha='right', va='top',\n",
    "        transform=ax.transAxes)\n",
    "\n",
    "ax.set_ylim(-100, 3500)\n",
    "ax.set_xlim(0, 0.9)\n",
    "\n",
    "ax.yaxis.set_major_locator(plt.MultipleLocator(1000))\n",
    "ax.xaxis.set_major_locator(plt.MultipleLocator(0.2))\n",
    "ax.set_xlabel('$f$')\n",
    "ax.set_ylabel('$PSD(f)$')\n",
    "\n",
    "# Fourth plot: Filtered PSD\n",
    "ax = fig.add_subplot(212)\n",
    "filtered_PSD = (Phi * abs(HN)) ** 2\n",
    "ax.scatter(f[:N // 2], filtered_PSD[:N // 2], s=9, c='k', lw=0)\n",
    "\n",
    "ax.text(0.98, 0.95, \"Filtered PSD\", ha='right', va='top',\n",
    "        transform=ax.transAxes)\n",
    "\n",
    "ax.set_ylim(-100, 3500)\n",
    "ax.set_xlim(0, 0.9)\n",
    "\n",
    "ax.yaxis.set_major_locator(plt.MultipleLocator(1000))\n",
    "ax.xaxis.set_major_locator(plt.MultipleLocator(0.2))\n",
    "ax.set_xlabel('$f$')\n",
    "ax.set_ylabel('$PSD(f)$')"
   ]
  },
  {
   "cell_type": "markdown",
   "id": "02fb7a40",
   "metadata": {
    "id": "o4jfFOcTxS66"
   },
   "source": [
    "### Wiener Filter and kernel smoothing Connection\n",
    "There is an interesting connection between the kernel density estimation method discussed in the KDE notebook\n",
    "and Wiener filtering. By the convolution theorem, the Wiener-filtered result is equivalent to the\n",
    "convolution of the unfiltered signal with the inverse Fourier transform of $\\Phi(f)$.  \n",
    "\n",
    "This convolution is equivalent to kernel density estimation. When Wiener filtering is viewed in this way, it effectively says that we believe the signal is as wide as the central\n",
    "peak, and the statistics of the noise are such that the minor peaks in the\n",
    "wings work to cancel out noise in the major peak.  \n",
    "\n",
    "Hence, the modeling of the PSD in the frequency\n",
    "domain via \n",
    "\n",
    "$$\\Phi(f) = \\frac{P_S(f)}{P_S(f)+P_N(f)}$$ \n",
    "\n",
    "corresponds to choosing the optimal kernel width. Just as detailed modeling\n",
    "of the Wiener filter is not of paramount importance, the choice of kernel is not either.\n",
    "\n",
    "We will use the same data as the previous Wiener filter figure as an example to explore this connection."
   ]
  },
  {
   "cell_type": "markdown",
   "id": "e869df1d",
   "metadata": {
    "id": "F7xOtMVCxS66"
   },
   "source": [
    "### Find effective kernel"
   ]
  },
  {
   "cell_type": "code",
   "execution_count": null,
   "id": "2ab14894",
   "metadata": {
    "id": "z2Ku2w21xS66"
   },
   "outputs": [],
   "source": [
    "# inverse fourier transform Phi to find the effective kernel\n",
    "t_plot, kernel = IFT_continuous(f, Phi)"
   ]
  },
  {
   "cell_type": "markdown",
   "id": "87ab2985",
   "metadata": {
    "id": "OoRvHj9ixS66"
   },
   "source": [
    "### perform kernel smoothing\n",
    "This is faster in frequency\n",
    "space (i.e. using the standard Wiener filter above) but we will do it in the slow & simple way here to demonstrate the equivalence explicitly."
   ]
  },
  {
   "cell_type": "code",
   "execution_count": null,
   "id": "55fb05cb",
   "metadata": {
    "id": "XxHPo9gExS66"
   },
   "outputs": [],
   "source": [
    "kernel_func = interpolate.interp1d(t_plot, kernel.real)\n",
    "\n",
    "t_eval = np.linspace(0, 90, 1000)\n",
    "t_KDE = t_eval[:, np.newaxis] - t\n",
    "t_KDE[t_KDE < t_plot[0]] = t_plot[0]\n",
    "t_KDE[t_KDE > t_plot[-1]] = t_plot[-1]\n",
    "F = kernel_func(t_KDE)\n",
    "\n",
    "h_smooth = np.dot(F, hN) / np.sum(F, 1)"
   ]
  },
  {
   "cell_type": "markdown",
   "id": "5311e6a3",
   "metadata": {
    "id": "3X8gmvTrxS66"
   },
   "source": [
    "### Show kernel and smoothing results\n",
    "* The left panel shows the inverse Fourier transform of the Wiener filter $\\Phi(f)$ applied in the sample data we used previously.  \n",
    "* The right panel shows the data smoothed by this kernel, which is equivalent to the Wiener filter smoothing in the previous figure.  \n",
    "\n",
    "By the convolution theorem, the Wiener-filtered result is equivalent to the convolution of the unfiltered signal with\n",
    "the kernel shown above, and thus Wiener filtering and kernel density estimation (KDE) are directly related."
   ]
  },
  {
   "cell_type": "code",
   "execution_count": null,
   "id": "379c9820",
   "metadata": {
    "id": "0PiN2ZBExS66",
    "outputId": "c0d7be9a-7290-4ac2-bfbb-98963289ad33"
   },
   "outputs": [],
   "source": [
    "# Plot the results\n",
    "fig = plt.figure(figsize=(10, 4.4))\n",
    "fig.subplots_adjust(left=0.1, right=0.95, wspace=0.25,\n",
    "                    bottom=0.15, top=0.9)\n",
    "\n",
    "# First plot: the equivalent Kernel to the WF\n",
    "ax = fig.add_subplot(121)\n",
    "ax.plot(t_plot, kernel.real, '-k')\n",
    "ax.text(0.95, 0.95, \"Effective Wiener\\nFilter Kernel\",\n",
    "        ha='right', va='top', transform=ax.transAxes)\n",
    "\n",
    "ax.set_xlim(-10, 10)\n",
    "ax.set_ylim(-0.05, 0.45)\n",
    "ax.set_xlabel(r'$\\lambda$')\n",
    "ax.set_ylabel(r'$K(\\lambda)$')\n",
    "\n",
    "# Second axes: Kernel smoothed results\n",
    "ax = fig.add_subplot(122)\n",
    "ax.plot(t_eval, h_smooth, '-k', lw=1)\n",
    "ax.plot(t_eval, 0 * t_eval, '-k', lw=1)\n",
    "ax.text(0.95, 0.95, \"Kernel smoothing\\nresult\",\n",
    "        ha='right', va='top', transform=ax.transAxes)\n",
    "\n",
    "ax.set_xlim(0, 90)\n",
    "ax.set_ylim(-0.5, 1.5)\n",
    "\n",
    "ax.set_xlabel('$\\lambda$')\n",
    "ax.set_ylabel('flux')\n",
    "\n",
    "plt.show()"
   ]
  },
  {
   "cell_type": "markdown",
   "id": "f706f269",
   "metadata": {
    "id": "9CbCW5s_xS66"
   },
   "source": [
    "## 2. High-pass filters\n",
    "The most common example of high-pass filtering in astronomy is baseline estimation in spectral\n",
    "data. Unlike the case of low-pass filtering, here there is no universal filter recipe. Baseline estimation\n",
    "is usually the first step toward the estimation of model parameters (e.g. location, width, and strength of spectral lines). In such cases, the best approach might be full modeling and\n",
    "marginalization of baseline parameters as nuisance parameters at the end of analysis.  \n",
    "  \n",
    "A simple iterative technique for high-pass filtering, called **minimum component filtering**, is discussed\n",
    "in detail in WJ03. These are the **main steps**:\n",
    "1. Determine baseline: exclude or mask regions where signal is clearly evident and fit a baseline\n",
    "model (e.g., a low-order polynomial) to the unmasked regions.\n",
    "2. Get FT for the signal: after subtracting the baseline fit in the unmasked regions (i.e., a linear\n",
    "regression fit), apply the discrete Fourier transform.\n",
    "3. Filter the signal: remove high frequencies using a low-pass filter (e.g., Wiener filter), and\n",
    "inverse Fourier transform the result.\n",
    "4. Recombine the baseline and the filtered signal: add the baseline fit subtracted in step 2 to\n",
    "the result from step 3. This is the minimum component filtering estimate of baseline.  \n",
    "  \n",
    "In the next two examples, we will see the application of a minimum component filter to the spectrum of a white dwarf."
   ]
  },
  {
   "cell_type": "markdown",
   "id": "ae2e3ae0",
   "metadata": {
    "id": "Ts8lXF3hxS66"
   },
   "source": [
    "## Example 1 (Show steps)\n",
    "### Fetch the data\n",
    "We first fetch the spectrum data from SDSS database for use. The intermediate steps of the minimum component filter procedure applied to the spectrum of a white dwarf from the SDSS data set (mjd= 52199, plate=659, fiber=381)."
   ]
  },
  {
   "cell_type": "code",
   "execution_count": null,
   "id": "070adda3",
   "metadata": {
    "id": "WX3tvLb7xS66",
    "outputId": "184871ff-d340-4d1c-d39c-f4ecfec41177"
   },
   "outputs": [],
   "source": [
    "# Fetch the spectrum from SDSS database\n",
    "plate = 659\n",
    "mjd = 52199\n",
    "fiber = 381\n",
    "\n",
    "data = fetch_sdss_spectrum(plate, mjd, fiber)\n",
    "\n",
    "lam = data.wavelength()\n",
    "spec = data.spectrum"
   ]
  },
  {
   "cell_type": "markdown",
   "id": "c7f7714b",
   "metadata": {
    "id": "uzcLa8RvxS67"
   },
   "source": [
    "### Pre-process the data\n",
    "Wavelengths we get are logorithmically spaced: we will work in log(lam)."
   ]
  },
  {
   "cell_type": "code",
   "execution_count": null,
   "id": "5bdfeeb3",
   "metadata": {
    "id": "KjdsQTRJxS67"
   },
   "outputs": [],
   "source": [
    "def preprocess(lam, spec):\n",
    "    loglam = np.log10(lam)\n",
    "\n",
    "    flag = (lam > 4000) & (lam < 5000)\n",
    "    lam = lam[flag]\n",
    "    loglam = loglam[flag]\n",
    "    spec = spec[flag]\n",
    "\n",
    "    lam = lam[:-1]\n",
    "    loglam = loglam[:-1]\n",
    "    spec = spec[:-1]\n",
    "    \n",
    "    return [lam, loglam, spec]\n",
    "\n",
    "[lam, loglam, spec] = preprocess(lam, spec)"
   ]
  },
  {
   "cell_type": "markdown",
   "id": "970ebe62",
   "metadata": {
    "id": "8J04jlS3xS67"
   },
   "source": [
    "### Apply minimum component filtering steps"
   ]
  },
  {
   "cell_type": "markdown",
   "id": "108847eb",
   "metadata": {
    "id": "FkglHwn3xS67"
   },
   "source": [
    "First step: mask-out significant features"
   ]
  },
  {
   "cell_type": "code",
   "execution_count": null,
   "id": "939a0c94",
   "metadata": {
    "id": "beRD9woQxS67"
   },
   "outputs": [],
   "source": [
    "feature_mask = (((lam > 4080) & (lam < 4130)) |\n",
    "                ((lam > 4315) & (lam < 4370)) |\n",
    "                ((lam > 4830) & (lam < 4900)))"
   ]
  },
  {
   "cell_type": "markdown",
   "id": "4c34444f",
   "metadata": {
    "id": "zEoHf1TFxS67"
   },
   "source": [
    "Second step: fit a line to the unmasked portion of the spectrum"
   ]
  },
  {
   "cell_type": "code",
   "execution_count": null,
   "id": "15abcd30",
   "metadata": {
    "id": "iGTGscg4xS67",
    "outputId": "7d8064b0-7076-4a32-85d0-c3d750411fd2"
   },
   "outputs": [],
   "source": [
    "XX = loglam[:, None] ** np.arange(2)\n",
    "beta = np.linalg.lstsq(XX[~feature_mask], spec[~feature_mask], rcond=None)[0]\n",
    "\n",
    "spec_fit = np.dot(XX, beta)\n",
    "spec_patched = spec - spec_fit\n",
    "spec_patched[feature_mask] = 0"
   ]
  },
  {
   "cell_type": "markdown",
   "id": "70d48a02",
   "metadata": {
    "id": "SfSdQzOAxS67"
   },
   "source": [
    "Third step: Fourier transform the patched spectrum"
   ]
  },
  {
   "cell_type": "code",
   "execution_count": null,
   "id": "c2bc7790",
   "metadata": {
    "id": "J1-cXKPTxS68"
   },
   "outputs": [],
   "source": [
    "N = len(loglam)\n",
    "df = 1. / N / (loglam[1] - loglam[0])\n",
    "f = fftpack.ifftshift(df * (np.arange(N) - N / 2.))\n",
    "spec_patched_FT = fftpack.fft(spec_patched)"
   ]
  },
  {
   "cell_type": "markdown",
   "id": "8d66c7f3",
   "metadata": {
    "id": "0VlkhtydxS68"
   },
   "source": [
    "Fourth step: Low-pass filter on the transform"
   ]
  },
  {
   "cell_type": "code",
   "execution_count": null,
   "id": "998b92be",
   "metadata": {
    "id": "T6PPvAOvxS68"
   },
   "outputs": [],
   "source": [
    "filt = np.exp(- (0.01 * (abs(f) - 100.)) ** 2)\n",
    "filt[abs(f) < 100] = 1\n",
    "\n",
    "spec_filt_FT = spec_patched_FT * filt"
   ]
  },
  {
   "cell_type": "markdown",
   "id": "ff07fe84",
   "metadata": {
    "id": "D8qhl6V9xS68"
   },
   "source": [
    "Fifth step: inverse Fourier transform, and add back the fit"
   ]
  },
  {
   "cell_type": "code",
   "execution_count": null,
   "id": "bc3e1a28",
   "metadata": {
    "id": "tzK1151FxS68"
   },
   "outputs": [],
   "source": [
    "spec_filt = fftpack.ifft(spec_filt_FT)\n",
    "spec_filt += spec_fit"
   ]
  },
  {
   "cell_type": "markdown",
   "id": "4f5ab1aa",
   "metadata": {
    "id": "ipNe0YhKxS68"
   },
   "source": [
    "### Show filter result\n",
    "* The top panel shows the input spectrum; the masked sections of the input spectrum are shown by thin lines (i.e., step 1 of the process). \n",
    "* The bottom panel shows the PSD of the masked spectrum, after the linear fit has been subtracted (gray line). \n",
    "* A simple low-pass filter (dashed line) is applied, and the resulting filtered spectrum (dark line) is used to construct the result shown in the next figure."
   ]
  },
  {
   "cell_type": "code",
   "execution_count": null,
   "id": "d85d0f56",
   "metadata": {
    "id": "m_SNHlE2xS68",
    "outputId": "8f496cd1-6cd7-4974-c3a1-d8044b89749a"
   },
   "outputs": [],
   "source": [
    "# plot results\n",
    "fig = plt.figure(figsize=(5, 3.75))\n",
    "fig.subplots_adjust(hspace=0.45)\n",
    "\n",
    "ax = fig.add_subplot(211)\n",
    "ax.plot(lam, spec, '-', c='gray')\n",
    "ax.plot(lam, spec_patched + spec_fit, '-k')\n",
    "\n",
    "ax.set_ylim(25, 110)\n",
    "ax.set_xlim(4000, 5000)\n",
    "\n",
    "ax.set_xlabel(r'$\\lambda\\ {\\rm(\\AA)}$')\n",
    "ax.set_ylabel('flux')\n",
    "\n",
    "ax = fig.add_subplot(212)\n",
    "factor = 15 * (loglam[1] - loglam[0])\n",
    "ax.plot(fftpack.fftshift(f),\n",
    "        factor * fftpack.fftshift(abs(spec_patched_FT) ** 1),\n",
    "        '-', c='gray', label='masked/shifted spectrum')\n",
    "ax.plot(fftpack.fftshift(f),\n",
    "        factor * fftpack.fftshift(abs(spec_filt_FT) ** 1),\n",
    "        '-k', label='filtered spectrum')\n",
    "ax.plot(fftpack.fftshift(f),\n",
    "        fftpack.fftshift(filt), '--k', label='filter')\n",
    "\n",
    "ax.set_xlim(0, 2000)\n",
    "ax.set_ylim(0, 1.1)\n",
    "\n",
    "ax.set_xlabel('$f$')\n",
    "ax.set_ylabel('scaled $PSD(f)$')"
   ]
  },
  {
   "cell_type": "markdown",
   "id": "f33300de",
   "metadata": {
    "id": "fX9AKH9XxS69"
   },
   "source": [
    "## Example 2 (use package)\n",
    "### Fetch the data\n",
    "We follow the same process to analyze the same white dwarf example. Here instead of explicitly applying steps, we call function *min_component_filter* to achieve the same goal."
   ]
  },
  {
   "cell_type": "code",
   "execution_count": null,
   "id": "7efb47fd",
   "metadata": {
    "id": "_877Orm7xS69"
   },
   "outputs": [],
   "source": [
    "plate = 659\n",
    "mjd = 52199\n",
    "fiber = 381\n",
    "\n",
    "data = fetch_sdss_spectrum(plate, mjd, fiber)\n",
    "\n",
    "lam = data.wavelength()\n",
    "spec = data.spectrum"
   ]
  },
  {
   "cell_type": "markdown",
   "id": "4e49b279",
   "metadata": {
    "id": "IU9mYPyexS69"
   },
   "source": [
    "### Pre-process the data"
   ]
  },
  {
   "cell_type": "code",
   "execution_count": null,
   "id": "343102b9",
   "metadata": {
    "id": "SRil6iHMxS69"
   },
   "outputs": [],
   "source": [
    "[lam, loglam, spec] = preprocess(lam,spec)"
   ]
  },
  {
   "cell_type": "markdown",
   "id": "642a8a61",
   "metadata": {
    "id": "YWBCxlnaxS69"
   },
   "source": [
    "### Apply minimum component filtering using function\n",
    "The function used here is *min_component_filter* in *astroML.filters* package."
   ]
  },
  {
   "cell_type": "code",
   "execution_count": null,
   "id": "363be129",
   "metadata": {
    "id": "U5fxYgtWxS69"
   },
   "outputs": [],
   "source": [
    "feature_mask = (((lam > 4080) & (lam < 4130)) |\n",
    "                ((lam > 4315) & (lam < 4370)) |\n",
    "                ((lam > 4830) & (lam < 4900)))\n",
    "\n",
    "spec_filtered = min_component_filter(loglam, spec, feature_mask, fcut=100)"
   ]
  },
  {
   "cell_type": "markdown",
   "id": "7d3f6ce4",
   "metadata": {
    "id": "OfgWgHbwxS69"
   },
   "source": [
    "### Compute PSD of filtered and unfiltered versions"
   ]
  },
  {
   "cell_type": "code",
   "execution_count": null,
   "id": "6d41f818",
   "metadata": {
    "id": "e86wfwZExS69"
   },
   "outputs": [],
   "source": [
    "f, spec_filt_PSD = PSD_continuous(loglam, spec_filtered)\n",
    "f, spec_PSD = PSD_continuous(loglam, spec)"
   ]
  },
  {
   "cell_type": "markdown",
   "id": "c37ed15a",
   "metadata": {
    "id": "D_xm9FppxS69"
   },
   "source": [
    "### Show filter result\n",
    "* The upper panel shows a portion of the input spectrum, along with the continuum computed via the minimum component filtering procedure described above (See the previous figure). \n",
    "* The lower panel shows the PSD for both the input spectrum and the filtered result."
   ]
  },
  {
   "cell_type": "code",
   "execution_count": null,
   "id": "5ca3f184",
   "metadata": {
    "id": "BCvqIFTSxS69"
   },
   "outputs": [],
   "source": [
    "# Plot the results\n",
    "fig = plt.figure(figsize=(5, 3.75))\n",
    "fig.subplots_adjust(hspace=0.45)\n",
    "\n",
    "# Top panel: plot noisy and smoothed spectrum\n",
    "ax = fig.add_subplot(211)\n",
    "ax.plot(lam, spec, '-', c='gray', lw=1)\n",
    "ax.plot(lam, spec_filtered, '-k')\n",
    "\n",
    "ax.text(0.97, 0.93, \"SDSS white dwarf\\n %i-%i-%i\" % (mjd, plate, fiber),\n",
    "        ha='right', va='top', transform=ax.transAxes)\n",
    "\n",
    "ax.set_ylim(25, 110)\n",
    "ax.set_xlim(4000, 5000)\n",
    "\n",
    "ax.set_xlabel(r'$\\lambda\\ {\\rm (\\AA)}$')\n",
    "ax.set_ylabel('flux')\n",
    "\n",
    "# Bottom panel: plot noisy and smoothed PSD\n",
    "ax = fig.add_subplot(212, yscale='log')\n",
    "ax.plot(f, spec_PSD, '-', c='gray', lw=1)\n",
    "ax.plot(f, spec_filt_PSD, '-k')\n",
    "\n",
    "ax.set_xlabel(r'$f$')\n",
    "ax.set_ylabel('$PSD(f)$')\n",
    "ax.set_xlim(0, 2000)"
   ]
  },
  {
   "cell_type": "code",
   "execution_count": null,
   "id": "1b31555c",
   "metadata": {
    "id": "4Rq-shUYxS6-"
   },
   "outputs": [],
   "source": []
  }
 ],
 "metadata": {
  "jupytext": {
   "formats": "ipynb,md:myst",
   "text_representation": {
    "extension": ".md",
    "format_name": "myst",
    "format_version": 0.13,
    "jupytext_version": "1.11.1"
   }
  },
  "kernelspec": {
   "display_name": "Python 3",
   "language": "python",
   "name": "python3"
  },
  "source_map": [
   15,
   20,
   35,
   41,
   57,
   80,
   85,
   124,
   129,
   142,
   150,
   157,
   166,
   188,
   198,
   247,
   268,
   272,
   279,
   285,
   299,
   308,
   344,
   365,
   371,
   386,
   391,
   411,
   415,
   419,
   427,
   431,
   443,
   447,
   456,
   460,
   469,
   473,
   480,
   487,
   523,
   529,
   542,
   546,
   552,
   557,
   567,
   571,
   578,
   584,
   615
  ]
 },
 "nbformat": 4,
 "nbformat_minor": 5
}