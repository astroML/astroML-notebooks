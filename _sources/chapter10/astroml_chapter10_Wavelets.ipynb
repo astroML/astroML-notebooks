{
 "cells": [
  {
   "cell_type": "markdown",
   "metadata": {
    "id": "BQtTNi7TAs0N"
   },
   "source": [
    "\n",
    "## Wavelets\n",
    "An increasingly popular family of basis functions is called **wavelets**. By construction, wavelets are localized in both frequency and time domains. Individual wavelets are specified by a set of wavelet filter coefficients. Given a wavelet, a complete\n",
    "orthonormal set of basis functions can be constructed by scalings and translations. Different wavelet families trade the localization of a wavelet with its smoothness."
   ]
  },
  {
   "cell_type": "markdown",
   "metadata": {
    "id": "-l7RKsPDAs0O"
   },
   "source": [
    "### Wavelet transform of Gaussian Noise\n",
    "Below we have an example using a particular wavelet to compute a wavelet PSD as a\n",
    "function of time $t_0$ and frequency $f_0$. The wavelet used is of the form\n",
    "\n",
    "$$w(t|t_0,f_0,Q) = A exp[i2\\pi f_0 (t-t_0)]exp[-f_0^2(t-t_0)^2/Q^2]$$\n",
    "\n",
    "where $t_0$ is the central time, $f_0$ is the central frequency, and the dimensionless parameter Q is\n",
    "a model parameter which controls the width of the frequency window.  \n",
    "The Fourier transform of this form is \n",
    "\n",
    "$$W(f|t_0,f_0,Q)=(\\frac{\\pi}{f^2_0/Q^2})^{1/2} exp(-i2\\pi f t_0) exp[\\frac{-\\pi^2Q^2(f-f_0)^2}{Qf^2_0}]$$\n",
    "  \n",
    "Note that the form given by above equations is not technically a wavelet because it\n",
    "does not meet the admissibility criterion (the equivalent of orthogonality in Fourier transforms).\n",
    "This form is closely related to a true wavelet, the *Morlet wavelet*, through a simple scaling and offset. Therefore, these equations should probaly be referred to as \"matched filters\" rather than \"wavelets\".  \n",
    "However, these functions display quite nicely one\n",
    "main property of wavelets: the localization of power in both time and frequency. For this reason,\n",
    "we will refer to these functions as \"wavelets,\" and explore their ability to localize frequency signals."
   ]
  },
  {
   "cell_type": "markdown",
   "metadata": {
    "id": "QaJpDP5zAs0P"
   },
   "source": [
    "#### Imput signal\n",
    "We take a localized Gaussian noise as imput signal, as shown below."
   ]
  },
  {
   "cell_type": "code",
   "execution_count": 22,
   "metadata": {
    "colab": {
     "base_uri": "https://localhost:8080/",
     "height": 190
    },
    "executionInfo": {
     "elapsed": 517,
     "status": "ok",
     "timestamp": 1604619099792,
     "user": {
      "displayName": "Brigitta Sipocz",
      "photoUrl": "https://lh3.googleusercontent.com/a-/AOh14GgSZ5lvx2m0gmkej0jid6to7H2aVpPwrDwknsPBVg=s64",
      "userId": "02384660603430700458"
     },
     "user_tz": 480
    },
    "id": "JcncX26EAs0P",
    "outputId": "6e2f3186-78ff-491c-a42c-70c628e43181"
   },
   "outputs": [],
   "source": [
    "import numpy as np\n",
    "from matplotlib import pyplot as plt\n",
    "\n",
    "from astroML.fourier import sinegauss, wavelet_PSD, FT_continuous, IFT_continuous\n",
    "\n",
    "from astroML.plotting import setup_text_plots\n",
    "setup_text_plots(usetex=True)"
   ]
  },
  {
   "cell_type": "code",
   "execution_count": 14,
   "metadata": {
    "colab": {
     "base_uri": "https://localhost:8080/",
     "height": 190
    },
    "executionInfo": {
     "elapsed": 517,
     "status": "ok",
     "timestamp": 1604619099792,
     "user": {
      "displayName": "Brigitta Sipocz",
      "photoUrl": "https://lh3.googleusercontent.com/a-/AOh14GgSZ5lvx2m0gmkej0jid6to7H2aVpPwrDwknsPBVg=s64",
      "userId": "02384660603430700458"
     },
     "user_tz": 480
    },
    "id": "JcncX26EAs0P",
    "outputId": "6e2f3186-78ff-491c-a42c-70c628e43181"
   },
   "outputs": [
    {
     "data": {
      "text/plain": [
       "Text(0, 0.5, '$h(t)$')"
      ]
     },
     "execution_count": 14,
     "metadata": {},
     "output_type": "execute_result"
    },
    {
     "data": {
      "image/png": "[encoded data removed]",
      "text/plain": [
       "<Figure size 432x144 with 1 Axes>"
      ]
     },
     "metadata": {
      "needs_background": "light"
     },
     "output_type": "display_data"
    }
   ],
   "source": [
    "# Sample the function: localized noise\n",
    "np.random.seed(0)\n",
    "\n",
    "N = 1024\n",
    "t = np.linspace(-5, 5, N)\n",
    "x = np.ones(len(t))\n",
    "\n",
    "h = np.random.normal(0, 1, len(t))\n",
    "h *= np.exp(-0.5 * (t / 0.5) ** 2)\n",
    "\n",
    "# Show signal\n",
    "fig = plt.figure(figsize=(6, 2))\n",
    "fig.subplots_adjust(hspace=0.05, left=0.12, right=0.95, bottom=0.08, top=0.95)\n",
    "\n",
    "ax = fig.add_subplot(111)\n",
    "ax.plot(t, h, '-k', lw=1)\n",
    "ax.text(0.02, 0.95, (\"Input Signal:\\n\"\n",
    "                     \"Localized Gaussian noise\"),\n",
    "        ha='left', va='top', transform=ax.transAxes)\n",
    "\n",
    "ax.set_xlim(-4, 4)\n",
    "ax.set_ylim(-2.9, 2.9)\n",
    "ax.set_ylabel('$h(t)$')"
   ]
  },
  {
   "cell_type": "markdown",
   "metadata": {
    "id": "c8_zNiMNAs0S"
   },
   "source": [
    "#### Compute wavelet\n",
    "We compute the wavelet from sample data using *sinegauss* function in *astroML.fourier*.  \n",
    "Here we take Q=1.0 to control the width of the frequency window. \n",
    "In the plot, solid line and dashed line show the real part and imaginary part respectively."
   ]
  },
  {
   "cell_type": "code",
   "execution_count": 15,
   "metadata": {
    "colab": {
     "base_uri": "https://localhost:8080/",
     "height": 190
    },
    "executionInfo": {
     "elapsed": 639,
     "status": "ok",
     "timestamp": 1604619105338,
     "user": {
      "displayName": "Brigitta Sipocz",
      "photoUrl": "https://lh3.googleusercontent.com/a-/AOh14GgSZ5lvx2m0gmkej0jid6to7H2aVpPwrDwknsPBVg=s64",
      "userId": "02384660603430700458"
     },
     "user_tz": 480
    },
    "id": "oYMQ1VI9As0S",
    "outputId": "07d4408d-5cde-4d80-ef0d-01cc0a133a39"
   },
   "outputs": [
    {
     "data": {
      "text/plain": [
       "Text(0, 0.5, '$w(t; t_0, f_0, Q)$')"
      ]
     },
     "execution_count": 15,
     "metadata": {},
     "output_type": "execute_result"
    },
    {
     "data": {
      "image/png": "[encoded data removed]",
      "text/plain": [
       "<Figure size 432x144 with 1 Axes>"
      ]
     },
     "metadata": {
      "needs_background": "light"
     },
     "output_type": "display_data"
    }
   ],
   "source": [
    "# Compute an example wavelet\n",
    "W = sinegauss(t, 0, 1.5, Q=1.0)\n",
    "\n",
    "# Show the example wavelet\n",
    "fig = plt.figure(figsize=(6, 2))\n",
    "fig.subplots_adjust(hspace=0.05, left=0.12, right=0.95, bottom=0.08, top=0.95)\n",
    "\n",
    "ax = fig.add_subplot(111)\n",
    "ax.plot(t, W.real, '-k', label='real part', lw=1)\n",
    "ax.plot(t, W.imag, '--k', label='imag part', lw=1)\n",
    "\n",
    "ax.text(0.02, 0.95, (\"Example Wavelet\\n\"\n",
    "                     \"$t_0 = 0$, $f_0=1.5$, $Q=1.0$\"),\n",
    "        ha='left', va='top', transform=ax.transAxes)\n",
    "ax.text(0.98, 0.05,\n",
    "        (r\"$w(t; t_0, f_0, Q) = e^{-[f_0 (t - t_0) / Q]^2}\"\n",
    "         \"e^{2 \\pi i f_0 (t - t_0)}$\"),\n",
    "        ha='right', va='bottom', transform=ax.transAxes)\n",
    "\n",
    "ax.legend(loc=1)\n",
    "\n",
    "ax.set_xlim(-4, 4)\n",
    "ax.set_ylim(-1.4, 1.4)\n",
    "ax.set_ylabel('$w(t; t_0, f_0, Q)$')"
   ]
  },
  {
   "cell_type": "markdown",
   "metadata": {
    "id": "S8WEVPlOAs0V"
   },
   "source": [
    "#### Compute PSD\n",
    "The wavelet PSD (power spectral density) is defined by $PSD_w(f0, t0;Q) = |Hw(t_0; f_0,Q)|^2$. Unlike\n",
    "the typical Fourier-transform PSD, the wavelet PSD allows detection of frequency information\n",
    "which is localized in time.  \n",
    "Here we compute the wavelet PSD from sample wavelet using *wavelet_PSD* function in *astroML.fourier*. \n",
    "  \n",
    "The plot shows the PSD as a function of the frequency $f_0$ and the time $t_0$, for Q = 1.0."
   ]
  },
  {
   "cell_type": "code",
   "execution_count": 16,
   "metadata": {
    "colab": {
     "base_uri": "https://localhost:8080/",
     "height": 206
    },
    "executionInfo": {
     "elapsed": 614,
     "status": "ok",
     "timestamp": 1604619111067,
     "user": {
      "displayName": "Brigitta Sipocz",
      "photoUrl": "https://lh3.googleusercontent.com/a-/AOh14GgSZ5lvx2m0gmkej0jid6to7H2aVpPwrDwknsPBVg=s64",
      "userId": "02384660603430700458"
     },
     "user_tz": 480
    },
    "id": "0OtALNJBAs0V",
    "outputId": "540747e8-f1d1-4e0a-ebc7-ce31cffc7f71"
   },
   "outputs": [
    {
     "data": {
      "text/plain": [
       "Text(0, 0.5, '$f_0$')"
      ]
     },
     "execution_count": 16,
     "metadata": {},
     "output_type": "execute_result"
    },
    {
     "data": {
      "image/png": "[encoded data removed]",
      "text/plain": [
       "<Figure size 432x144 with 1 Axes>"
      ]
     },
     "metadata": {
      "needs_background": "light"
     },
     "output_type": "display_data"
    }
   ],
   "source": [
    "# Compute the wavelet PSD\n",
    "f0 = np.linspace(0.5, 7.5, 100)\n",
    "wPSD = wavelet_PSD(t, h, f0, Q=1.0)\n",
    "\n",
    "# Plot the results\n",
    "fig = plt.figure(figsize=(6, 2))\n",
    "fig.subplots_adjust(hspace=0.05, left=0.12, right=0.95, bottom=0.08, top=0.95)\n",
    "\n",
    "# Third panel: the spectrogram\n",
    "ax = plt.subplot(111)\n",
    "ax.imshow(wPSD, origin='lower', aspect='auto',\n",
    "          extent=[t[0], t[-1], f0[0], f0[-1]])\n",
    "\n",
    "ax.text(0.02, 0.95, (\"Wavelet PSD\"), color='w',\n",
    "        ha='left', va='top', transform=ax.transAxes)\n",
    "\n",
    "ax.set_xlim(-4, 4)\n",
    "ax.set_ylim(0.5, 7.5)\n",
    "\n",
    "ax.set_xlabel('$t$')\n",
    "ax.set_ylabel('$f_0$')"
   ]
  },
  {
   "cell_type": "markdown",
   "metadata": {
    "id": "AsTpGRAlAs0Y"
   },
   "source": [
    "### Wavelet transform of a Noisy Spike\n",
    "Here we use wavelet transform when the imput data is noisy spike rather than local Gaussian. "
   ]
  },
  {
   "cell_type": "markdown",
   "metadata": {
    "id": "NO1TXCPRAs0Y"
   },
   "source": [
    "#### Define functions and construct imput noise\n",
    "This example uses a Gaussian spike in the presence of white (Gaussian) noise as the imput noise. The imput signal is shown below."
   ]
  },
  {
   "cell_type": "code",
   "execution_count": 17,
   "metadata": {
    "colab": {
     "base_uri": "https://localhost:8080/",
     "height": 190
    },
    "executionInfo": {
     "elapsed": 741,
     "status": "ok",
     "timestamp": 1604619115773,
     "user": {
      "displayName": "Brigitta Sipocz",
      "photoUrl": "https://lh3.googleusercontent.com/a-/AOh14GgSZ5lvx2m0gmkej0jid6to7H2aVpPwrDwknsPBVg=s64",
      "userId": "02384660603430700458"
     },
     "user_tz": 480
    },
    "id": "zdSh-6VuAs0Z",
    "outputId": "01464812-b12a-43ef-9f87-a2c331e17a7f"
   },
   "outputs": [
    {
     "data": {
      "text/plain": [
       "Text(0, 0.5, '$h(t)$')"
      ]
     },
     "execution_count": 17,
     "metadata": {},
     "output_type": "execute_result"
    },
    {
     "data": {
      "image/png": "[encoded data removed]",
      "text/plain": [
       "<Figure size 432x144 with 1 Axes>"
      ]
     },
     "metadata": {
      "needs_background": "light"
     },
     "output_type": "display_data"
    }
   ],
   "source": [
    "def wavelet(t, t0, f0, Q):\n",
    "    return (np.exp(-(f0 / Q * (t - t0)) ** 2)\n",
    "            * np.exp(2j * np.pi * f0 * (t - t0)))\n",
    "\n",
    "def wavelet_FT(f, t0, f0, Q):\n",
    "    # this is its fourier transform using\n",
    "    # H(f) = integral[ h(t) exp(-2pi i f t) dt]\n",
    "    return (np.sqrt(np.pi) * Q / f0\n",
    "            * np.exp(-2j * np.pi * f * t0)\n",
    "            * np.exp(-(np.pi * (f - f0) * Q / f0) ** 2))\n",
    "\n",
    "def check_funcs(t0=1, f0=2, Q=3):\n",
    "    t = np.linspace(-5, 5, 10000)\n",
    "    h = wavelet(t, t0, f0, Q)\n",
    "\n",
    "    f, H = FT_continuous(t, h)\n",
    "    assert np.allclose(H, wavelet_FT(f, t0, f0, Q))\n",
    "\n",
    "    \n",
    "# Create the simulated dataset\n",
    "np.random.seed(5)\n",
    "\n",
    "t = np.linspace(-40, 40, 2001)[:-1]\n",
    "h = np.exp(-0.5 * ((t - 20.) / 1.0) ** 2)\n",
    "hN = h + np.random.normal(0, 0.5, size=h.shape)\n",
    "\n",
    "# Plot the results\n",
    "fig = plt.figure(figsize=(6, 2))\n",
    "fig.subplots_adjust(hspace=0.05, left=0.12, right=0.95, bottom=0.08, top=0.95)\n",
    "\n",
    "# plot the signal\n",
    "ax = fig.add_subplot(111)\n",
    "ax.plot(t, hN, '-k', lw=1)\n",
    "\n",
    "ax.text(0.02, 0.95, (\"Input Signal:\\n\"\n",
    "                     \"Localized spike plus noise\"),\n",
    "        ha='left', va='top', transform=ax.transAxes)\n",
    "\n",
    "ax.set_xlim(-40, 40)\n",
    "ax.set_ylim(-1.2, 2.2)\n",
    "ax.set_ylabel('$h(t)$')"
   ]
  },
  {
   "cell_type": "markdown",
   "metadata": {
    "id": "9Vjbgc9iAs0c"
   },
   "source": [
    "#### Compute wavelet\n",
    "Compute the convolution via the continuous Fourier transform. This is more exact than using the discrete transform, because we have an analytic expression for the FT of the wavelet. The wavelet transform applied to data h(t) is given by\n",
    "\n",
    "$$H_w(t_0;f_0,Q)=\\int^{\\infty}_{\\infty} h(t)w(t|t_0,f_0,Q)dt$$\n",
    "\n",
    "By the convolution theorem $H(f) = A(f)B(f)$, we can write the Fourier transform\n",
    "of $H_w$ as the pointwise product of the Fourier transforms of h(t) and $w*(t; t_0; f_0, Q)$. The first can\n",
    "be approximated using the discrete Fourier transform as shown in appendix E in the textbook; the second can be found using the analytic formula for W(f) in the prevoius section. This allows us to quickly evaluate $H_w$ as a\n",
    "function of $t_0$ and $f_0$, using two $O(N logN)$ fast Fourier transforms."
   ]
  },
  {
   "cell_type": "code",
   "execution_count": 23,
   "metadata": {
    "colab": {
     "base_uri": "https://localhost:8080/",
     "height": 190
    },
    "executionInfo": {
     "elapsed": 897,
     "status": "ok",
     "timestamp": 1604619117301,
     "user": {
      "displayName": "Brigitta Sipocz",
      "photoUrl": "https://lh3.googleusercontent.com/a-/AOh14GgSZ5lvx2m0gmkej0jid6to7H2aVpPwrDwknsPBVg=s64",
      "userId": "02384660603430700458"
     },
     "user_tz": 480
    },
    "id": "hfxn-TYBAs0d",
    "outputId": "f87a369b-7a26-472c-fedd-7cf9d82cbf3a"
   },
   "outputs": [
    {
     "data": {
      "text/plain": [
       "Text(0, 0.5, '$w(t; t_0, f_0, Q)$')"
      ]
     },
     "execution_count": 23,
     "metadata": {},
     "output_type": "execute_result"
    },
    {
     "data": {
      "image/png": "[encoded data removed]",
      "text/plain": [
       "<Figure size 432x144 with 1 Axes>"
      ]
     },
     "metadata": {
      "needs_background": "light"
     },
     "output_type": "display_data"
    }
   ],
   "source": [
    "Q = 0.3\n",
    "f0 = 2 ** np.linspace(-3, -1, 100)\n",
    "\n",
    "f, H = FT_continuous(t, hN)\n",
    "\n",
    "# Plot the results\n",
    "fig = plt.figure(figsize=(6, 2))\n",
    "fig.subplots_adjust(hspace=0.05, left=0.12, right=0.95, bottom=0.08, top=0.95)\n",
    "\n",
    "# plot the wavelet\n",
    "ax = fig.add_subplot(111)\n",
    "W = wavelet(t, 0, 0.125, Q)\n",
    "ax.plot(t, W.real, '-k', label='real part', lw=1)\n",
    "ax.plot(t, W.imag, '--k', label='imag part', lw=1)\n",
    "\n",
    "ax.legend(loc=1)\n",
    "ax.text(0.02, 0.95, (\"Example Wavelet\\n\"\n",
    "                     \"$t_0 = 0$, $f_0=1/8$, $Q=0.3$\"),\n",
    "        ha='left', va='top', transform=ax.transAxes)\n",
    "ax.text(0.98, 0.05,\n",
    "        (r\"$w(t; t_0, f_0, Q) = e^{-[f_0 (t - t_0) / Q]^2}\"\n",
    "         \"e^{2 \\pi i f_0 (t - t_0)}$\"),\n",
    "        ha='right', va='bottom', transform=ax.transAxes)\n",
    "\n",
    "ax.set_xlim(-40, 40)\n",
    "ax.set_ylim(-1.4, 1.4)\n",
    "ax.set_ylabel('$w(t; t_0, f_0, Q)$')"
   ]
  },
  {
   "cell_type": "markdown",
   "metadata": {
    "id": "KCtZICDCAs0f"
   },
   "source": [
    "#### Compute spectrogram\n",
    "We compute spectrogram using *IFT_continuous* in *astroML.fourier*.  \n",
    "The plot below shows the power spectral density as a function of the frequency $f_0$ and the time $t_0$, for Q = 0.3."
   ]
  },
  {
   "cell_type": "code",
   "execution_count": 24,
   "metadata": {
    "colab": {
     "base_uri": "https://localhost:8080/",
     "height": 193
    },
    "executionInfo": {
     "elapsed": 529,
     "status": "ok",
     "timestamp": 1604619119225,
     "user": {
      "displayName": "Brigitta Sipocz",
      "photoUrl": "https://lh3.googleusercontent.com/a-/AOh14GgSZ5lvx2m0gmkej0jid6to7H2aVpPwrDwknsPBVg=s64",
      "userId": "02384660603430700458"
     },
     "user_tz": 480
    },
    "id": "E509qaLuAs0g",
    "outputId": "fd69d628-4978-4abf-ce5c-5499c9a1f737"
   },
   "outputs": [
    {
     "data": {
      "image/png": "[encoded data removed]",
      "text/plain": [
       "<Figure size 432x144 with 1 Axes>"
      ]
     },
     "metadata": {
      "needs_background": "light"
     },
     "output_type": "display_data"
    }
   ],
   "source": [
    "W = np.conj(wavelet_FT(f, 0, f0[:, None], Q))\n",
    "t, HW = IFT_continuous(f, H * W)\n",
    "\n",
    "# Plot the results\n",
    "fig = plt.figure(figsize=(6, 2))\n",
    "fig.subplots_adjust(hspace=0.05, left=0.12, right=0.95, bottom=0.08, top=0.95)\n",
    "\n",
    "# plot the spectrogram\n",
    "ax = fig.add_subplot(111)\n",
    "ax.imshow(abs(HW) ** 2, origin='lower', aspect='auto', cmap=plt.cm.binary,\n",
    "          extent=[t[0], t[-1], np.log2(f0)[0], np.log2(f0)[-1]])\n",
    "ax.set_xlim(-40, 40)\n",
    "\n",
    "ax.text(0.02, 0.95, (\"Wavelet PSD\"), color='w',\n",
    "        ha='left', va='top', transform=ax.transAxes)\n",
    "\n",
    "ax.set_ylim(np.log2(f0)[0], np.log2(f0)[-1])\n",
    "ax.set_xlabel('$t$')\n",
    "ax.set_ylabel('$f_0$')\n",
    "\n",
    "ax.yaxis.set_major_locator(plt.MultipleLocator(1))\n",
    "ax.yaxis.set_major_formatter(plt.FuncFormatter(lambda x, *args: (\"1/%i\"\n",
    "                                                                 % (2 ** -x))))"
   ]
  },
  {
   "cell_type": "markdown",
   "metadata": {
    "id": "w7Xm5RlRAs0i"
   },
   "source": [
    "### Examples of Wavelets\n",
    "The resulting wavelets vary from different parameters Q and $f_0$. \n",
    "Here we take several different parameters Q and $f_0$ and show the result wavelets, taking the prevoius Gaussian sample imput. "
   ]
  },
  {
   "cell_type": "code",
   "execution_count": 25,
   "metadata": {
    "id": "r-sGY7yXAs0j"
   },
   "outputs": [],
   "source": [
    "# Set up the wavelets\n",
    "t0 = 0\n",
    "t = np.linspace(-0.4, 0.4, 10000)\n",
    "f0 = np.array([5, 5, 10, 10])\n",
    "Q = np.array([1, 0.5, 1, 0.5])\n",
    "\n",
    "# compute wavelets all at once\n",
    "W = sinegauss(t, t0, f0[:, None], Q[:, None])"
   ]
  },
  {
   "cell_type": "markdown",
   "metadata": {
    "id": "c-2yd2I5As0l"
   },
   "source": [
    "\n",
    "Solid lines show the real part and dashed lines show the imaginary part."
   ]
  },
  {
   "cell_type": "code",
   "execution_count": 26,
   "metadata": {
    "colab": {
     "base_uri": "https://localhost:8080/",
     "height": 268
    },
    "executionInfo": {
     "elapsed": 926,
     "status": "ok",
     "timestamp": 1604619125187,
     "user": {
      "displayName": "Brigitta Sipocz",
      "photoUrl": "https://lh3.googleusercontent.com/a-/AOh14GgSZ5lvx2m0gmkej0jid6to7H2aVpPwrDwknsPBVg=s64",
      "userId": "02384660603430700458"
     },
     "user_tz": 480
    },
    "id": "nGf1rFphAs0m",
    "outputId": "b9dd0f08-730e-43c8-b497-a49233c0a90f"
   },
   "outputs": [
    {
     "data": {
      "image/png": "[encoded data removed]",
      "text/plain": [
       "<Figure size 360x270 with 4 Axes>"
      ]
     },
     "metadata": {
      "needs_background": "light"
     },
     "output_type": "display_data"
    }
   ],
   "source": [
    "# Plot the wavelets\n",
    "fig = plt.figure(figsize=(5, 3.75))\n",
    "fig.subplots_adjust(hspace=0.05, wspace=0.05)\n",
    "\n",
    "# in each panel, plot and label a different wavelet\n",
    "for i in range(4):\n",
    "    ax = fig.add_subplot(221 + i)\n",
    "    ax.plot(t, W[i].real, '-k')\n",
    "    ax.plot(t, W[i].imag, '--k')\n",
    "\n",
    "    ax.text(0.04, 0.95, \"$f_0 = %i$\\n$Q = %.1f$\" % (f0[i], Q[i]),\n",
    "            ha='left', va='top', transform=ax.transAxes)\n",
    "\n",
    "    ax.set_ylim(-1.2, 1.2)\n",
    "    ax.set_xlim(-0.35, 0.35)\n",
    "\n",
    "    ax.xaxis.set_major_locator(plt.MultipleLocator(0.2))\n",
    "\n",
    "    if i in (0, 1):\n",
    "        ax.xaxis.set_major_formatter(plt.NullFormatter())\n",
    "    else:\n",
    "        ax.set_xlabel('$t$')\n",
    "\n",
    "    if i in (1, 3):\n",
    "        ax.yaxis.set_major_formatter(plt.NullFormatter())\n",
    "    else:\n",
    "        ax.set_ylabel('$w(t)$')"
   ]
  },
  {
   "cell_type": "code",
   "execution_count": null,
   "metadata": {
    "id": "E3ZSdgo5As0o"
   },
   "outputs": [],
   "source": []
  }
 ],
 "metadata": {
  "colab": {
   "name": "Chapter10.2-1.ipynb",
   "provenance": []
  },
  "kernelspec": {
   "display_name": "Python 3",
   "language": "python",
   "name": "python3"
  },
  "language_info": {
   "codemirror_mode": {
    "name": "ipython",
    "version": 3
   },
   "file_extension": ".py",
   "mimetype": "text/x-python",
   "name": "python",
   "nbconvert_exporter": "python",
   "pygments_lexer": "ipython3",
   "version": "3.9.1"
  },
  "toc": {
   "base_numbering": 1,
   "nav_menu": {},
   "number_sections": true,
   "sideBar": true,
   "skip_h1_title": false,
   "title_cell": "Table of Contents",
   "title_sidebar": "Contents",
   "toc_cell": false,
   "toc_position": {},
   "toc_section_display": true,
   "toc_window_display": true
  }
 },
 "nbformat": 4,
 "nbformat_minor": 1
}
