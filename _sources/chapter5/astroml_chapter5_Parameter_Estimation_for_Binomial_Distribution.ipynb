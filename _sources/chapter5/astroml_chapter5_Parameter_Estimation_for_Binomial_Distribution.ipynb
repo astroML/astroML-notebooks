{
 "cells": [
  {
   "cell_type": "markdown",
   "id": "23af79cf",
   "metadata": {
    "colab_type": "text",
    "id": "THlMh2ywJFoq"
   },
   "source": [
    "# Parameter Estimation for a Binomial Distribution"
   ]
  },
  {
   "cell_type": "markdown",
   "id": "1418c0f2",
   "metadata": {
    "colab_type": "text",
    "id": "vOcDP3I_JFov"
   },
   "source": [
    "## Introduction\n",
    "This chapter illustrates the uses of parameter estimation in generating Binomial distribution for a set of measurement, and investigates how the change of parameter **b** (explained below) will change the probability result. In astronomical application, we can use this binary result distrinution to statistically determine the fraction of galaxies\n",
    "which show evidence for a black hole in their center. This chapter will compare the conclusion drawn from Binomial distribution and from Gaussian distribution using a sample data.\n",
    "  \n",
    "## Binomial Distribution\n",
    "Unlike the Gaussian distribution, which describes the distribution of a continuous variable, the\n",
    "binomial distribution describes the distribution of a variable that can take only two discrete values\n",
    "(say, 0 or 1, or success vs. failure, or an event happening or not). If the probability of success is **b**,\n",
    "then the distribution of a discrete variable k (an integer number, unlike x which is a real number)\n",
    "that measures how many times success occurred in N trials (i.e., measurements), is given by\n",
    "\n",
    "$$p(k|b,N)=\\frac{N!}{k!(N-k)!}b^k(1-b)^{N-k}$$\n",
    "\n",
    "Here we have the mean of the binomial distribution given by $\\bar{k} = bN$.  \n",
    "The standard deviation is $\\sigma_k = [N b(1-b)]^{1/2}$.  \n",
    "And the uncertainty (standard error) is $\\sigma_b = \\sigma_k/N$.  \n",
    "  \n",
    "## Posterior probability distribution in binomial distribution\n",
    "Given a set of N measurements (or trials), ${x_i}$, drawn from a binomial distribution described with parameter b, we seek the posterior probability distribution $p(b|{x_i}$). \n",
    "\n",
    "When N is large, b and its (presumably Gaussian) uncertainty $\\sigma_b$ can be determined using the equation above. For small N, the proper procedure is as follows.\n",
    "Assuming that the prior for b is at in the range 0-1, the posterior probability for b is\n",
    "\n",
    "$$p(b|k,N)=Cb^k(1-b)^{N-k}$$\n",
    "\n",
    "where k is now the actual observed number of successes in a data set of N values, and C is a normalization factor with\n",
    "can be determined from the condition $\\int_0^1 p(b|k,N)db = 1$.\n",
    "The maximum posterior occurs at $b_0 = k/N$."
   ]
  },
  {
   "cell_type": "markdown",
   "id": "df4485ae",
   "metadata": {
    "colab_type": "text",
    "id": "vWgWRo4hJFox"
   },
   "source": [
    "## Import Data and Functions"
   ]
  },
  {
   "cell_type": "code",
   "execution_count": null,
   "id": "4c01be90",
   "metadata": {
    "colab": {},
    "colab_type": "code",
    "id": "VOIZcVXBJFoz"
   },
   "outputs": [],
   "source": [
    "import numpy as np\n",
    "import matplotlib\n",
    "from scipy.stats import norm\n",
    "from matplotlib import pyplot as plt"
   ]
  },
  {
   "cell_type": "markdown",
   "id": "15eeb151",
   "metadata": {
    "colab_type": "text",
    "id": "L4u815_kJFo5"
   },
   "source": [
    "### Define functions and calculate result from data\n",
    "Here we vary the b value and draw the resulted posterior probability distribution from our data set. The equation is described below:\n",
    "$$p(b|k,N)=Cb^k(1-b)^{N-k}$$\n",
    "In comparison, we also calculate a Gaussian distribution from the same data set."
   ]
  },
  {
   "cell_type": "code",
   "execution_count": null,
   "id": "2263af3a",
   "metadata": {
    "colab": {},
    "colab_type": "code",
    "id": "V6ZYB8d2JFo6"
   },
   "outputs": [],
   "source": [
    "n = 10  # number of points\n",
    "k = 4   # number of successes from n draws\n",
    "\n",
    "b = np.linspace(0, 1, 100)\n",
    "db = b[1] - b[0]\n",
    "\n",
    "# compute the probability p(b) \n",
    "p_b = b ** k * (1 - b) ** (n - k)\n",
    "p_b /= p_b.sum()\n",
    "p_b /= db\n",
    "cuml_p_b = p_b.cumsum()\n",
    "cuml_p_b /= cuml_p_b[-1]\n",
    "\n",
    "# compute the gaussian approximation\n",
    "p_g = norm(k * 1. / n, 0.16).pdf(b)\n",
    "cuml_p_g = p_g.cumsum()\n",
    "cuml_p_g /= cuml_p_g[-1]"
   ]
  },
  {
   "cell_type": "markdown",
   "id": "651f5e1d",
   "metadata": {
    "colab_type": "text",
    "id": "bLsHtSimJFpA"
   },
   "source": [
    "### Show comparison result\n",
    "* The solid line in the left panel shows the posterior pdf $p(b|k,N)$ for k = 4\n",
    "and N = 10. The dashed line shows a Gaussian approximation. \n",
    "* The right panel shows the corresponding cumulative distributions.  \n",
    "In comparison, a value of 0.1 is marginally likely according to the Gaussian approximation\n",
    "($p_{approx}$(< 0.1) $\\approx$ 0.03) but strongly rejected by the true distribution ($p_{true}$(< 0.1) $\\approx$ 0.003)."
   ]
  },
  {
   "cell_type": "code",
   "execution_count": null,
   "id": "31eeb733",
   "metadata": {
    "colab": {},
    "colab_type": "code",
    "id": "_c27oSTaJFpC",
    "outputId": "6a5f8dc6-5e14-4d8f-d887-33f3c85b0fb1"
   },
   "outputs": [],
   "source": [
    "# Plot posterior as a function of b\n",
    "fig = plt.figure(figsize=(10, 5))\n",
    "fig.subplots_adjust(left=0.11, right=0.95, wspace=0.35, bottom=0.18)\n",
    "\n",
    "ax = fig.add_subplot(121)\n",
    "ax.plot(b, p_b, '-b')\n",
    "ax.plot(b, p_g, '--r')\n",
    "\n",
    "ax.set_ylim(-0.05, 3)\n",
    "ax.set_xlim(0,1)\n",
    "\n",
    "ax.set_xlabel('$b$')\n",
    "ax.set_ylabel('$p(b|x,I)$')\n",
    "\n",
    "ax = fig.add_subplot(122, yscale='log')\n",
    "ax.plot(b, cuml_p_b, '-b')\n",
    "ax.plot(b, cuml_p_g, '--r')\n",
    "ax.plot([0.1, 0.1], [1E-6, 2], ':k')\n",
    "\n",
    "ax.set_xlabel('$b$')\n",
    "ax.set_ylabel('$P(<b|x,I)$')\n",
    "ax.set_ylim(1E-6, 2)\n",
    "ax.set_xlim(0,1)\n",
    "\n",
    "plt.show()"
   ]
  },
  {
   "cell_type": "markdown",
   "id": "667ce520",
   "metadata": {
    "colab_type": "text",
    "id": "it5of1EtxtOb"
   },
   "source": [
    "## Log-likelihood for Binomial Distribution\n",
    "Suppose we have N measurements, ${x_i}$. The measurement errors are gaussian, and the measurement error for each\n",
    "measurement is $\\sigma_i$. This method applies logrithm in searching the posterior probability density function (pdf).\n",
    "Given that the likelihood function for a single measurement, $x_i$, is assumed to follow a Gaussian\n",
    "distribution $\\mathcal{N}(\\mu,\\sigma)$, the likelihood for all measurements is given by\n",
    "$$L_p({x_i}|b,k,N) = ln[p(b,k,N|{x_i})]$$"
   ]
  },
  {
   "cell_type": "code",
   "execution_count": null,
   "id": "bc4d4f6a",
   "metadata": {
    "colab": {},
    "colab_type": "code",
    "executionInfo": {
     "elapsed": 531,
     "status": "ok",
     "timestamp": 1599083038501,
     "user": {
      "displayName": "Zhouyangguang Zhao",
      "photoUrl": "",
      "userId": "12804106343770884783"
     },
     "user_tz": 420
    },
    "id": "1OMYVpYmJFpI"
   },
   "outputs": [],
   "source": [
    "# Define the function for calculating log-likelihood Binomial distribution\n",
    "def bi_logL(b, k, n):\n",
    "    \"\"\"Binomial likelihood\"\"\"\n",
    "    return np.log( b**k * (1-b)**(n-k) )\n",
    "\n",
    "# Define the grid and compute logL\n",
    "b = np.linspace(1, 5, 70)\n",
    "k = np.linspace(1, 5, 70)\n",
    "n = 70\n",
    "\n",
    "logL = bi_logL(b, k, n)\n",
    "logL -= logL.max()"
   ]
  },
  {
   "cell_type": "markdown",
   "id": "d0aac4d6",
   "metadata": {
    "colab_type": "text",
    "id": "RqiFvh9gx03e"
   },
   "source": [
    "## plot result"
   ]
  },
  {
   "cell_type": "code",
   "execution_count": null,
   "id": "2cf7e899",
   "metadata": {
    "colab": {},
    "colab_type": "code",
    "executionInfo": {
     "elapsed": 342,
     "status": "ok",
     "timestamp": 1599083076251,
     "user": {
      "displayName": "Zhouyangguang Zhao",
      "photoUrl": "",
      "userId": "12804106343770884783"
     },
     "user_tz": 420
    },
    "id": "DvUp3WIWJFpM"
   },
   "outputs": [],
   "source": [
    "fig = plt.figure(figsize=(5, 3.75))\n",
    "plt.imshow(logL, origin='lower',\n",
    "           extent=(b[0], b[-1], k[0], k[-1]),\n",
    "           cmap=plt.cm.binary,\n",
    "           aspect='auto')\n",
    "plt.colorbar().set_label(r'$\\log(L)$')\n",
    "plt.clim(-5, 0)\n",
    "\n",
    "plt.contour(b, k, convert_to_stdev(logL),\n",
    "            levels=(0.683, 0.955, 0.997),\n",
    "            colors='k')\n",
    "\n",
    "plt.text(0.5, 0.93, r'$L(\\mu,\\sigma)\\ \\mathrm{for}\\ \\bar{x}=1,\\ V=4,\\ n=10$',\n",
    "         bbox=dict(ec='k', fc='w', alpha=0.9),\n",
    "         ha='center', va='center', transform=plt.gca().transAxes)\n",
    "\n",
    "plt.xlabel(r'$\\mu$')\n",
    "plt.ylabel(r'$\\sigma$')\n",
    "\n",
    "plt.show()"
   ]
  },
  {
   "cell_type": "code",
   "execution_count": null,
   "id": "4b69bf92",
   "metadata": {
    "colab": {},
    "colab_type": "code",
    "id": "WqWFZbF3x3Oq"
   },
   "outputs": [],
   "source": []
  }
 ],
 "metadata": {
  "jupytext": {
   "formats": "ipynb,md:myst",
   "text_representation": {
    "extension": ".md",
    "format_name": "myst",
    "format_version": 0.13,
    "jupytext_version": "1.11.1"
   }
  },
  "kernelspec": {
   "display_name": "Python 3",
   "language": "python",
   "name": "python3"
  },
  "source_map": [
   15,
   20,
   51,
   55,
   66,
   73,
   97,
   106,
   139,
   148,
   177,
   181,
   218
  ]
 },
 "nbformat": 4,
 "nbformat_minor": 5
}