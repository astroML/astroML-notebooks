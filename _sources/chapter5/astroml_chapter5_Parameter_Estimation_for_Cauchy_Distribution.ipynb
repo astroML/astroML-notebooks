{
 "cells": [
  {
   "cell_type": "markdown",
   "metadata": {
    "colab_type": "text",
    "id": "K7l4AAzxVr-K"
   },
   "source": [
    "\n",
    "\n",
    "# Parameter estimation for the Cauchy (Lorentzian) distribution"
   ]
  },
  {
   "cell_type": "markdown",
   "metadata": {
    "colab_type": "text",
    "id": "Nx6NrJGKVr-Q"
   },
   "source": [
    "## Introduction\n",
    "**Cauchy (Lorentzian) distribution** is a symmetric distribution described by location parameter $\\mu$ and a scale parameter $\\gamma$ as \n",
    "\n",
    "$$p(x|\\mu, \\gamma) = \\frac{1}{\\pi \\gamma} (\\frac{\\gamma^2}{\\gamma^2+(x-\\mu)^2})$$  \n",
    "\n",
    "Because its tails decrease as slowly as $x^{-2}$ for large $|x|$, the mean, variance, standard deviation, and higher moments do not exist. Therefore we cannot estimate location and scale parameter from the mean, standard deviation. Instead, we can estimate it from median value and interquartile range for {$x_i$} using a Bayesian approach.  \n",
    "  \n",
    "Suppose we want to determine the location of a lighthouse signal along the coastline. Let coastline located at y = 0, and the lighthouse is at distance $\\gamma$ away from the coastline. Define the angle between the line of light and coastline as $\\theta$, then the position is expressed as $x = \\mu + \\gamma tan(\\theta)$. From $-\\pi/2 \\leq \\theta \\leq \\pi/2$, and angle $\\theta$ is distributed uniformly, we can find data likelihood using $p(x) = (\\pi dx/d\\theta)^{-1}p(\\theta)$.  \n",
    "The datalikelihood for a set of data {$x_i$} with Cauchy distribution is\n",
    "\n",
    "$$p({x_i}|\\mu,\\gamma,I) = \\prod_{i=1}^N \\frac{1}{\\pi}(\\frac{\\gamma}{\\gamma^2+(x_i-\\mu)^2})$$  \n",
    "  \n",
    "In this notebook, we will explore how the changes of $\\mu$ and $\\gamma$ affect the estimated probability density function (pdf)."
   ]
  },
  {
   "cell_type": "markdown",
   "metadata": {
    "colab_type": "text",
    "id": "DDikty8OVr-T"
   },
   "source": [
    "## Import Functions\n",
    "The core function used for the Cauchy function is cauchy in scipy.stats."
   ]
  },
  {
   "cell_type": "code",
   "execution_count": null,
   "metadata": {
    "colab": {},
    "colab_type": "code",
    "id": "76toF_JMVr-W"
   },
   "outputs": [],
   "source": [
    "import numpy as np\n",
    "from matplotlib import pyplot as plt\n",
    "from scipy.stats import cauchy\n",
    "from astroML.plotting.mcmc import convert_to_stdev\n",
    "from astroML.stats import median_sigmaG\n",
    "from astroML.resample import bootstrap"
   ]
  },
  {
   "cell_type": "markdown",
   "metadata": {
    "colab_type": "text",
    "id": "z2L8rf7rVr-l"
   },
   "source": [
    "## Log-likelihood for Cauchy Distribution\n",
    "Given a data set of measured positions {$x_i$}, we need to estimate $\\mu$ and $\\gamma$. Analogously to the Gaussian case discussed in the prevoius chapter, we shall adopt a uniform prior distribution for the location parameter $\\mu$, and a uniform prior distribution for ln$\\gamma$, for $\\mu_{min} \\leq \\mu \\leq \\mu_{max}$ and $\\gamma_{min} \\leq \\gamma \\leq \\gamma_{max}$.  \n",
    "  \n",
    "The logarithm of the posterior pdf is\n",
    "\n",
    "$$L_p \\equiv ln[p(\\mu,\\gamma|{x_i},I)] = constant + (N-1)ln\\gamma - \\sum^N_{i=1}ln[\\gamma^2 + (x_i-\\mu)^2]$$"
   ]
  },
  {
   "cell_type": "markdown",
   "metadata": {
    "colab_type": "text",
    "id": "sIJ7xN0uVr-o"
   },
   "source": [
    "### 1. Define function\n",
    "We define the log-likelihood function as \n",
    "\n",
    "$$L_p \\equiv ln[p(\\mu,\\gamma|{x_i},I)] = constant + (N-1)ln\\gamma - \\sum^N_{i=1}ln[\\gamma^2 + (x_i-\\mu)^2]$$\n",
    "\n",
    "In this example, we will use N = 10 values of $x_i$, $\\mu$ = 0, and $\\gamma$ = 2."
   ]
  },
  {
   "cell_type": "code",
   "execution_count": null,
   "metadata": {
    "colab": {},
    "colab_type": "code",
    "id": "37Q0eG7BVr-q"
   },
   "outputs": [],
   "source": [
    "def cauchy_logL(xi, gamma, mu):\n",
    "    \"\"\"Equation 5.74: cauchy likelihood\"\"\"\n",
    "    xi = np.asarray(xi)\n",
    "    n = xi.size\n",
    "    shape = np.broadcast(gamma, mu).shape\n",
    "\n",
    "    xi = xi.reshape(xi.shape + tuple([1 for s in shape]))\n",
    "\n",
    "    return ((n - 1) * np.log(gamma)\n",
    "            - np.sum(np.log(gamma ** 2 + (xi - mu) ** 2), 0))\n",
    "\n",
    "# Define the grid and compute logL\n",
    "gamma = np.linspace(0.1, 5, 70)\n",
    "mu = np.linspace(-5, 5, 70)\n",
    "\n",
    "np.random.seed(44)\n",
    "mu0 = 0\n",
    "gamma0 = 2\n",
    "xi = cauchy(mu0, gamma0).rvs(10)\n",
    "\n",
    "logL = cauchy_logL(xi, gamma[:, np.newaxis], mu)\n",
    "logL -= logL.max()"
   ]
  },
  {
   "cell_type": "markdown",
   "metadata": {
    "colab_type": "text",
    "id": "XjiRQRinVr-0"
   },
   "source": [
    "### 2. Find mu and gamma at max data likelihood\n",
    "We can find $\\mu$ and $\\gamma$ that maximize L by setting the derivative of L to 0, as $\\frac{dlnL(\\mu)}{d\\mu}\\Big|_{\\mu^0} \\equiv 0$. Here in this example, the result is $\\mu = -0.36$, and $\\gamma = 0.81$.  \n",
    "  \n",
    "Median and interquartile range imply $\\mu = -0.26$ and $\\gamma = 1.11$. The interquartile range for the Cauchy distribution is equal to $2\\gamma$ and thus\n",
    "$$\\sigma_G = 1.483\\gamma$$\n",
    "\n",
    "When using this shortcut, the bootstrap method can be used to estimate parameter uncertainties as shown in the next section."
   ]
  },
  {
   "cell_type": "code",
   "execution_count": null,
   "metadata": {
    "colab": {},
    "colab_type": "code",
    "id": "2gh0hD7iVr-2",
    "outputId": "550753cd-33ea-4b7a-e205-07388840b9c6"
   },
   "outputs": [
    {
     "name": "stdout",
     "output_type": "stream",
     "text": [
      "mu from likelihood: [-0.36231884]\n",
      "gamma from likelihood: [0.81014493]\n",
      "\n",
      "mu from median -0.2625695623133895\n",
      "gamma from quartiles: 1.10950042396172\n",
      "\n"
     ]
    }
   ],
   "source": [
    "i, j = np.where(logL >= np.max(logL))\n",
    "\n",
    "print(\"mu from likelihood:\", mu[j])\n",
    "print(\"gamma from likelihood:\", gamma[i])\n",
    "print()\n",
    "\n",
    "med, sigG = median_sigmaG(xi)\n",
    "print(\"mu from median\", med)\n",
    "print(\"gamma from quartiles:\", sigG / 1.483)\n",
    "print()"
   ]
  },
  {
   "cell_type": "markdown",
   "metadata": {
    "colab_type": "text",
    "id": "CWlWJI5EVr_D"
   },
   "source": [
    "### 3. Plot the results\n",
    "Here we show the result of the logarithm of posterior probability distribution for $\\mu$ and $\\gamma$ for $L_p(\\mu,\\gamma)$ given above.   \n",
    "This example uses N = 10, $\\mu$ = 0 and $\\gamma$ = 2. The maximum of L is renormalized to 0, and color coded as shown in the legend. The contours enclose the regions that contain 0.683, 0.955 and 0.997 of the cumulative (integrated) posterior probability."
   ]
  },
  {
   "cell_type": "code",
   "execution_count": null,
   "metadata": {
    "colab": {},
    "colab_type": "code",
    "id": "AZ1gtXlkVr_G",
    "outputId": "73b6142d-956b-47bd-d383-d751ccfb8094"
   },
   "outputs": [
    {
     "data": {
      "image/png": "[encoded data removed]",
      "text/plain": [
       "<Figure size 360x270 with 2 Axes>"
      ]
     },
     "metadata": {
      "needs_background": "light",
      "tags": []
     },
     "output_type": "display_data"
    }
   ],
   "source": [
    "fig = plt.figure(figsize=(5, 3.75))\n",
    "plt.imshow(logL, origin='lower', cmap=plt.cm.binary,\n",
    "           extent=(mu[0], mu[-1], gamma[0], gamma[-1]),\n",
    "           aspect='auto')\n",
    "plt.colorbar().set_label(r'$\\log(L)$')\n",
    "plt.clim(-5, 0)\n",
    "\n",
    "plt.contour(mu, gamma, convert_to_stdev(logL),\n",
    "            levels=(0.683, 0.955, 0.997),\n",
    "            colors='k')\n",
    "\n",
    "plt.text(0.5, 0.93,\n",
    "         r'$L(\\mu,\\gamma)\\ \\mathrm{for}\\ \\bar{x}=0,\\ \\gamma=2,\\ n=10$',\n",
    "         bbox=dict(ec='k', fc='w', alpha=0.9),\n",
    "         ha='center', va='center', transform=plt.gca().transAxes)\n",
    "\n",
    "plt.xlabel(r'$\\mu$')\n",
    "plt.ylabel(r'$\\gamma$')\n",
    "\n",
    "plt.show()"
   ]
  },
  {
   "cell_type": "markdown",
   "metadata": {
    "colab_type": "text",
    "id": "iIX6uze_Vr_R"
   },
   "source": [
    "## Posterior for Cauchy Distribution\n",
    "In the prevoius secsion, we use the interquartile range shortcut expressed by $\\sigma_G = 1.483\\gamma$ Here we will use a bootstrap method to estimate parameter uncertainties. "
   ]
  },
  {
   "cell_type": "markdown",
   "metadata": {
    "colab_type": "text",
    "id": "HmNQV-wbVr_T"
   },
   "source": [
    "### 1. define function"
   ]
  },
  {
   "cell_type": "code",
   "execution_count": null,
   "metadata": {
    "colab": {},
    "colab_type": "code",
    "id": "C174nTJKVr_V"
   },
   "outputs": [],
   "source": [
    "def estimate_mu_gamma(x, axis=None):\n",
    "    \"\"\"Equation 3.54: Cauchy point estimates\"\"\"\n",
    "    q25, q50, q75 = np.percentile(x, [25, 50, 75], axis=axis)\n",
    "    return q50, 0.5 * (q75 - q25)"
   ]
  },
  {
   "cell_type": "markdown",
   "metadata": {
    "colab_type": "text",
    "id": "PGy5bOH0Vr_g"
   },
   "source": [
    "### 2. Generate sample and use Bootstrap estimation\n",
    "Draw a random sample from the cauchy distribution, and compute marginalized posteriors of mu and gamma. Here we have a Cauchy distributed sample with N = 10, $\\mu = 0$, $\\gamma = 2$. "
   ]
  },
  {
   "cell_type": "code",
   "execution_count": null,
   "metadata": {
    "colab": {},
    "colab_type": "code",
    "id": "y-mTPq4QVr_i"
   },
   "outputs": [],
   "source": [
    "np.random.seed(44)\n",
    "\n",
    "n = 10\n",
    "mu_0 = 0\n",
    "gamma_0 = 2\n",
    "xi = cauchy(mu_0, gamma_0).rvs(n)\n",
    "\n",
    "gamma = np.linspace(0.01, 5, 70)\n",
    "dgamma = gamma[1] - gamma[0]\n",
    "\n",
    "mu = np.linspace(-3, 3, 70)\n",
    "dmu = mu[1] - mu[0]\n",
    "\n",
    "likelihood = np.exp(cauchy_logL(xi, gamma[:, np.newaxis], mu))\n",
    "\n",
    "pmu = likelihood.sum(0)\n",
    "pmu /= pmu.sum() * dmu\n",
    "\n",
    "pgamma = likelihood.sum(1)\n",
    "pgamma /= pgamma.sum() * dgamma\n",
    "\n",
    "# bootstrap estimate\n",
    "mu_bins = np.linspace(-3, 3, 21)\n",
    "gamma_bins = np.linspace(0, 5, 17)\n",
    "\n",
    "mu_bootstrap, gamma_bootstrap = bootstrap(xi, 20000, estimate_mu_gamma,\n",
    "                                          kwargs=dict(axis=1), random_state=0)"
   ]
  },
  {
   "cell_type": "markdown",
   "metadata": {
    "colab_type": "text",
    "id": "dawHHBVKVr_r"
   },
   "source": [
    "### 3. Plot results\n",
    "We will draw a bootstrap estimation (blue dotted lines) of this Cauchy distributed sample along with the posterior pdf (black solid lines). The left two plots show how the result changes with the change of posterior $\\mu$, and the right two plots show how the result changes with the posterior $\\gamma$.  \n",
    "The bottom two plots show the cumulative probability distribution."
   ]
  },
  {
   "cell_type": "code",
   "execution_count": null,
   "metadata": {
    "colab": {},
    "colab_type": "code",
    "id": "pOOoLbRkVr_t",
    "outputId": "e294624e-4852-4ffc-e525-914a7c9a4dfe"
   },
   "outputs": [
    {
     "data": {
      "image/png": "[encoded data removed]",
      "text/plain": [
       "<Figure size 504x504 with 4 Axes>"
      ]
     },
     "metadata": {
      "needs_background": "light",
      "tags": []
     },
     "output_type": "display_data"
    }
   ],
   "source": [
    "fig = plt.figure(figsize=(7, 7))\n",
    "fig.subplots_adjust(wspace=0.35, right=0.95,\n",
    "                    hspace=0.2, top=0.95)\n",
    "\n",
    "# first axes: mu posterior\n",
    "ax1 = fig.add_subplot(221)\n",
    "ax1.plot(mu, pmu, '-k')\n",
    "ax1.hist(mu_bootstrap, mu_bins, density=True,\n",
    "         histtype='step', color='b', linestyle='dashed')\n",
    "ax1.set_xlabel(r'$\\mu$')\n",
    "ax1.set_ylabel(r'$p(\\mu|x,I)$')\n",
    "\n",
    "# second axes: mu cumulative posterior\n",
    "ax2 = fig.add_subplot(223, sharex=ax1)\n",
    "ax2.plot(mu, pmu.cumsum() * dmu, '-k')\n",
    "ax2.hist(mu_bootstrap, mu_bins, density=True, cumulative=True,\n",
    "         histtype='step', color='b', linestyle='dashed')\n",
    "ax2.set_xlabel(r'$\\mu$')\n",
    "ax2.set_ylabel(r'$P(<\\mu|x,I)$')\n",
    "ax2.set_xlim(-3, 3)\n",
    "\n",
    "# third axes: gamma posterior\n",
    "ax3 = fig.add_subplot(222, sharey=ax1)\n",
    "ax3.plot(gamma, pgamma, '-k')\n",
    "ax3.hist(gamma_bootstrap, gamma_bins, density=True,\n",
    "         histtype='step', color='b', linestyle='dashed')\n",
    "ax3.set_xlabel(r'$\\gamma$')\n",
    "ax3.set_ylabel(r'$p(\\gamma|x,I)$')\n",
    "ax3.set_ylim(-0.05, 1.1)\n",
    "\n",
    "# fourth axes: gamma cumulative posterior\n",
    "ax4 = fig.add_subplot(224, sharex=ax3, sharey=ax2)\n",
    "ax4.plot(gamma, pgamma.cumsum() * dgamma, '-k')\n",
    "ax4.hist(gamma_bootstrap, gamma_bins, density=True, cumulative=True,\n",
    "         histtype='step', color='b', linestyle='dashed')\n",
    "ax4.set_xlabel(r'$\\gamma$')\n",
    "ax4.set_ylabel(r'$P(<\\gamma|x,I)$')\n",
    "ax4.set_ylim(-0.05, 1.1)\n",
    "ax4.set_xlim(0, 4)\n",
    "\n",
    "plt.show()"
   ]
  },
  {
   "cell_type": "code",
   "execution_count": null,
   "metadata": {
    "colab": {},
    "colab_type": "code",
    "id": "fWo5_d-UVr_5"
   },
   "outputs": [],
   "source": []
  },
  {
   "cell_type": "code",
   "execution_count": null,
   "metadata": {
    "colab": {},
    "colab_type": "code",
    "id": "Zn_DSiZ3VsAE"
   },
   "outputs": [],
   "source": []
  }
 ],
 "metadata": {
  "colab": {
   "name": "Figure5-10,11.ipynb",
   "provenance": []
  },
  "jupytext": {
   "formats": "ipynb,md:myst"
  },
  "kernelspec": {
   "display_name": "Python 3",
   "language": "python",
   "name": "python3"
  },
  "language_info": {
   "codemirror_mode": {
    "name": "ipython",
    "version": 3
   },
   "file_extension": ".py",
   "mimetype": "text/x-python",
   "name": "python",
   "nbconvert_exporter": "python",
   "pygments_lexer": "ipython3",
   "version": "3.9.1"
  },
  "toc": {
   "base_numbering": 1,
   "nav_menu": {},
   "number_sections": true,
   "sideBar": true,
   "skip_h1_title": false,
   "title_cell": "Table of Contents",
   "title_sidebar": "Contents",
   "toc_cell": false,
   "toc_position": {},
   "toc_section_display": true,
   "toc_window_display": false
  }
 },
 "nbformat": 4,
 "nbformat_minor": 1
}
