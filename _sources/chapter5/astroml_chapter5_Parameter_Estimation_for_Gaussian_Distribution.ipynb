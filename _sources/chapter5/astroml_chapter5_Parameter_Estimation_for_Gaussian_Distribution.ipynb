{
 "cells": [
  {
   "cell_type": "markdown",
   "id": "9886254d",
   "metadata": {
    "colab_type": "text",
    "id": "KA0JN-Zs1TeU"
   },
   "source": [
    "# Parameter Estimation for a Gaussian Distribution"
   ]
  },
  {
   "cell_type": "markdown",
   "id": "66a2b456",
   "metadata": {
    "colab_type": "text",
    "id": "wFKhOMcn1TeY"
   },
   "source": [
    "## Introduction\n",
    "This chapter illustrates the uses of parameter estimation in generating Gaussian distribution for a set of measurement, and investigates how the change of parameters ($\\mu,\\sigma$) will change the pdf result. \n",
    "Moreover, we will compare the posterior parameter estimation with other estimation methods, such as Gaussian distribution and bootstrap estimation.   \n",
    "See *\"Statistics, Data Mining, and Machine Learning in Astronomy:\n",
    "A Practical Python Guide for the Analysis of Survey Data\"* Chapter 5.6.1 for reference."
   ]
  },
  {
   "cell_type": "markdown",
   "id": "80edca94",
   "metadata": {
    "colab_type": "text",
    "id": "ZsynKHc41Tea"
   },
   "source": [
    "## Import Data and Functions"
   ]
  },
  {
   "cell_type": "code",
   "execution_count": null,
   "id": "6f43ed16",
   "metadata": {
    "colab": {},
    "colab_type": "code",
    "id": "m3iltsWF1Tec"
   },
   "outputs": [],
   "source": [
    "import numpy as np\n",
    "from matplotlib import pyplot as plt\n",
    "from astroML.plotting.mcmc import convert_to_stdev\n",
    "\n",
    "from astroML.resample import bootstrap\n",
    "\n",
    "from scipy.stats import norm, anderson\n",
    "from astroML.stats import mean_sigma, median_sigmaG"
   ]
  },
  {
   "cell_type": "markdown",
   "id": "c9f99e18",
   "metadata": {
    "colab_type": "text",
    "id": "J25MhUhJ1Ter"
   },
   "source": [
    "## Log-likelihood for Gaussian Distribution\n",
    "Suppose we have N measurements, ${x_i}$. The measurement errors are Gaussian, and the measurement error for each\n",
    "measurement is $\\sigma_i$ (heteroscedastic errors). This method applies logrithm in searching the posterior probability density function (pdf) as $\\mu: p(\\mu|{x_i},{\\sigma_i})$.  \n",
    "Given that the likelihood function for a single measurement, $x_i$, is assumed to follow a Gaussian\n",
    "distribution $\\mathcal{N}(\\mu,\\sigma)$, the likelihood for all measurements is given by\n",
    "$p({x_i}|\\mu,\\sigma,I) = \\prod_{i=1}^N \\frac{1}{\\sqrt{2\\pi} \\sigma} exp(\\frac{-(x_i-\\mu)^2)}{2\\sigma^2})$\n",
    "Here we have $\\sigma$ to be estimated.\n",
    "\n",
    "Adopting a uniform prior distribution for the location parameter $\\mu$ and a uniform prior distribution for $ln\\sigma$, we have\n",
    "$p(\\mu,\\sigma|I)\\propto \\large{\\frac{1}{\\sigma}}$, for $\\mu_{min}\\leq \\mu \\leq \\mu_{max}$ \n",
    "and $\\sigma_{min} \\leq \\sigma \\leq \\sigma_{max}$.\n",
    "  \n",
    "And the logarithm of the posterior pdf is \n",
    "$$L_p = constant - (N+1)ln\\sigma - \\frac{N}{2\\sigma^2}((\\bar{x}-\\mu)^2 + V)$$\n",
    "\n",
    "where N is the sample size, and V is defined as \n",
    "$V = \\normalsize{N^{-1}\\sum_{i=1}^N(x_i - \\bar{x})^2} = \\large{\\frac{(N-1)s^2}{N}}$,  \n",
    "\n",
    "in which s is the sample standard deviation from equation $s=\\normalsize{\\sqrt{\\frac{1}{N-1}\\sum_{i=1}^{N}(x_i-\\bar{x})^2}}$,  \n",
    "and $\\bar{x}$ is the sample arithmetic mean from $\\normalsize{x_i = \\frac{1}{N}\\sum_{i=1}^{N}x_i}$."
   ]
  },
  {
   "cell_type": "markdown",
   "id": "ac181f87",
   "metadata": {
    "colab_type": "text",
    "id": "W_M9D8IN1Tes"
   },
   "source": [
    "### 1. Define function\n",
    "First we define function to calculate Log-likelihood Gaussian distribution. Taking $\\bar{x}, V, n, \\sigma, \\mu$ as parameters.  \n",
    "In this example, we have N = 10, $\\bar{x}$ = 1, and V = 4. The maximum of $L_p$ is renormalized to 0."
   ]
  },
  {
   "cell_type": "code",
   "execution_count": null,
   "id": "94ffe6bd",
   "metadata": {
    "colab": {},
    "colab_type": "code",
    "id": "1HI7MC4-1Tet"
   },
   "outputs": [],
   "source": [
    "# Define the function for calculating log-likelihood Gaussian distribution\n",
    "def gauss_logL(xbar, V, n, sigma, mu):\n",
    "    \"\"\"Gaussian likelihood\"\"\"\n",
    "    return (-(n + 1) * np.log(sigma)\n",
    "            - 0.5 * n * ((xbar - mu) ** 2 + V) / sigma ** 2)\n",
    "\n",
    "# Define the grid and compute logL\n",
    "sigma = np.linspace(1, 5, 70)\n",
    "mu = np.linspace(-3, 5, 70)\n",
    "xbar = 1\n",
    "V = 4\n",
    "n = 10\n",
    "\n",
    "logL = gauss_logL(xbar, V, n, sigma[:, np.newaxis], mu)\n",
    "logL -= logL.max()"
   ]
  },
  {
   "cell_type": "markdown",
   "id": "506f3dd5",
   "metadata": {
    "colab_type": "text",
    "id": "2RQTWwlo1Te1"
   },
   "source": [
    "### 2. Generate Distribution diagram\n",
    "Next, we draw a Gaussian distribution using the logarithm of the posterior probability density finction for  $\\mu$ and $\\sigma$, $L_p(\\mu,\\sigma)$ in the equation described above.  \n",
    "In this example, the maximum value of $L_p$ is at $\\mu_0 = 1.0$ and $\\sigma_0 = 1.8$. Color code for the density is shown in the legend. The contours enclose the regions that contain 0.683, 0.955, and 0.997 of the cumulative (integrated) posterior probability."
   ]
  },
  {
   "cell_type": "code",
   "execution_count": null,
   "id": "98652ff7",
   "metadata": {
    "colab": {
     "base_uri": "https://localhost:8080/",
     "height": 272
    },
    "colab_type": "code",
    "executionInfo": {
     "elapsed": 1019,
     "status": "ok",
     "timestamp": 1597303638593,
     "user": {
      "displayName": "Zhouyangguang Zhao",
      "photoUrl": "",
      "userId": "12804106343770884783"
     },
     "user_tz": 420
    },
    "id": "nPIagtUZ1Te2",
    "outputId": "39cb23a9-0554-41df-d64e-73fad3f1b7d6"
   },
   "outputs": [],
   "source": [
    "fig = plt.figure(figsize=(5, 3.75))\n",
    "plt.imshow(logL, origin='lower',\n",
    "           extent=(mu[0], mu[-1], sigma[0], sigma[-1]),\n",
    "           cmap=plt.cm.binary,\n",
    "           aspect='auto')\n",
    "plt.colorbar().set_label(r'$\\log(L)$')\n",
    "plt.clim(-5, 0)\n",
    "\n",
    "plt.contour(mu, sigma, convert_to_stdev(logL),\n",
    "            levels=(0.683, 0.955, 0.997),\n",
    "            colors='k')\n",
    "\n",
    "plt.text(0.5, 0.93, r'$L(\\mu,\\sigma)\\ \\mathrm{for}\\ \\bar{x}=1,\\ V=4,\\ n=10$',\n",
    "         bbox=dict(ec='k', fc='w', alpha=0.9),\n",
    "         ha='center', va='center', transform=plt.gca().transAxes)\n",
    "\n",
    "plt.xlabel(r'$\\mu$')\n",
    "plt.ylabel(r'$\\sigma$')\n",
    "\n",
    "plt.show()"
   ]
  },
  {
   "cell_type": "markdown",
   "id": "3a021a1d",
   "metadata": {
    "colab_type": "text",
    "id": "ChDzu3sE1TfA"
   },
   "source": [
    "## Posterior for Gaussian Distribution\n",
    "1. We calculate the result from the **posterior probability density function** $p(\\mu|{x_i},I)$ using equation\n",
    "\n",
    "$$p(\\mu|{x_i},I)\\propto[1+\\frac{(\\bar{x}-\\mu)^2}{V}]^{\\frac{-N}{2}}$$\n",
    "\n",
    "with respect to $\\mu$ (integral over $\\sigma$ for the two-dimensional distribution shown in figure in the above section) when taking uniform prior of $\\sigma$ and prior of $\\sigma$ that is propotional to $\\sigma^{-1}$.  \n",
    "We compare this result with **Gaussian distribution** calculated using parameters $\\bar{x}$ and $\\sigma_{\\bar{x}}$ from\n",
    "\n",
    "$$\\normalsize{\\bar{x} = \\frac{1}{N}\\sum_{i=1}^{N}x_i}$$\n",
    "$$\\sigma_{\\bar{x}}=\\frac{s}{\\sqrt{N}}$$\n",
    "\n",
    "we as well compare it with the mean given by the equation above using **bootstrap estimation**.  \n",
    "\n",
    "2. Also we calculate the result from the **posterior probability density function** $p(\\sigma|{x_i},I)$ by\n",
    "\n",
    "$$p(\\sigma|{x_i},I)\\propto \\frac{1}{\\sigma^N}exp(\\frac{-NV}{2\\sigma^2})$$ \n",
    "\n",
    "with respect to $\\sigma$ (integral over $\\mu$ for the two-dimensional distribution shown in figure in the above section) when taking uniform prior of $\\sigma$ and prior of $\\sigma$ that is propotional to $\\sigma^{-1}$.  \n",
    "We compare this result with **Gaussian distribution** calculated using parameters $s$ and $\\sigma_{s}$ from\n",
    "\n",
    "$$s=\\sqrt{\\frac{1}{N-1}\\sum_{i=1}^{N}(x_i-\\bar{x})^2}$$ \n",
    "$$\\sigma_s = \\frac{s}{\\sqrt{2(N-1)}} = \\frac{1}{\\sqrt{2}}\\sqrt{\\frac{N}{N-1}}\\sigma_{\\bar{x}}$$\n",
    "\n",
    "we as well compare it with the mean given by the equation above using **bootstrap estimation**. \n",
    "  \n",
    "3. The result of probability distribution and a cululative distribution will be displayed."
   ]
  },
  {
   "cell_type": "markdown",
   "id": "7a519bc3",
   "metadata": {
    "colab_type": "text",
    "id": "73Rj_d9z1TfC"
   },
   "source": [
    "### 1. Define functions for computations\n",
    "These are expected analytic fits to the posterior distributions. The functions defined below follows the equation above."
   ]
  },
  {
   "cell_type": "code",
   "execution_count": null,
   "id": "4dc22a09",
   "metadata": {
    "colab": {},
    "colab_type": "code",
    "id": "wOcsF6pT1TfD"
   },
   "outputs": [],
   "source": [
    "def compute_pmu(mu, xbar, V, n):\n",
    "    return (1 + (xbar - mu) ** 2 / V) ** (-0.5 * n)\n",
    "\n",
    "def compute_pmu_alt(mu, xbar, V, n):\n",
    "    return (1 + (xbar - mu) ** 2 / V) ** (-0.5 * (n - 1))\n",
    "\n",
    "def compute_psig(sig, V, n):\n",
    "    return (sig ** -n) * np.exp(-0.5 * n * V / sig ** 2)\n",
    "\n",
    "def compute_psig_alt(sig, V, n):\n",
    "    return (sig ** -(n - 1)) * np.exp(-0.5 * n * V / sig ** 2)\n",
    "\n",
    "def gaussian(x, mu, sigma):\n",
    "    return np.exp(-0.5 * (x - mu) ** 2 / sigma ** 2)"
   ]
  },
  {
   "cell_type": "markdown",
   "id": "2b31cfbb",
   "metadata": {
    "colab_type": "text",
    "id": "pauG6o1GuCk4"
   },
   "source": [
    "Equivalently, we can instead use function (sciypy.stats.norm) in Scipy package to draw a gaussian distribution from sample. See [documentation](https://docs.scipy.org/doc/scipy/reference/generated/scipy.stats.norm.html) for reference. Examples are shown below."
   ]
  },
  {
   "cell_type": "code",
   "execution_count": null,
   "id": "fb731695",
   "metadata": {
    "colab": {},
    "colab_type": "code",
    "id": "_QFhluctuBkj"
   },
   "outputs": [],
   "source": [
    "# draw normal gaussian function\n",
    "# scipy.stats.norm(mean, std) \n",
    "\n",
    "# probability density function \n",
    "# norm.pdf(x, loc, scale)\n",
    "\n",
    "from scipy import stats\n",
    "dist = stats.norm (0, 1) # mean = 0, stdev = 1\n",
    "r = dist.rvs (10) # ten random draws\n",
    "p = dist.pdf (0) # pdf evaluated at x=0"
   ]
  },
  {
   "cell_type": "markdown",
   "id": "db9bc632",
   "metadata": {
    "colab_type": "text",
    "id": "Bqw-Uno5zRYA"
   },
   "source": [
    "Alternatively, in Python 3.8 we have function NormalDist in statistics, which takes $\\mu$ and $\\sigma$ as arguments. \n",
    "See [documentation](https://docs.python.org/3.8/library/statistics.html?highlight=normaldist#statistics.NormalDist) for more information. Example is shown below."
   ]
  },
  {
   "cell_type": "code",
   "execution_count": null,
   "id": "587413ac",
   "metadata": {
    "colab": {},
    "colab_type": "code",
    "id": "WyeNJhewzQiM"
   },
   "outputs": [],
   "source": [
    "# from statistics import NormalDist\n",
    "# NormalDist(mu=100, sigma=10).pdf(x)"
   ]
  },
  {
   "cell_type": "markdown",
   "id": "b387f686",
   "metadata": {
    "colab_type": "text",
    "id": "SoibKAMT1TfL"
   },
   "source": [
    "### 2. Computation\n",
    "Draw a random sample from the distribution, and compute some quantities. Here we take the posterior probability density functions $p(\\mu|\\{x_i\\},I)$ and $p(\\sigma|\\{x_i\\},I)$ with N = 10, x = 1 and V = 4 parameters."
   ]
  },
  {
   "cell_type": "code",
   "execution_count": null,
   "id": "b4665548",
   "metadata": {
    "colab": {},
    "colab_type": "code",
    "id": "IjW73F7M1TfN"
   },
   "outputs": [],
   "source": [
    "n = 10\n",
    "xbar = 1\n",
    "V = 4\n",
    "sigma_x = np.sqrt(V)\n",
    "\n",
    "np.random.seed(10)\n",
    "xi = np.random.normal(xbar, sigma_x, size=n)\n",
    "\n",
    "mu_mean, sig_mean = mean_sigma(xi, ddof=1)\n",
    "\n",
    "# compute the analytically expected spread in measurements\n",
    "mu_std = sig_mean / np.sqrt(n)\n",
    "sig_std = sig_mean / np.sqrt(2 * (n - 1))\n",
    "\n",
    "# bootstrap estimates\n",
    "mu_bootstrap, sig_bootstrap = bootstrap(xi, int(1E6), mean_sigma,\n",
    "                                        kwargs=dict(ddof=1, axis=1))\n",
    "\n",
    "# Compute analytic posteriors\n",
    "\n",
    "# distributions for the mean\n",
    "mu = np.linspace(-3, 5, 1000)\n",
    "dmu = mu[1] - mu[0]\n",
    "\n",
    "pmu = compute_pmu(mu, 1, 4, 10)\n",
    "pmu /= (dmu * pmu.sum())\n",
    "\n",
    "pmu2 = compute_pmu_alt(mu, 1, 4, 10)\n",
    "pmu2 /= (dmu * pmu2.sum())\n",
    "\n",
    "pmu_norm = gaussian(mu, mu_mean, mu_std)\n",
    "pmu_norm /= (dmu * pmu_norm.sum())\n",
    "\n",
    "mu_hist, mu_bins = np.histogram(mu_bootstrap, 20)\n",
    "mu_dbin = np.diff(mu_bins).astype(float)\n",
    "mu_hist = mu_hist / mu_dbin / mu_hist.sum()\n",
    "\n",
    "# distributions for the standard deviation\n",
    "sig = np.linspace(1E-4, 8, 1000)\n",
    "dsig = sig[1] - sig[0]\n",
    "psig = compute_psig(sig, 4, 10)\n",
    "psig /= (dsig * psig.sum())\n",
    "\n",
    "psig2 = compute_psig_alt(sig, 4, 10)\n",
    "psig2 /= (dsig * psig2.sum())\n",
    "\n",
    "psig_norm = gaussian(sig, sig_mean, sig_std)\n",
    "psig_norm /= (dsig * psig_norm.sum())\n",
    "\n",
    "sig_hist, sig_bins = np.histogram(sig_bootstrap, 20)\n",
    "sig_dbin = np.diff(sig_bins).astype(float)\n",
    "sig_hist = sig_hist / sig_dbin / sig_hist.sum()"
   ]
  },
  {
   "cell_type": "markdown",
   "id": "20ac1da7",
   "metadata": {
    "colab_type": "text",
    "id": "OovBz5dS1TfS"
   },
   "source": [
    "### 3. Generate diagram of methods\n",
    "The top two diagrams show how the estimated probability density change with the variations of $\\sigma$ and $\\mu$ parameters, with a comparison of Gaussian distribution and bootstrap estimation of mean value.  \n",
    "  \n",
    "* The solid lines represent the posterior pdf with prior of $\\sigma$ proportional to $\\sigma^{-1}$.  \n",
    "* The dotted lines represent the same pdf with uniform prior of $\\sigma$.  \n",
    "* The dashed lines represent Gaussian distribution with parameters calculated using equations given above.  \n",
    "* The circles represent the bootstrap estimated distribution of mean.  \n",
    "  \n",
    "The bottom two diagrams show the percentage confidence from the above methods. The dotted line shows an equivalent result when the prior for $\\sigma$ is uniform and is proportional."
   ]
  },
  {
   "cell_type": "code",
   "execution_count": null,
   "id": "55201eff",
   "metadata": {
    "colab": {
     "base_uri": "https://localhost:8080/",
     "height": 675
    },
    "colab_type": "code",
    "executionInfo": {
     "elapsed": 2328,
     "status": "ok",
     "timestamp": 1596219255355,
     "user": {
      "displayName": "Zhouyangguang Zhao",
      "photoUrl": "",
      "userId": "12804106343770884783"
     },
     "user_tz": 420
    },
    "id": "L6uJ2j8j1TfT",
    "outputId": "6766f515-918f-47aa-8fda-65de928bec56"
   },
   "outputs": [],
   "source": [
    "fig = plt.figure(figsize=(10, 10))\n",
    "fig.subplots_adjust(wspace=0.35, right=0.95,\n",
    "                    hspace=0.2, top=0.95)\n",
    "\n",
    "# plot posteriors for mu\n",
    "ax1 = plt.subplot(221, yscale='log')\n",
    "ax1.plot(mu, pmu, '-b')\n",
    "ax1.plot(mu, pmu2, ':m')\n",
    "ax1.plot(mu, pmu_norm, '--r')\n",
    "ax1.scatter(mu_bins[1:] - 0.5 * mu_dbin, mu_hist,\n",
    "            edgecolor='k', facecolor='none')\n",
    "\n",
    "ax1.set_xlabel(r'$\\mu$')\n",
    "ax1.set_ylabel(r'$p(\\mu|x,I)$')\n",
    "\n",
    "ax2 = plt.subplot(223, sharex=ax1)\n",
    "ax2.plot(mu, pmu.cumsum() * dmu, '-b')\n",
    "ax2.plot(mu, pmu_norm.cumsum() * dmu, '--r')\n",
    "ax2.scatter(mu_bins[1:] - 0.5 * mu_dbin, mu_hist.cumsum() * mu_dbin,\n",
    "            edgecolor='k', facecolor='none')\n",
    "ax2.set_xlim(-3, 5)\n",
    "\n",
    "ax2.set_xlabel(r'$\\mu$')\n",
    "ax2.set_ylabel(r'$P(<\\mu|x,I)$')\n",
    "\n",
    "# plot posteriors for sigma\n",
    "ax3 = plt.subplot(222, sharey=ax1)\n",
    "ax3.plot(sig, psig, '-b')\n",
    "ax3.plot(sig, psig2, ':m')\n",
    "ax3.plot(sig, psig_norm, '--r')\n",
    "ax3.scatter(sig_bins[1:] - 0.5 * sig_dbin, sig_hist,\n",
    "            edgecolor='k', facecolor='none')\n",
    "ax3.set_ylim(1E-4, 2)\n",
    "\n",
    "ax3.set_xlabel(r'$\\sigma$')\n",
    "ax3.set_ylabel(r'$p(\\sigma|x,I)$')\n",
    "\n",
    "ax4 = plt.subplot(224, sharex=ax3, sharey=ax2)\n",
    "ax4.plot(sig, psig.cumsum() * dsig, '-b')\n",
    "ax4.plot(sig, psig_norm.cumsum() * dsig, '--r')\n",
    "ax4.scatter(sig_bins[1:] - 0.5 * sig_dbin, sig_hist.cumsum() * sig_dbin,\n",
    "            edgecolor='k', facecolor='none')\n",
    "ax4.set_ylim(0, 1.05)\n",
    "ax4.set_xlim(0, 5)\n",
    "\n",
    "ax4.set_xlabel(r'$\\sigma$')\n",
    "ax4.set_ylabel(r'$P(<\\sigma|x,I)$')"
   ]
  },
  {
   "cell_type": "markdown",
   "id": "99839264",
   "metadata": {
    "colab_type": "text",
    "id": "P1Bs7eYf1TfZ"
   },
   "source": [
    "## Gaussian/Gaussian distribution\n",
    "The posterior pdfs correspond to a case where ${x_i}$ are drawn from an unspecifed Gaussian distribution, $\\mathcal{N}(\\mu, \\sigma)$. The width $\\sigma$ can be interpreted in two ways: it could correspond to the intrinsic spread $\\sigma$ of the measured quantity when measurement errors are always negligible, or it could simply be the unknown **homoscedastic** measurement error when measuring a single-valued quantity. A more general case is when the measured quantity is drawn from some distribution whose parameters we are trying to estimate, and the known measurement errors are **heteroscedastic**.\n",
    "  \n",
    "If the errors are homoscedastic, the resulting distribution of measurements is Gaussian. If the errors are heteroscedastic, then the resulting distribution of the measurements is not Gaussian. In this section we explore how the distribution behaves when the errors are heteroscedastic, by taking the same steps in the first section.\n",
    "A linear superposition of these Gaussian distributions with widths equal to $\\sqrt{1 + e_i^2}$ results in a non-Gaussian distribution."
   ]
  },
  {
   "cell_type": "markdown",
   "id": "e83b0c49",
   "metadata": {
    "colab_type": "text",
    "id": "eodowBfz1Tfa"
   },
   "source": [
    "### 1. Create distributions\n",
    "The distribution of $10^6$ points drawn from $\\mathcal{N}(0,1)$ and sampled with heteroscedastic Gaussian errors with widths, $e_i$, uniformly distributed between 0 and 3."
   ]
  },
  {
   "cell_type": "code",
   "execution_count": null,
   "id": "6f1f198d",
   "metadata": {
    "colab": {},
    "colab_type": "code",
    "id": "WR1d1RoB1Tfc"
   },
   "outputs": [],
   "source": [
    "# draw underlying points\n",
    "np.random.seed(0)\n",
    "Npts = int(1E6)\n",
    "x = np.random.normal(loc=0, scale=1, size=Npts)\n",
    "\n",
    "# add error for each point\n",
    "e = 3 * np.random.random(Npts)\n",
    "x += np.random.normal(0, e)\n",
    "\n",
    "# compute point statistics\n",
    "mu_sample, sig_sample = mean_sigma(x, ddof=1)\n",
    "med_sample, sigG_sample = median_sigmaG(x)"
   ]
  },
  {
   "cell_type": "markdown",
   "id": "d69e9ae9",
   "metadata": {
    "colab_type": "text",
    "id": "OfEFxtTv1Tfi"
   },
   "source": [
    "### 2. Plot fit results\n",
    "Here we have shadowed histogram representing the original x data generated. \n",
    "* The solid line shows the best-fit Gaussians centered on the sample median with widths equal to sample standard deviation $\\sigma$.\n",
    "* The dashed line shows the best-fit Gaussians centered on the sample median with widths equal to the quartile-based deviation $\\sigma_G$."
   ]
  },
  {
   "cell_type": "code",
   "execution_count": null,
   "id": "34052bdf",
   "metadata": {
    "colab": {
     "base_uri": "https://localhost:8080/",
     "height": 284
    },
    "colab_type": "code",
    "executionInfo": {
     "elapsed": 941,
     "status": "ok",
     "timestamp": 1596218352348,
     "user": {
      "displayName": "Brigitta Sipocz",
      "photoUrl": "https://lh3.googleusercontent.com/a-/AOh14GgSZ5lvx2m0gmkej0jid6to7H2aVpPwrDwknsPBVg=s64",
      "userId": "02384660603430700458"
     },
     "user_tz": 420
    },
    "id": "knaHwEpo1Tfj",
    "outputId": "bf40e95c-f16f-4ccd-c834-03bc762d46d3"
   },
   "outputs": [],
   "source": [
    "# plot the results\n",
    "fig, ax = plt.subplots(figsize=(5, 3.75))\n",
    "ax.hist(x, 100, histtype='stepfilled', alpha=0.2,\n",
    "        color='k', density=True)\n",
    "\n",
    "# plot the fitting normal curves\n",
    "x_sample = np.linspace(-15, 15, 1000)\n",
    "ax.plot(x_sample, norm(mu_sample, sig_sample).pdf(x_sample),\n",
    "        '-k', label='$\\sigma$ fit')\n",
    "ax.plot(x_sample, norm(med_sample, sigG_sample).pdf(x_sample),\n",
    "        '--k', label='$\\sigma_G$ fit')\n",
    "ax.legend()\n",
    "\n",
    "ax.set_xlim(-7.5, 7.5)\n",
    "ax.set_xlabel('$x$')\n",
    "ax.set_ylabel('$p(x)$')"
   ]
  },
  {
   "cell_type": "markdown",
   "id": "2920a88c",
   "metadata": {
    "colab_type": "text",
    "id": "3nglTbM_1Tfr"
   },
   "source": [
    "## Gaussian Distribution with Gaussian Errors\n",
    "The logarithm of the posterior probability density function for $\\mu$ and $\\sigma$, $L_p(\\mu,\\sigma)$, for a Gaussian distribution with **heteroscedastic Gaussian measurement errors** (sampled uniformly from the 0-3 interval), given by \n",
    "\n",
    "$$L_p = constant - \\frac{1}{2}\\sum^N_{i=1}(ln(\\sigma^2+e_i^2)+\\frac{(x_i-\\mu)^2}{\\sigma^2+e^2_i})$$"
   ]
  },
  {
   "cell_type": "markdown",
   "id": "d2a877f8",
   "metadata": {
    "colab_type": "text",
    "id": "jew4uzXO1Tfs"
   },
   "source": [
    "### 1. Define function\n",
    "We define function based on Gaussian Distribution with Gaussian errors as described above, with input values $\\mu = 1$ and $\\sigma = 1$, and a randomly generated sample has 10 points."
   ]
  },
  {
   "cell_type": "code",
   "execution_count": null,
   "id": "a6527f49",
   "metadata": {
    "colab": {},
    "colab_type": "code",
    "id": "PPmCXbqT1Tft"
   },
   "outputs": [],
   "source": [
    "def gaussgauss_logL(xi, ei, mu, sigma):\n",
    "    \"\"\"Equation 5.63: gaussian likelihood with gaussian errors\"\"\"\n",
    "    ndim = len(np.broadcast(sigma, mu).shape)\n",
    "\n",
    "    xi = xi.reshape(xi.shape + tuple(ndim * [1]))\n",
    "    ei = ei.reshape(ei.shape + tuple(ndim * [1]))\n",
    "\n",
    "    s2_e2 = sigma ** 2 + ei ** 2\n",
    "    return -0.5 * np.sum(np.log(s2_e2) + (xi - mu) ** 2 / s2_e2, 0)\n",
    "\n",
    "# Define the grid and compute logL\n",
    "np.random.seed(5)\n",
    "mu_true = 1.\n",
    "sigma_true = 1.\n",
    "N = 10\n",
    "ei = 3 * np.random.random(N)\n",
    "xi = np.random.normal(mu_true, np.sqrt(sigma_true ** 2 + ei ** 2))\n",
    "\n",
    "sigma = np.linspace(0.01, 5, 70)\n",
    "mu = np.linspace(-3, 5, 70)\n",
    "\n",
    "logL = gaussgauss_logL(xi, ei, mu, sigma[:, np.newaxis])\n",
    "logL -= logL.max()"
   ]
  },
  {
   "cell_type": "markdown",
   "id": "753ed751",
   "metadata": {
    "colab_type": "text",
    "id": "wOY3d4ew1Tf0"
   },
   "source": [
    "### 2. Generate Distribution diagram\n",
    "Next, we draw a Gaussian distribution using the logarithm of the posterior probability density finction for  $\\mu$ and $\\sigma$, $L_p(\\mu,\\sigma)$ in the equation described above.  \n",
    "  \n",
    "Note that the posterior pdf is not symmetric with respect to the $\\mu = 1$ line, and that the outermost contour, which encloses the region that contains 0.997 of the cumulative (integrated) posterior probability, allows solutions with $\\sigma = 0$."
   ]
  },
  {
   "cell_type": "code",
   "execution_count": null,
   "id": "33b28c69",
   "metadata": {
    "colab": {
     "base_uri": "https://localhost:8080/",
     "height": 289
    },
    "colab_type": "code",
    "executionInfo": {
     "elapsed": 1000,
     "status": "ok",
     "timestamp": 1596218356122,
     "user": {
      "displayName": "Brigitta Sipocz",
      "photoUrl": "https://lh3.googleusercontent.com/a-/AOh14GgSZ5lvx2m0gmkej0jid6to7H2aVpPwrDwknsPBVg=s64",
      "userId": "02384660603430700458"
     },
     "user_tz": 420
    },
    "id": "VysWAWcj1Tf1",
    "outputId": "3170710e-62db-4ee6-bd92-51cf6a7980cf"
   },
   "outputs": [],
   "source": [
    "# plot the results\n",
    "fig = plt.figure(figsize=(5, 3.75))\n",
    "plt.imshow(logL, origin='lower',\n",
    "           extent=(mu[0], mu[-1], sigma[0], sigma[-1]),\n",
    "           cmap=plt.cm.binary,\n",
    "           aspect='auto')\n",
    "plt.colorbar().set_label(r'$\\log(L)$')\n",
    "plt.clim(-5, 0)\n",
    "\n",
    "plt.text(0.5, 0.93,\n",
    "         (r'$L(\\mu,\\sigma)\\ \\mathrm{for}\\ \\bar{x}=1,\\ '\n",
    "          r'\\sigma_{\\rm true}=1,\\ n=10$'),\n",
    "         bbox=dict(ec='k', fc='w', alpha=0.9),\n",
    "         ha='center', va='center', transform=plt.gca().transAxes)\n",
    "\n",
    "plt.contour(mu, sigma, convert_to_stdev(logL),\n",
    "            levels=(0.683, 0.955, 0.997),\n",
    "            colors='k')\n",
    "\n",
    "plt.xlabel(r'$\\mu$')\n",
    "plt.ylabel(r'$\\sigma$')"
   ]
  },
  {
   "cell_type": "markdown",
   "id": "dcf170f5",
   "metadata": {
    "colab_type": "text",
    "id": "O9VjwYz11Tf9"
   },
   "source": [
    "## Gaussian Distribution with Gaussian Errors\n",
    "In this section we compare the **marginalized posterior pdfs** for $\\mu$ (left) and $\\sigma$ (right) for a Gaussian distribution with heteroscedastic Gaussian measurement errors (i.e., integrals over $\\sigma$ and $\\mu$ for the two-dimensional distribution), with the distributions of approximate estimates for $\\mu$ and $\\sigma$ (the median and given by \n",
    "\n",
    "$$\\sigma_0^2=\\zeta^2\\sigma^2_G-e^2_{50}$$\n",
    "\n",
    ", respectively) for 10,000 **bootstrap resamples** of the same data set. The true values of $\\mu$ and $\\sigma$ are indicated by the vertical dotted lines."
   ]
  },
  {
   "cell_type": "markdown",
   "id": "5a8c1e47",
   "metadata": {
    "colab_type": "text",
    "id": "PjXr63e31Tf-"
   },
   "source": [
    "### 1. Define functions"
   ]
  },
  {
   "cell_type": "code",
   "execution_count": null,
   "id": "8b3047d6",
   "metadata": {
    "colab": {},
    "colab_type": "code",
    "id": "ZcjCfA4X1Tf_"
   },
   "outputs": [],
   "source": [
    "def gaussgauss_logL(xi, ei, mu, sigma):\n",
    "    \"\"\"Equation 5.63: gaussian likelihood with gaussian errors\"\"\"\n",
    "    ndim = len(np.broadcast(sigma, mu).shape)\n",
    "\n",
    "    xi = xi.reshape(xi.shape + tuple(ndim * [1]))\n",
    "    ei = ei.reshape(ei.shape + tuple(ndim * [1]))\n",
    "\n",
    "    s2_e2 = sigma ** 2 + ei ** 2\n",
    "    return -0.5 * np.sum(np.log(s2_e2) + (xi - mu) ** 2 / s2_e2,\n",
    "                         -1 - ndim)\n",
    "\n",
    "\n",
    "def approximate_mu_sigma(xi, ei, axis=None):\n",
    "    \"\"\"Estimates of mu0 and sigma0 via equations 5.67 - 5.68\"\"\"\n",
    "    if axis is not None:\n",
    "        xi = np.rollaxis(xi, axis)\n",
    "        ei = np.rollaxis(ei, axis)\n",
    "        axis = 0\n",
    "\n",
    "    mu_approx, sigmaG = median_sigmaG(xi, axis=axis)\n",
    "    e50 = np.median(ei, axis=axis)\n",
    "    var_twiddle = (sigmaG ** 2 + ei ** 2 - e50 ** 2)\n",
    "    sigma_twiddle = np.sqrt(np.maximum(0, var_twiddle))\n",
    "\n",
    "    med = np.median(sigma_twiddle, axis=axis)\n",
    "    mu = np.mean(sigma_twiddle, axis=axis)\n",
    "\n",
    "    zeta = np.ones_like(mu)\n",
    "    zeta[mu != 0] = med[mu != 0] / mu[mu != 0]\n",
    "\n",
    "    var_approx = zeta ** 2 * sigmaG ** 2 - e50 ** 2\n",
    "    sigma_approx = np.sqrt(np.maximum(0, var_approx))\n",
    "\n",
    "    return mu_approx, sigma_approx"
   ]
  },
  {
   "cell_type": "markdown",
   "id": "3ea56ee0",
   "metadata": {
    "colab_type": "text",
    "id": "XP5beCO71TgE"
   },
   "source": [
    "### 2. Generate data\n",
    "We generate data with hesteroscedatic Gaussian measurement errors. And we calculate 10,000 bootstrap resamples of the same data set."
   ]
  },
  {
   "cell_type": "code",
   "execution_count": null,
   "id": "ef56572b",
   "metadata": {
    "colab": {},
    "colab_type": "code",
    "id": "PXp50Yai1TgF"
   },
   "outputs": [],
   "source": [
    "np.random.seed(5)\n",
    "mu_true = 1.\n",
    "sigma_true = 1.\n",
    "N = 10\n",
    "ei = 3 * np.random.random(N)\n",
    "xi = np.random.normal(mu_true, np.sqrt(sigma_true ** 2 + ei ** 2))\n",
    "\n",
    "sigma = np.linspace(0.001, 5, 70)\n",
    "mu = np.linspace(-3, 5, 70)\n",
    "\n",
    "logL = gaussgauss_logL(xi, ei, mu, sigma[:, np.newaxis])\n",
    "logL -= logL.max()\n",
    "L = np.exp(logL)\n",
    "\n",
    "p_sigma = L.sum(1)\n",
    "p_sigma /= (sigma[1] - sigma[0]) * p_sigma.sum()\n",
    "\n",
    "p_mu = L.sum(0)\n",
    "p_mu /= (mu[1] - mu[0]) * p_mu.sum()\n",
    "\n",
    "#------------------------------------------------------------\n",
    "# Compute bootstrap estimates\n",
    "Nbootstraps = 10000\n",
    "indices = np.random.randint(0, len(xi), (len(xi), 10000))\n",
    "\n",
    "xi_boot = xi[indices]\n",
    "ei_boot = ei[indices]\n",
    "\n",
    "mu_boot, sigma_boot = approximate_mu_sigma(xi_boot, ei_boot, 0)"
   ]
  },
  {
   "cell_type": "markdown",
   "id": "32c7bb2f",
   "metadata": {
    "colab_type": "text",
    "id": "S1Q4TqRu1TgK"
   },
   "source": [
    "### 3. Plot and compare data\n",
    "* The solid lines show marginalized posterior pdfs for $\\mu$ (left) and $\\sigma$ (right) for a Gaussian distribution with heteroscedastic Gaussian measurement errors (i.e., integrals over $\\sigma$ and $\\mu$ for the two-dimensional distribution shown in figure in the above section). \n",
    "* The dashed histograms show the distributions of approximate estimates for $\\mu$ and $\\sigma$ for bootstrap resamples of the same data set. \n",
    "* The true values of $\\mu$ and $\\sigma$ are indicated by the vertical dotted lines."
   ]
  },
  {
   "cell_type": "code",
   "execution_count": null,
   "id": "3a09a652",
   "metadata": {
    "colab": {
     "base_uri": "https://localhost:8080/",
     "height": 338
    },
    "colab_type": "code",
    "executionInfo": {
     "elapsed": 902,
     "status": "ok",
     "timestamp": 1596218361339,
     "user": {
      "displayName": "Brigitta Sipocz",
      "photoUrl": "https://lh3.googleusercontent.com/a-/AOh14GgSZ5lvx2m0gmkej0jid6to7H2aVpPwrDwknsPBVg=s64",
      "userId": "02384660603430700458"
     },
     "user_tz": 420
    },
    "id": "v4q-t_LV1TgO",
    "outputId": "0ed8e7ee-6ac6-47c1-805c-4d9fd5e0f079"
   },
   "outputs": [],
   "source": [
    "# Plot data\n",
    "fig = plt.figure(figsize=(10, 5))\n",
    "fig.subplots_adjust(left=0.1, right=0.95, wspace=0.24,\n",
    "                    bottom=0.15, top=0.9)\n",
    "\n",
    "# first plot the histograms for mu\n",
    "ax = fig.add_subplot(121)\n",
    "\n",
    "# plot the marginalized distribution\n",
    "ax.plot(mu, p_mu, '-k', label='marginalized')\n",
    "\n",
    "# plot the bootstrap distribution\n",
    "bins = np.linspace(-3, 5, 14)\n",
    "ax.hist(mu_boot, bins, histtype='step', linestyle='dashed',\n",
    "        color='b', density=True, label='approximate')\n",
    "\n",
    "# plot vertical line: newer matplotlib versions can use ax.vlines(x)\n",
    "ax.plot([mu_true, mu_true], [0, 1.0], ':k', lw=1)\n",
    "\n",
    "ax.set_xlabel(r'$\\mu$')\n",
    "ax.set_ylabel(r'$p(\\mu)$')\n",
    "\n",
    "ax.set_ylim(0, 1.0)\n",
    "\n",
    "\n",
    "# first plot the histograms for sigma\n",
    "ax = fig.add_subplot(122)\n",
    "\n",
    "# plot the marginalized distribution\n",
    "ax.plot(sigma, p_sigma, '-k', label='marginalized')\n",
    "\n",
    "# plot the bootstrap distribution\n",
    "bins = np.linspace(0, 5, 31)\n",
    "ax.hist(sigma_boot, bins, histtype='step', linestyle='dashed',\n",
    "        color='b', density=True, label='approximate')\n",
    "\n",
    "# plot vertical line: newer matplotlib versions can use ax.vlines(x)\n",
    "ax.plot([sigma_true, sigma_true], [0, 1.0], ':k', lw=1)\n",
    "\n",
    "ax.set_xlabel(r'$\\sigma$')\n",
    "ax.set_ylabel(r'$p(\\sigma)$')\n",
    "ax.legend(loc=1, prop=dict(size=8))\n",
    "\n",
    "ax.set_xlim(0, 5.0)\n",
    "ax.set_ylim(0, 1.0)\n",
    "\n",
    "plt.show()"
   ]
  },
  {
   "cell_type": "code",
   "execution_count": null,
   "id": "3a48548c",
   "metadata": {
    "colab": {},
    "colab_type": "code",
    "id": "dx8MRBAI1TgS"
   },
   "outputs": [],
   "source": []
  }
 ],
 "metadata": {
  "jupytext": {
   "formats": "ipynb,md:myst",
   "text_representation": {
    "extension": ".md",
    "format_name": "myst",
    "format_version": 0.13,
    "jupytext_version": "1.11.1"
   }
  },
  "kernelspec": {
   "display_name": "Python 3",
   "language": "python",
   "name": "python3"
  },
  "source_map": [
   15,
   20,
   28,
   32,
   47,
   70,
   76,
   98,
   104,
   144,
   173,
   178,
   199,
   203,
   220,
   225,
   234,
   239,
   298,
   310,
   377,
   385,
   390,
   409,
   416,
   452,
   459,
   464,
   494,
   501,
   542,
   551,
   555,
   596,
   601,
   637,
   644,
   711
  ]
 },
 "nbformat": 4,
 "nbformat_minor": 5
}