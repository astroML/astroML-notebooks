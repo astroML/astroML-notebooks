{
 "cells": [
  {
   "cell_type": "markdown",
   "metadata": {
    "colab_type": "text",
    "id": "XytOYGPU31rE"
   },
   "source": [
    "\n",
    "# Gaussian Mixture Models Example"
   ]
  },
  {
   "cell_type": "markdown",
   "metadata": {
    "colab_type": "text",
    "id": "BU7xAynh31rL"
   },
   "source": [
    "## Introduction\n",
    "**Gaussian mixture model** is a relatively simple and straightfoward numerical method on obtaining data likelihood function, and expectation maximization algorithm for maximizing the likelihood.  \n",
    "The likelihood of a datum $x_i$ for a Gaussian mixture model is given by  \n",
    "\n",
    "$$p(x_i|\\theta) = \\sum_{j=1}^{M} \\alpha_{j}\\mathcal{N}(\\mu_j, \\sigma_j)$$  \n",
    "\n",
    "where vector of parameters $\\theta$ is estimated from Gaussian with parameters $\\mu_j$ and $\\sigma_j$.   \n",
    "$\\alpha_j$ is the normalization factor for each Gaussian, with $\\sum_{j=1}^{M} \\alpha_{j} = 1$.   \n",
    "M is given.\n",
    "  \n",
    "Both **Akaike information criterion (AIC)** and **Bayesian information criterion (BIC)** are scoring systems for model comparisons in classical statistics dealing with models with different numbers of free parameters.  \n",
    "\n",
    "Specifically, **AIC** is computed as\n",
    "\n",
    "$$AIC \\equiv -2 ln(L^0(M)) + 2k + \\frac{2k(k+1)}{N-k-1}$$  \n",
    "\n",
    "**BIC** is computed as\n",
    "\n",
    "$$BIC \\equiv -2ln[L^0(M)] + k lnN$$  \n",
    "  \n",
    "In this notebook, we are going to apply Gaussian mixture model on a dataset of stellar metallicity. Then we will use AIC, and BIC for model comparisons, and then plot the best scored model in BIC.   "
   ]
  },
  {
   "cell_type": "markdown",
   "metadata": {
    "colab_type": "text",
    "id": "MvPNOV6U31rN"
   },
   "source": [
    "### 1. Import data and functions\n",
    "The main function we use in this section is GaussianMixture from sklearn package. The data we use in the example is from a subset of SEGUE Stellar Parameters data, in which the parameters are estimated using (SEGUE Stellar Parameters Pipeline). Data reference from [Beers et al 2006](https://ui.adsabs.harvard.edu/abs/2006IAUJD..13E..26B/abstract)."
   ]
  },
  {
   "cell_type": "code",
   "execution_count": 4,
   "metadata": {
    "colab": {},
    "colab_type": "code",
    "executionInfo": {
     "elapsed": 2984,
     "status": "ok",
     "timestamp": 1593474080152,
     "user": {
      "displayName": "Zhouyangguang Zhao",
      "photoUrl": "",
      "userId": "12804106343770884783"
     },
     "user_tz": 420
    },
    "id": "_vFrigmZ31rQ"
   },
   "outputs": [],
   "source": [
    "import numpy as np\n",
    "from matplotlib import pyplot as plt\n",
    "\n",
    "from sklearn.mixture import GaussianMixture\n",
    "\n",
    "from astroML.datasets import fetch_sdss_sspp\n",
    "from astroML.plotting.tools import draw_ellipse"
   ]
  },
  {
   "cell_type": "markdown",
   "metadata": {
    "colab_type": "text",
    "id": "WjBVfonm31rc"
   },
   "source": [
    "### 2. Get the Segue Stellar Parameters Pipeline data"
   ]
  },
  {
   "cell_type": "code",
   "execution_count": 5,
   "metadata": {
    "colab": {},
    "colab_type": "code",
    "executionInfo": {
     "elapsed": 7100,
     "status": "ok",
     "timestamp": 1593474088730,
     "user": {
      "displayName": "Zhouyangguang Zhao",
      "photoUrl": "",
      "userId": "12804106343770884783"
     },
     "user_tz": 420
    },
    "id": "gAxghC9j31re"
   },
   "outputs": [],
   "source": [
    "data = fetch_sdss_sspp(cleaned=True)\n",
    "X = np.vstack([data['FeH'], data['alphFe']]).T\n",
    "\n",
    "# truncate dataset for speed\n",
    "X = X[::5]"
   ]
  },
  {
   "cell_type": "markdown",
   "metadata": {
    "colab_type": "text",
    "id": "W-mNjmDL31rn"
   },
   "source": [
    "### 3. Compute Gaussian Mixture models & AIC/BIC\n",
    "We calculate Gaussian Mixture model using compute_GaussianMixture, and take AIC/BIC from calculated models. \n",
    "We will evaluate between 1 and 13 Gaussian components of the model, and pick the number of components with the lowest BIC score."
   ]
  },
  {
   "cell_type": "code",
   "execution_count": 6,
   "metadata": {
    "colab": {
     "base_uri": "https://localhost:8080/",
     "height": 51
    },
    "colab_type": "code",
    "executionInfo": {
     "elapsed": 6216,
     "status": "ok",
     "timestamp": 1593474091569,
     "user": {
      "displayName": "Zhouyangguang Zhao",
      "photoUrl": "",
      "userId": "12804106343770884783"
     },
     "user_tz": 420
    },
    "id": "X98NRXm931ro",
    "outputId": "db332f43-a979-4380-c11c-bd4276a8d9e1"
   },
   "outputs": [
    {
     "name": "stdout",
     "output_type": "stream",
     "text": [
      "best fit converged: True\n",
      "BIC: n_components =  5\n"
     ]
    }
   ],
   "source": [
    "N = np.arange(1, 14)\n",
    "\n",
    "def compute_GaussianMixture(N, covariance_type='full', max_iter=1000):\n",
    "    models = [None for n in N]\n",
    "    for i in range(len(N)):\n",
    "        models[i] = GaussianMixture(n_components=N[i], max_iter=max_iter,\n",
    "                                    covariance_type=covariance_type)\n",
    "        models[i].fit(X)\n",
    "    return models\n",
    "\n",
    "models = compute_GaussianMixture(N)\n",
    "\n",
    "AIC = [m.aic(X) for m in models]\n",
    "BIC = [m.bic(X) for m in models]\n",
    "\n",
    "i_best = np.argmin(BIC)\n",
    "gmm_best = models[i_best]\n",
    "print(\"best fit converged:\", gmm_best.converged_)\n",
    "print(\"BIC: n_components =  %i\" % N[i_best])"
   ]
  },
  {
   "cell_type": "markdown",
   "metadata": {
    "colab_type": "text",
    "id": "7qLsERlT31ru"
   },
   "source": [
    "### 4. Compute 2D density"
   ]
  },
  {
   "cell_type": "code",
   "execution_count": null,
   "metadata": {
    "colab": {},
    "colab_type": "code",
    "id": "Xq_8ns1-31rv"
   },
   "outputs": [],
   "source": [
    "FeH_bins = 51\n",
    "alphFe_bins = 51\n",
    "H, FeH_bins, alphFe_bins = np.histogram2d(data['FeH'], data['alphFe'],\n",
    "                                          (FeH_bins, alphFe_bins))\n",
    "\n",
    "Xgrid = np.array(list(map(np.ravel,\n",
    "                          np.meshgrid(0.5 * (FeH_bins[:-1]\n",
    "                                             + FeH_bins[1:]),\n",
    "                                      0.5 * (alphFe_bins[:-1]\n",
    "                                             + alphFe_bins[1:]))))).T\n",
    "log_dens = gmm_best.score_samples(Xgrid).reshape((51, 51))"
   ]
  },
  {
   "cell_type": "markdown",
   "metadata": {
    "colab_type": "text",
    "id": "hWE145v631r0"
   },
   "source": [
    "### 5. Plot true data density"
   ]
  },
  {
   "cell_type": "code",
   "execution_count": null,
   "metadata": {
    "colab": {
     "base_uri": "https://localhost:8080/",
     "height": 229
    },
    "colab_type": "code",
    "executionInfo": {
     "elapsed": 676,
     "status": "ok",
     "timestamp": 1593467643793,
     "user": {
      "displayName": "Brigitta Sipocz",
      "photoUrl": "https://lh3.googleusercontent.com/a-/AOh14GgSZ5lvx2m0gmkej0jid6to7H2aVpPwrDwknsPBVg=s64",
      "userId": "02384660603430700458"
     },
     "user_tz": 420
    },
    "id": "rkyVPTYJ31r1",
    "outputId": "297ff84f-c5e2-45e7-d055-405956d39947"
   },
   "outputs": [
    {
     "data": {
      "image/png": "[encoded data removed]",
      "text/plain": [
       "<Figure size 216x216 with 1 Axes>"
      ]
     },
     "metadata": {
      "needs_background": "light",
      "tags": []
     },
     "output_type": "display_data"
    }
   ],
   "source": [
    "fig = plt.figure(figsize=(3, 3))\n",
    "\n",
    "# define plot_figure to plot all figures with the same format.\n",
    "def plot_figure(number, data, text):\n",
    "    ax = fig.add_subplot(number)\n",
    "    ax.imshow(data,\n",
    "              origin='lower', interpolation='nearest', aspect='auto',\n",
    "              extent=[FeH_bins[0], FeH_bins[-1],\n",
    "                      alphFe_bins[0], alphFe_bins[-1]],\n",
    "              cmap=plt.cm.binary)\n",
    "    ax.xaxis.set_major_locator(plt.MultipleLocator(0.3))\n",
    "    ax.set_xlabel(r'$\\rm [Fe/H]$')\n",
    "    ax.set_xlim(-1.101, 0.101)\n",
    "    ax.text(0.93, 0.93, text,\n",
    "            va='top', ha='right', transform=ax.transAxes)\n",
    "    ax.set_ylim(alphFe_bins[0], alphFe_bins[-1])\n",
    "    return ax\n",
    "\n",
    "ax = plot_figure(111, H.T, \"Input\")\n",
    "ax.set_ylabel(r'$\\rm [\\alpha/Fe]$')\n",
    "plt.show()"
   ]
  },
  {
   "cell_type": "markdown",
   "metadata": {
    "colab_type": "text",
    "id": "Amd_in3D31r5"
   },
   "source": [
    "### 6. Plot AIC/BIC\n",
    "We pick the N value for smallest score in BIC for the following calculations."
   ]
  },
  {
   "cell_type": "code",
   "execution_count": null,
   "metadata": {
    "colab": {
     "base_uri": "https://localhost:8080/",
     "height": 242
    },
    "colab_type": "code",
    "executionInfo": {
     "elapsed": 689,
     "status": "ok",
     "timestamp": 1593467646597,
     "user": {
      "displayName": "Brigitta Sipocz",
      "photoUrl": "https://lh3.googleusercontent.com/a-/AOh14GgSZ5lvx2m0gmkej0jid6to7H2aVpPwrDwknsPBVg=s64",
      "userId": "02384660603430700458"
     },
     "user_tz": 420
    },
    "id": "746Ub1bc31r6",
    "outputId": "42ef64b3-75d4-47d4-fb26-85696c138021"
   },
   "outputs": [
    {
     "data": {
      "text/plain": [
       "[None, None, None, None, None, None, None, None, None, None, None, None]"
      ]
     },
     "execution_count": 10,
     "metadata": {
      "tags": []
     },
     "output_type": "execute_result"
    },
    {
     "data": {
      "image/png": "[encoded data removed]",
      "text/plain": [
       "<Figure size 216x216 with 1 Axes>"
      ]
     },
     "metadata": {
      "needs_background": "light",
      "tags": []
     },
     "output_type": "display_data"
    }
   ],
   "source": [
    "fig = plt.figure(figsize=(3,3))\n",
    "ax = fig.add_subplot(111)\n",
    "ax.plot(N, AIC, '-k', label='AIC')\n",
    "ax.plot(N, BIC, ':k', label='BIC')\n",
    "ax.legend(loc=1)\n",
    "ax.set_xlabel('N components')\n",
    "plt.setp(ax.get_yticklabels(), fontsize=7)"
   ]
  },
  {
   "cell_type": "markdown",
   "metadata": {
    "colab_type": "text",
    "id": "t4KWrLYh31sC"
   },
   "source": [
    "### 7. Best configurations for BIC\n",
    "Taking N = 5 components as the result of BIC evaluation, we plot the best estimated model.   \n",
    "The reconstructed density are in grayscale. The Gaussians are solid ellipses in the figure. "
   ]
  },
  {
   "cell_type": "code",
   "execution_count": null,
   "metadata": {
    "colab": {
     "base_uri": "https://localhost:8080/",
     "height": 246
    },
    "colab_type": "code",
    "executionInfo": {
     "elapsed": 759,
     "status": "ok",
     "timestamp": 1593467649301,
     "user": {
      "displayName": "Brigitta Sipocz",
      "photoUrl": "https://lh3.googleusercontent.com/a-/AOh14GgSZ5lvx2m0gmkej0jid6to7H2aVpPwrDwknsPBVg=s64",
      "userId": "02384660603430700458"
     },
     "user_tz": 420
    },
    "id": "UXQfNd8X31sC",
    "outputId": "7a71342a-2bd6-4511-9574-562f6109bb52"
   },
   "outputs": [
    {
     "data": {
      "text/plain": [
       "Text(0, 0.5, '$\\\\rm [\\\\alpha/Fe]$')"
      ]
     },
     "execution_count": 11,
     "metadata": {
      "tags": []
     },
     "output_type": "execute_result"
    },
    {
     "data": {
      "image/png": "[encoded data removed]",
      "text/plain": [
       "<Figure size 216x216 with 1 Axes>"
      ]
     },
     "metadata": {
      "needs_background": "light",
      "tags": []
     },
     "output_type": "display_data"
    }
   ],
   "source": [
    "fig = plt.figure(figsize=(3,3))\n",
    "\n",
    "ax = plot_figure(111, np.exp(log_dens), \"Converged\")\n",
    "\n",
    "ax.scatter(gmm_best.means_[:, 0], gmm_best.means_[:, 1], c='w')\n",
    "for mu, C, w in zip(gmm_best.means_, gmm_best.covariances_, gmm_best.weights_):\n",
    "    draw_ellipse(mu, C, scales=[1.5], ax=ax, fc='none', ec='k')\n",
    "\n",
    "ax.set_ylabel(r'$\\rm [\\alpha/Fe]$')"
   ]
  },
  {
   "cell_type": "markdown",
   "metadata": {
    "colab_type": "text",
    "id": "xfO25Xui31sF"
   },
   "source": [
    "### 8. Compare input data and converged model\n",
    "We plot the input true density distribution and best scored model from BIC in comparison. As a result, we find component number = 5 best discribes this metallicity dataset. "
   ]
  },
  {
   "cell_type": "code",
   "execution_count": null,
   "metadata": {
    "colab": {
     "base_uri": "https://localhost:8080/",
     "height": 229
    },
    "colab_type": "code",
    "executionInfo": {
     "elapsed": 744,
     "status": "ok",
     "timestamp": 1593467651402,
     "user": {
      "displayName": "Brigitta Sipocz",
      "photoUrl": "https://lh3.googleusercontent.com/a-/AOh14GgSZ5lvx2m0gmkej0jid6to7H2aVpPwrDwknsPBVg=s64",
      "userId": "02384660603430700458"
     },
     "user_tz": 420
    },
    "id": "8aUrq0nK31sF",
    "outputId": "b53d23d6-acc6-49b6-c778-b6a2b1201765"
   },
   "outputs": [
    {
     "data": {
      "image/png": "[encoded data removed]",
      "text/plain": [
       "<Figure size 432x216 with 2 Axes>"
      ]
     },
     "metadata": {
      "needs_background": "light",
      "tags": []
     },
     "output_type": "display_data"
    }
   ],
   "source": [
    "fig = plt.figure(figsize=(6, 3))\n",
    "\n",
    "# plot density\n",
    "ax1 = plot_figure(121, H.T, \"Input\")\n",
    "ax1.set_ylabel(r'$\\rm [\\alpha/Fe]$')\n",
    "\n",
    "ax2 = plot_figure(122, np.exp(log_dens), \"Converged\")\n",
    "ax2.scatter(gmm_best.means_[:, 0], gmm_best.means_[:, 1], c='w')\n",
    "for mu, C, w in zip(gmm_best.means_, gmm_best.covariances_, gmm_best.weights_):\n",
    "    draw_ellipse(mu, C, scales=[1.5], ax=ax2, fc='none', ec='k')"
   ]
  },
  {
   "cell_type": "code",
   "execution_count": null,
   "metadata": {
    "colab": {},
    "colab_type": "code",
    "id": "Q4SLdn09EsH_"
   },
   "outputs": [],
   "source": []
  }
 ],
 "metadata": {
  "colab": {
   "name": "Figure6-6.ipynb",
   "provenance": [],
   "toc_visible": true
  },
  "jupytext": {
   "formats": "ipynb,md:myst"
  },
  "kernelspec": {
   "display_name": "Python 3",
   "language": "python",
   "name": "python3"
  },
  "language_info": {
   "codemirror_mode": {
    "name": "ipython",
    "version": 3
   },
   "file_extension": ".py",
   "mimetype": "text/x-python",
   "name": "python",
   "nbconvert_exporter": "python",
   "pygments_lexer": "ipython3",
   "version": "3.9.1"
  },
  "toc": {
   "base_numbering": 1,
   "nav_menu": {},
   "number_sections": true,
   "sideBar": true,
   "skip_h1_title": false,
   "title_cell": "Table of Contents",
   "title_sidebar": "Contents",
   "toc_cell": false,
   "toc_position": {},
   "toc_section_display": true,
   "toc_window_display": false
  }
 },
 "nbformat": 4,
 "nbformat_minor": 1
}
