{
 "cells": [
  {
   "cell_type": "markdown",
   "id": "fcb43971",
   "metadata": {},
   "source": [
    "# Searching for Structure in Point Data"
   ]
  },
  {
   "cell_type": "markdown",
   "id": "88dd7af5",
   "metadata": {},
   "source": [
    "### First we import data\n",
    "The data used in this chapter is a subset of SDSS spectroscope galaxy sample centered at SDSS \"Great Wall\"."
   ]
  },
  {
   "cell_type": "code",
   "execution_count": null,
   "id": "4bfe94b7",
   "metadata": {},
   "outputs": [],
   "source": [
    "%matplotlib inline\n",
    "\n",
    "import numpy as np\n",
    "from matplotlib import pyplot as plt\n",
    "from scipy import stats\n",
    "\n",
    "from sklearn.neighbors import KernelDensity\n",
    "\n",
    "from astroML.density_estimation import KNeighborsDensity\n",
    "from astropy.visualization import hist"
   ]
  },
  {
   "cell_type": "markdown",
   "id": "7c1a7898",
   "metadata": {},
   "source": [
    "The code below ensures the fonts in plots are rendered LaTex.  \n",
    "This function adjusts matplotlib settings for a uniform feel in the textbook.  \n",
    "Note that with usetex=True, fonts are rendered with LaTeX.  This may\n",
    "result in an error if LaTeX is not installed on your system.  In that case,\n",
    "you can set usetex to False."
   ]
  },
  {
   "cell_type": "code",
   "execution_count": null,
   "id": "e1fbfe83",
   "metadata": {},
   "outputs": [],
   "source": [
    "if \"setup_text_plots\" not in globals():\n",
    "    from astroML.plotting import setup_text_plots\n",
    "setup_text_plots(fontsize=8, usetex=True)"
   ]
  },
  {
   "cell_type": "markdown",
   "id": "edb94598",
   "metadata": {},
   "source": [
    "## Generate our data"
   ]
  },
  {
   "cell_type": "markdown",
   "id": "f0c50b9d",
   "metadata": {},
   "source": [
    "Generate our data: a mix of several Cauchy distributions\n",
    "this is the same data used in the Bayesian Blocks figure"
   ]
  },
  {
   "cell_type": "code",
   "execution_count": null,
   "id": "2a451167",
   "metadata": {},
   "outputs": [],
   "source": [
    "np.random.seed(0)\n",
    "N = 10000\n",
    "mu_gamma_f = [(5, 1.0, 0.1),\n",
    "              (7, 0.5, 0.5),\n",
    "              (9, 0.1, 0.1),\n",
    "              (12, 0.5, 0.2),\n",
    "              (14, 1.0, 0.1)]\n",
    "true_pdf = lambda x: sum([f * stats.cauchy(mu, gamma).pdf(x)\n",
    "                          for (mu, gamma, f) in mu_gamma_f])\n",
    "x = np.concatenate([stats.cauchy(mu, gamma).rvs(int(f * N))\n",
    "                    for (mu, gamma, f) in mu_gamma_f])\n",
    "np.random.shuffle(x)\n",
    "x = x[x > -10]\n",
    "x = x[x < 30]"
   ]
  },
  {
   "cell_type": "markdown",
   "id": "f4b0e014",
   "metadata": {},
   "source": [
    "### Generating Distribution\n",
    "plot the result of the generating distribution of the given dataset."
   ]
  },
  {
   "cell_type": "code",
   "execution_count": null,
   "id": "26c99328",
   "metadata": {},
   "outputs": [],
   "source": [
    "# adjust figure size\n",
    "fig = plt.figure(figsize=(5, 2.5))\n",
    "fig.subplots_adjust(bottom=0.08, top=0.95, right=0.95, hspace=0.1)\n",
    "ax = fig.add_subplot(111)\n",
    "t = np.linspace(-10, 30, 1000)\n",
    "\n",
    "# plot_generating_data(x_values) takes a row vector with x values as parameter \n",
    "# and plots the generating distribution of the given data using true_pdf() function.\n",
    "def plot_generating_data(x_values):\n",
    "    ax.plot(x_values, true_pdf(x_values), ':', color='black', zorder=3,\n",
    "                label=\"Generating Distribution\")\n",
    "    # label the plot\n",
    "    ax.set_ylabel('$p(x)$')\n",
    "\n",
    "    # set axis limit\n",
    "    ax.set_xlim(0, 20)\n",
    "    ax.set_ylim(-0.01, 0.4001)\n",
    "\n",
    "plot_generating_data(t)\n",
    "ax.legend(loc='upper right')\n",
    "ax.set_xlabel('$x$')\n",
    "\n",
    "plt.show()"
   ]
  },
  {
   "cell_type": "markdown",
   "id": "e98501ec",
   "metadata": {},
   "source": [
    "## Plot the results"
   ]
  },
  {
   "cell_type": "markdown",
   "id": "40108a06",
   "metadata": {},
   "source": [
    "### Kernel Density Estimation (KDE)"
   ]
  },
  {
   "cell_type": "markdown",
   "id": "6397b31d",
   "metadata": {},
   "source": [
    "We often use Gaussian Kernel in KDE. Function $K(u)$ represents the weight at a given point, which is normalized such that $\\int K(u)du = 1$.  \n",
    "For a Gaussian Kernel:\n",
    "$$K(u) = \\frac{1}{ {2\\pi}^{\\frac{D}{2}} } e^{\\frac{-{u}^2}{2}}$$"
   ]
  },
  {
   "cell_type": "code",
   "execution_count": null,
   "id": "6610b4ba",
   "metadata": {},
   "outputs": [],
   "source": [
    "# with functions\n",
    "\n",
    "# adjust figure size\n",
    "fig = plt.figure(figsize=(5, 5))\n",
    "fig.subplots_adjust(bottom=0.08, top=0.95, right=0.95, hspace=0.1)\n",
    "subplots = (211, 212)\n",
    "\n",
    "# set N values to be 500 and 5000\n",
    "N_values = (500, 5000)\n",
    "\n",
    "# plot_kde(x_values) takes a row vector with x values as a parameter, computes the and plots KDE at x.\n",
    "def plot_kde(x_values):\n",
    "    kde = KernelDensity(bandwidth=0.1, kernel='gaussian')\n",
    "    kde.fit(xN[:, None])\n",
    "    dens_kde = np.exp(kde.score_samples(t[:, None]))\n",
    "    ax.plot(x_values, dens_kde, '-', color='black', zorder=3,\n",
    "            label=\"Kernel Density (h=0.1)\")\n",
    "\n",
    "    \n",
    "for N, subplot in zip(N_values, subplots):\n",
    "    ax = fig.add_subplot(subplot)\n",
    "    xN = x[:N]\n",
    "    \n",
    "    # plot generating data in comparison with KDE\n",
    "    plot_generating_data(t)\n",
    "    plot_kde(t)\n",
    "    ax.plot(xN, -0.005 * np.ones(len(xN)), '|k')\n",
    "    \n",
    "    # make label and legend to the plot\n",
    "    ax.legend(loc='upper right')\n",
    "    ax.text(0.02, 0.95, \"%i points\" % N, ha='left', va='top',\n",
    "            transform=ax.transAxes)\n",
    "\n",
    "    if subplot == 212:\n",
    "        ax.set_xlabel('$x$')\n",
    "\n",
    "plt.show()"
   ]
  },
  {
   "cell_type": "code",
   "execution_count": null,
   "id": "d165f5e6",
   "metadata": {},
   "outputs": [],
   "source": [
    "# without functions\n",
    "fig = plt.figure(figsize=(5, 5))\n",
    "fig.subplots_adjust(bottom=0.08, top=0.95, right=0.95, hspace=0.1)\n",
    "N_values = (500, 5000)\n",
    "subplots = (211, 212)\n",
    "k_values = (10, 100)\n",
    "\n",
    "for N, k, subplot in zip(N_values, k_values, subplots):\n",
    "    ax = fig.add_subplot(subplot)\n",
    "    xN = x[:N]\n",
    "    t = np.linspace(-10, 30, 1000)\n",
    "    \n",
    "# Compute density with KDE\n",
    "    kde = KernelDensity(bandwidth=0.1, kernel='gaussian')\n",
    "    kde.fit(xN[:, None])\n",
    "    dens_kde = np.exp(kde.score_samples(t[:, None]))\n",
    "    \n",
    "# plot the results\n",
    "    ax.plot(t, true_pdf(t), ':', color='black', zorder=3,\n",
    "            label=\"Generating Distribution\")\n",
    "    ax.plot(xN, -0.005 * np.ones(len(xN)), '|k')\n",
    "    \n",
    "    ax.plot(t, dens_kde, '-', color='black', zorder=3,\n",
    "            label=\"Kernel Density (h=0.1)\")\n",
    "    \n",
    "    # label the plot\n",
    "    ax.text(0.02, 0.95, \"%i points\" % N, ha='left', va='top',\n",
    "            transform=ax.transAxes)\n",
    "    ax.set_ylabel('$p(x)$')\n",
    "    ax.legend(loc='upper right')\n",
    "    \n",
    "    # set axis limit\n",
    "    ax.set_xlim(0, 20)\n",
    "    ax.set_ylim(-0.01, 0.4001)\n",
    "    \n",
    "    if subplot == 212:\n",
    "        ax.set_xlabel('$x$')\n",
    "\n",
    "plt.show()"
   ]
  },
  {
   "cell_type": "markdown",
   "id": "448477f7",
   "metadata": {},
   "source": [
    "### Nearest-Neighbor Density Estimation"
   ]
  },
  {
   "cell_type": "markdown",
   "id": "6d2275df",
   "metadata": {},
   "source": [
    "The code below plots generating distribution and a result from nearest-neighbor estimation."
   ]
  },
  {
   "cell_type": "code",
   "execution_count": null,
   "id": "0c8534cf",
   "metadata": {},
   "outputs": [],
   "source": [
    "# with functions\n",
    "fig = plt.figure(figsize=(5, 5))\n",
    "fig.subplots_adjust(bottom=0.08, top=0.95, right=0.95, hspace=0.1)\n",
    "\n",
    "k_values = (10, 100)\n",
    "\n",
    "# plot_nearest_neighor(x_values) takes a row vector with x values as a parameter\n",
    "# computes the and plots density with Bayesian nearest neighbors at x.\n",
    "def plot_nearest_neighbor(x_values):\n",
    "    nbrs = KNeighborsDensity('bayesian', n_neighbors=k).fit(xN[:, None])\n",
    "    dens_nbrs = nbrs.eval(t[:, None]) / N\n",
    "    ax.plot(x_values, dens_nbrs, '-', lw=1.5, color='gray', zorder=2,\n",
    "            label=\"Nearest Neighbors (k=%i)\" % k)\n",
    "\n",
    "for N, k, subplot in zip(N_values, k_values, subplots):\n",
    "    ax = fig.add_subplot(subplot)\n",
    "    xN = x[:N]\n",
    "\n",
    "    # plot generating data in comparison with nearest neighbor\n",
    "    plot_generating_data(t)\n",
    "    plot_nearest_neighbor(t)\n",
    "    ax.plot(xN, -0.005 * np.ones(len(xN)), '|k')\n",
    "    \n",
    "    # make label and legend to the plot\n",
    "    ax.legend(loc='upper right')\n",
    "    ax.text(0.02, 0.95, \"%i points\" % N, ha='left', va='top',\n",
    "            transform=ax.transAxes)\n",
    "\n",
    "    if subplot == 212:\n",
    "        ax.set_xlabel('$x$')\n",
    "\n",
    "plt.show()"
   ]
  },
  {
   "cell_type": "code",
   "execution_count": null,
   "id": "86b60605",
   "metadata": {},
   "outputs": [],
   "source": [
    "# without function\n",
    "fig = plt.figure(figsize=(5, 5))\n",
    "fig.subplots_adjust(bottom=0.08, top=0.95, right=0.95, hspace=0.1)\n",
    "subplots = (211, 212)\n",
    "N_values = (500, 5000)\n",
    "k_values = (10, 100)\n",
    "\n",
    "for N, k, subplot in zip(N_values, k_values, subplots):\n",
    "    ax = fig.add_subplot(subplot)\n",
    "    xN = x[:N]\n",
    "    t = np.linspace(-10, 30, 1000)\n",
    "    \n",
    "    # Compute density with Bayesian nearest neighbors\n",
    "    nbrs = KNeighborsDensity('bayesian', n_neighbors=k).fit(xN[:, None])\n",
    "    dens_nbrs = nbrs.eval(t[:, None]) / N\n",
    "    \n",
    "    # plot the results\n",
    "    ax.plot(t, true_pdf(t), ':', color='black', zorder=3,\n",
    "            label=\"Generating Distribution\")\n",
    "    ax.plot(t, dens_nbrs, '-', lw=1.5, color='gray', zorder=2,\n",
    "            label=\"Nearest Neighbors (k=%i)\" % k)\n",
    "    ax.plot(xN, -0.005 * np.ones(len(xN)), '|k')\n",
    "             \n",
    "    # label the plot\n",
    "    ax.text(0.02, 0.95, \"%i points\" % N, ha='left', va='top',\n",
    "            transform=ax.transAxes)\n",
    "    ax.set_ylabel('$p(x)$')\n",
    "    ax.legend(loc='upper right')\n",
    "\n",
    "    if subplot == 212:\n",
    "        ax.set_xlabel('$x$')\n",
    "\n",
    "    ax.set_xlim(0, 20)\n",
    "    ax.set_ylim(-0.01, 0.4001)\n",
    "\n",
    "plt.show()"
   ]
  },
  {
   "cell_type": "markdown",
   "id": "4180227d",
   "metadata": {},
   "source": [
    "### Bayesian Blocks"
   ]
  },
  {
   "cell_type": "markdown",
   "id": "16ebbdcb",
   "metadata": {},
   "source": [
    "The code below plots generating distribution and Baysian block analysis."
   ]
  },
  {
   "cell_type": "code",
   "execution_count": null,
   "id": "96811389",
   "metadata": {},
   "outputs": [],
   "source": [
    "# with functions\n",
    "fig = plt.figure(figsize=(5, 5))\n",
    "fig.subplots_adjust(bottom=0.08, top=0.95, right=0.95, hspace=0.1)\n",
    "\n",
    "# plot_bayesian_block(x_values) takes a row vector with x values as a parameter\n",
    "# computes the and plots the estimated Bayesian blocks using histogram.\n",
    "def plot_bayesian_block(x_values):\n",
    "    hist(x_values, bins='blocks', ax=ax, density=True, zorder=1,\n",
    "         histtype='stepfilled', color='k', alpha=0.2,\n",
    "         label=\"Bayesian Blocks\")\n",
    "\n",
    "for N, k, subplot in zip(N_values, k_values, subplots):\n",
    "    ax = fig.add_subplot(subplot)\n",
    "    xN = x[:N]\n",
    "\n",
    "    # plot generating data in comparison with bayesian blocks\n",
    "    plot_generating_data(t)\n",
    "    plot_bayesian_block(xN)\n",
    "    ax.plot(xN, -0.005 * np.ones(len(xN)), '|k')\n",
    "\n",
    "    # make label and legend to the plot\n",
    "    ax.text(0.02, 0.95, \"%i points\" % N, ha='left', va='top',\n",
    "            transform=ax.transAxes)\n",
    "    ax.legend(loc='upper right')\n",
    "\n",
    "    if subplot == 212:\n",
    "        ax.set_xlabel('$x$')\n",
    "\n",
    "plt.show()"
   ]
  },
  {
   "cell_type": "code",
   "execution_count": null,
   "id": "c73a362c",
   "metadata": {},
   "outputs": [],
   "source": [
    "# without functions\n",
    "fig = plt.figure(figsize=(5, 5))\n",
    "fig.subplots_adjust(bottom=0.08, top=0.95, right=0.95, hspace=0.1)\n",
    "N_values = (500, 5000)\n",
    "subplots = (211, 212)\n",
    "k_values = (10, 100)\n",
    "\n",
    "for N, k, subplot in zip(N_values, k_values, subplots):\n",
    "    ax = fig.add_subplot(subplot)\n",
    "    xN = x[:N]\n",
    "    t = np.linspace(-10, 30, 1000)\n",
    "    \n",
    "    ax.plot(t, true_pdf(t), ':', color='black', zorder=3,\n",
    "            label=\"Generating Distribution\")\n",
    "    ax.plot(xN, -0.005 * np.ones(len(xN)), '|k')\n",
    "    hist(xN, bins='blocks', ax=ax, density=True, zorder=1,\n",
    "         histtype='stepfilled', color='k', alpha=0.2,\n",
    "         label=\"Bayesian Blocks\")\n",
    "    \n",
    "    # label the plot\n",
    "    ax.text(0.02, 0.95, \"%i points\" % N, ha='left', va='top',\n",
    "            transform=ax.transAxes)\n",
    "    ax.set_ylabel('$p(x)$')\n",
    "    ax.legend(loc='upper right')\n",
    "\n",
    "    if subplot == 212:\n",
    "        ax.set_xlabel('$x$')\n",
    "\n",
    "    ax.set_xlim(0, 20)\n",
    "    ax.set_ylim(-0.01, 0.4001)\n",
    "\n",
    "plt.show()"
   ]
  },
  {
   "cell_type": "markdown",
   "id": "389dcb8f",
   "metadata": {},
   "source": [
    "### A comparison of the Three Estimations"
   ]
  },
  {
   "cell_type": "markdown",
   "id": "c02152a4",
   "metadata": {},
   "source": [
    "The code below plots results from all three estimations in two subplots for reference."
   ]
  },
  {
   "cell_type": "code",
   "execution_count": null,
   "id": "88bf65ee",
   "metadata": {},
   "outputs": [],
   "source": [
    "# with functions\n",
    "fig = plt.figure(figsize=(5, 5))\n",
    "fig.subplots_adjust(bottom=0.08, top=0.95, right=0.95, hspace=0.1)\n",
    "\n",
    "for N, k, subplot in zip(N_values, k_values, subplots):\n",
    "    ax = fig.add_subplot(subplot)\n",
    "    xN = x[:N]\n",
    "\n",
    "    # plot the results from three methods and generating data\n",
    "    plot_generating_data(t)\n",
    "    plot_bayesian_block(xN)\n",
    "    plot_nearest_neighbor(t)\n",
    "    plot_kde(t)\n",
    "    ax.plot(xN, -0.005 * np.ones(len(xN)), '|k')\n",
    "\n",
    "    # label the plot\n",
    "    ax.text(0.02, 0.95, \"%i points\" % N, ha='left', va='top',\n",
    "            transform=ax.transAxes)\n",
    "    ax.legend(loc='upper right')\n",
    "\n",
    "    if subplot == 212:\n",
    "        ax.set_xlabel('$x$')\n",
    "\n",
    "plt.show()"
   ]
  },
  {
   "cell_type": "code",
   "execution_count": null,
   "id": "9a451dc5",
   "metadata": {},
   "outputs": [],
   "source": [
    "# without functions\n",
    "fig = plt.figure(figsize=(5, 5))\n",
    "fig.subplots_adjust(bottom=0.08, top=0.95, right=0.95, hspace=0.1)\n",
    "N_values = (500, 5000)\n",
    "subplots = (211, 212)\n",
    "k_values = (10, 100)\n",
    "\n",
    "for N, k, subplot in zip(N_values, k_values, subplots):\n",
    "    ax = fig.add_subplot(subplot)\n",
    "    xN = x[:N]\n",
    "    t = np.linspace(-10, 30, 1000)\n",
    "    \n",
    "    # Compute density with KDE\n",
    "    kde = KernelDensity(bandwidth=0.1, kernel='gaussian')\n",
    "    kde.fit(xN[:, None])\n",
    "    dens_kde = np.exp(kde.score_samples(t[:, None]))\n",
    "\n",
    "    # Compute density with Bayesian nearest neighbors\n",
    "    nbrs = KNeighborsDensity('bayesian', n_neighbors=k).fit(xN[:, None])\n",
    "    dens_nbrs = nbrs.eval(t[:, None]) / N\n",
    "\n",
    "    # plot the results\n",
    "    ax.plot(t, true_pdf(t), ':', color='black', zorder=3,\n",
    "            label=\"Generating Distribution\")\n",
    "    ax.plot(xN, -0.005 * np.ones(len(xN)), '|k')\n",
    "    hist(xN, bins='blocks', ax=ax, density=True, zorder=1,\n",
    "         histtype='stepfilled', color='k', alpha=0.2,\n",
    "         label=\"Bayesian Blocks\")\n",
    "    ax.plot(t, dens_nbrs, '-', lw=1.5, color='gray', zorder=2,\n",
    "            label=\"Nearest Neighbors (k=%i)\" % k)\n",
    "    ax.plot(t, dens_kde, '-', color='black', zorder=3,\n",
    "            label=\"Kernel Density (h=0.1)\")\n",
    "\n",
    "    # label the plot\n",
    "    ax.text(0.02, 0.95, \"%i points\" % N, ha='left', va='top',\n",
    "            transform=ax.transAxes)\n",
    "    ax.set_ylabel('$p(x)$')\n",
    "    ax.legend(loc='upper right')\n",
    "\n",
    "    if subplot == 212:\n",
    "        ax.set_xlabel('$x$')\n",
    "\n",
    "    ax.set_xlim(0, 20)\n",
    "    ax.set_ylim(-0.01, 0.4001)\n",
    "\n",
    "plt.show()"
   ]
  },
  {
   "cell_type": "code",
   "execution_count": null,
   "id": "c9df8135",
   "metadata": {},
   "outputs": [],
   "source": []
  },
  {
   "cell_type": "code",
   "execution_count": null,
   "id": "3bd80a00",
   "metadata": {},
   "outputs": [],
   "source": []
  },
  {
   "cell_type": "code",
   "execution_count": null,
   "id": "f63ad85b",
   "metadata": {},
   "outputs": [],
   "source": []
  },
  {
   "cell_type": "code",
   "execution_count": null,
   "id": "b34a306f",
   "metadata": {},
   "outputs": [],
   "source": []
  }
 ],
 "metadata": {
  "jupytext": {
   "formats": "ipynb,md:myst",
   "text_representation": {
    "extension": ".md",
    "format_name": "myst",
    "format_version": 0.13,
    "jupytext_version": "1.11.1"
   }
  },
  "kernelspec": {
   "display_name": "Python 3",
   "language": "python",
   "name": "python3"
  },
  "source_map": [
   13,
   18,
   23,
   34,
   42,
   46,
   50,
   55,
   70,
   75,
   99,
   103,
   107,
   113,
   153,
   193,
   197,
   201,
   236,
   273,
   277,
   281,
   313,
   346,
   350,
   354,
   381,
   430,
   434,
   438,
   442
  ]
 },
 "nbformat": 4,
 "nbformat_minor": 5
}